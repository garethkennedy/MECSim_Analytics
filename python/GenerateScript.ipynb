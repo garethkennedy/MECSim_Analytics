{
 "cells": [
  {
   "cell_type": "markdown",
   "metadata": {},
   "source": [
    "<a id=\"top\"></a>\n",
    "# Generate script\n",
    "\n",
    "This notebook gives a documented methodology for generating scripts to automatically run MECSim over a range of parameters.\n",
    "\n",
    "In the parameters section we set the input parameters and simulation parameters used to generate a script that will run MECSim and the python analysis codes for each parameter set. These parameters are the electrochemical parameters, e.g. $k_0$ or $E^0$, contained in the \"Master.inp\" text file MECSim uses to simulate a current response.\n",
    "\n",
    "A prerequisite for running this script is to have installed [MECSim](http://www.garethkennedy.net/MECSim.html) and to have correctly set up a skeleton input file \"Master.sk\". The skeleton input file differs from the usual MECSim input file \"Master.inp\" in that it has labels for the parameters to be varied (e.g. \"\\$kzero\" and \"\\$Ezero\") in the correct locations. These labels must match the variable names below, **x_name**, **y_name** or more if more than 2 dimensions are required. \n",
    "\n",
    "This notebook will create a script that can be used to automatically run MECSim for each parameter set, compare the simulated current response to experimental data and finally run the Bayesian analysis to determine the optimal parameters as well as statistically determined error bars. More details are given in the **BayesianAnalysis.ipynb** notebook.\n",
    "\n",
    "The contents of this notebook are:\n",
    "- <p><a href=\"#ref_guide\">Practical guide</a></p>\n",
    "- <p><a href=\"#ref_paras\">Parameters</a></p>\n",
    "- <p><a href=\"#ref_postproc\">Post-processing parameters</a></p>\n",
    "- <p><a href=\"#ref_weights\">Set weights for comparison</a></p>\n",
    "- <p><a href=\"#ref_settings\">Output settings file</a></p>\n",
    "- <p><a href=\"#ref_prepscript\">Prepare script file</a></p>\n",
    "- <p><a href=\"#ref_genscript\">Generate script and parameter loop</a></p>\n",
    "\n",
    "<a id=\"ref_guide\"></a>\n",
    "## Practical guide\n",
    "\n",
    "\n",
    "This guide will answer practical questions such as where to copy all the files? How do I run MECSim over a range of parameters?\n",
    "\n",
    "Copy the following python scripts to the **python_dir** (default is \"python\"):\n",
    "1. HarmonicSplitter.py\n",
    "2. CompareSmoothed.py\n",
    "3. BayesianAnalysis.py (optional)\n",
    "4. SurfacePlotter.py (optional)\n",
    "\n",
    "Details of how they fit together in the loop are given <a href=\"#ref6\">here</a>.\n",
    "\n",
    "After running this script there will be two additional files that must be put into the **script_dir** (default is \"script\"):\n",
    "1. Master.sk\n",
    "2. run_mecsim_script.sh\n",
    "3. Settings.inp\n",
    "\n",
    "\n",
    "![title](MECSim_ScriptingChart.PNG)\n",
    "\n",
    "\n",
    "**NOTE: the skeleton input parameter file for MECSim, \"Master.sk\", must be setup before running the script output from this python script.**\n",
    "\n",
    "\n",
    "### Load required libraries\n",
    "\n"
   ]
  },
  {
   "cell_type": "code",
   "execution_count": 1,
   "metadata": {
    "collapsed": true
   },
   "outputs": [],
   "source": [
    "import numpy as np"
   ]
  },
  {
   "cell_type": "markdown",
   "metadata": {},
   "source": [
    "<a id=\"ref_paras\"></a>\n",
    "## Parameters\n",
    "\n",
    "### Set location of the python files\n",
    "\n",
    "Location is relative to the script that will be running. This script is required to be in the same location as the MECSim.exe file - as in the Docker image setup.\n",
    "\n",
    "Back to <a href=\"#top\">top</a>."
   ]
  },
  {
   "cell_type": "code",
   "execution_count": 2,
   "metadata": {
    "collapsed": true
   },
   "outputs": [],
   "source": [
    "# python dir contains all .py files\n",
    "python_dir = 'python/'\n",
    "#python_dir = './'\n",
    "# script dir contains script.sh (output here), Master.sk (user prepared) and Settings.inp (output here)\n",
    "script_dir = 'script/'\n",
    "# Master.inp dir - important for docker container vs local run\n",
    "output_dir = 'output/'"
   ]
  },
  {
   "cell_type": "markdown",
   "metadata": {},
   "source": [
    "### Names of variables\n",
    "\n",
    "Name mappings for master.sk"
   ]
  },
  {
   "cell_type": "code",
   "execution_count": 3,
   "metadata": {
    "collapsed": true
   },
   "outputs": [],
   "source": [
    "x_name = '$kzero'\n",
    "y_name = '$Ezero'"
   ]
  },
  {
   "cell_type": "markdown",
   "metadata": {},
   "source": [
    "### Set variable ranges"
   ]
  },
  {
   "cell_type": "code",
   "execution_count": 4,
   "metadata": {
    "collapsed": true
   },
   "outputs": [],
   "source": [
    "x_min = 0.50e-2\n",
    "x_max = 1.50e-2\n",
    "del_x = 5.0e-3\n",
    "\n",
    "y_min = 0.19\n",
    "y_max = 0.23\n",
    "del_y = 1.0e-2"
   ]
  },
  {
   "cell_type": "markdown",
   "metadata": {},
   "source": [
    "<a id=\"ref_postproc\"></a>\n",
    "## Post-processing parameters\n",
    "\n",
    "Automatic post processing. Will be added to the end of the script.\n",
    "\n",
    "Select if the least square values in the results file will be plotted as surface plot.\n",
    "\n",
    "Select if Bayesian analysis on the results file is to be automatically done (figures and output statistics sent to output directory)\n",
    "\n",
    "Back to <a href=\"#top\">top</a>."
   ]
  },
  {
   "cell_type": "code",
   "execution_count": 5,
   "metadata": {
    "collapsed": true
   },
   "outputs": [],
   "source": [
    "# select whether surface plotter to be used\n",
    "plot_surfaces = True\n",
    "# select whether Bayesian statistical analysis to be used\n",
    "bayesian_analysis = True"
   ]
  },
  {
   "cell_type": "markdown",
   "metadata": {},
   "source": [
    "### File names\n",
    "\n",
    "Results name - and if pre existing"
   ]
  },
  {
   "cell_type": "code",
   "execution_count": 6,
   "metadata": {
    "collapsed": true
   },
   "outputs": [],
   "source": [
    "results_name = 'results.txt'\n",
    "results_exists = False\n",
    "script_name = 'run_mecsim_script.sh'"
   ]
  },
  {
   "cell_type": "markdown",
   "metadata": {},
   "source": [
    "### Simulation file settings"
   ]
  },
  {
   "cell_type": "code",
   "execution_count": 7,
   "metadata": {
    "collapsed": true
   },
   "outputs": [],
   "source": [
    "Simulation_output_filename = 'MECSimOutput_Pot.txt'\n",
    "number_harmonics = 6  # number of harmonics (excluding the dc component - harmonic = 0)\n",
    "frequency_bandwidth = 1.    # only 1 needed for simulations"
   ]
  },
  {
   "cell_type": "markdown",
   "metadata": {},
   "source": [
    "### Comparison file settings\n",
    "\n",
    "Experimental file name"
   ]
  },
  {
   "cell_type": "code",
   "execution_count": 8,
   "metadata": {
    "collapsed": true
   },
   "outputs": [],
   "source": [
    "Experimental_filename = 'MECSim_Example.txt'\n",
    "needs_fft_conversion = True\n",
    "Experimental_FFT_output_filename = 'ExpSmoothed.txt'\n",
    "output_single_metric = True"
   ]
  },
  {
   "cell_type": "markdown",
   "metadata": {},
   "source": [
    "<a id=\"ref_weights\"></a>\n",
    "## Set weights for comparison\n",
    "\n",
    "Set weights on each harmonic (0 to $N_{harm}$) or default to equal weighting.\n",
    "\n",
    "Metric used in \"CompareSmoothed.py\" is to take the smoothed harmonics from \"HarmonicSplitter.py\" for both the experimental and simulated data (a function of parameters run by \"MECSim\"), calculated the least squares difference for each harmonic and combine them via\n",
    "$$\n",
    "S = \\sum_{j=0}^{n_{harm}} w_j LS_j\n",
    "$$\n",
    "where $n_{harm}$ is the number of harmonics, $j=0$ is the dc component and $LS_j$ is the relative least squares difference given by\n",
    "$$\n",
    "LS_j = \\frac{ \\sum_k^n \\left( i^{exp}_k - i^{sim}_k \\right)^2 }{ \\sum_k^n \\left( i^{exp}_k \\right)^2 }\n",
    "$$\n",
    "where $n$ is the total number of current ($i$), time and voltage points in the smoothed experiemental ($exp$) and simiulated ($sim$) data. The weights ($w_j$) for each harmonic (and dc component) are set as a vector of any sum, or left as the unweighted default of $w_j = 1$.\n",
    "\n",
    "Back to <a href=\"#top\">top</a>."
   ]
  },
  {
   "cell_type": "markdown",
   "metadata": {},
   "source": [
    "### Set weights\n",
    "\n",
    "Only needed if output_single_metric = True. Otherwise all LS$_j$ are output split by commas.\n",
    "\n",
    "Alter the following cell for custom weights. "
   ]
  },
  {
   "cell_type": "code",
   "execution_count": 9,
   "metadata": {
    "collapsed": true
   },
   "outputs": [],
   "source": [
    "# set to 1 if using weights (else 0)\n",
    "use_weights = 1\n",
    "# set weights as a numpy array with same length as number_harmonics + 1\n",
    "weights = np.array([0.5,1,1,0.5,0.3,0.1,0.05])\n"
   ]
  },
  {
   "cell_type": "markdown",
   "metadata": {},
   "source": [
    "Check that the number of weights for the number of harmonics is correct"
   ]
  },
  {
   "cell_type": "code",
   "execution_count": 10,
   "metadata": {
    "collapsed": true
   },
   "outputs": [],
   "source": [
    "if(number_harmonics+1 != len(weights)):\n",
    "    print \"WARNING: Found\", len(weights), \"weights when there are\", number_harmonics+1, \"harmonics (including dc)\"\n",
    "    if(number_harmonics+1<len(weights)):\n",
    "        print \"         Too many weights entered - clipping\"\n",
    "        weights = weights[:number_harmonics+1]\n",
    "    else:\n",
    "        print \"         Not enough weights entered - filling with zeros\"\n",
    "        weights.resize(number_harmonics+1)"
   ]
  },
  {
   "cell_type": "markdown",
   "metadata": {},
   "source": [
    "Convert np array to csv string (in case not python reading it in!)"
   ]
  },
  {
   "cell_type": "code",
   "execution_count": 11,
   "metadata": {
    "collapsed": false
   },
   "outputs": [
    {
     "name": "stdout",
     "output_type": "stream",
     "text": [
      "Weights: 0.5,1.0,1.0,0.5,0.3,0.1,0.05\n"
     ]
    }
   ],
   "source": [
    "txt_weights = ','.join(map(str, weights))\n",
    "print \"Weights:\", txt_weights"
   ]
  },
  {
   "cell_type": "markdown",
   "metadata": {},
   "source": [
    "### Script method"
   ]
  },
  {
   "cell_type": "code",
   "execution_count": 12,
   "metadata": {
    "collapsed": true
   },
   "outputs": [],
   "source": [
    "method_type = 'grid'"
   ]
  },
  {
   "cell_type": "markdown",
   "metadata": {},
   "source": [
    "<a id=\"ref_settings\"></a>\n",
    "## Output settings file\n",
    "\n",
    "This file encodes the simulation output filename (shouldn't change), number of harmonics, bandwidth frequency and the settings for the weights.\n",
    "\n",
    "Back to <a href=\"#top\">top</a>."
   ]
  },
  {
   "cell_type": "code",
   "execution_count": 13,
   "metadata": {
    "collapsed": true
   },
   "outputs": [],
   "source": [
    "f = open('Settings.inp', 'w')\n",
    "f.write(Simulation_output_filename + \"\\t# simulation output filename\\n\")\n",
    "f.write(str(number_harmonics) + \"\\t# number of harmonics\\n\")\n",
    "f.write(str(frequency_bandwidth) + \"\\t# bandwidth frequency (Hz)\\n\")\n",
    "iUseSingleMetric = 0\n",
    "if(output_single_metric or output_single_metric==1):\n",
    "    iUseSingleMetric = 1\n",
    "f.write(str(iUseSingleMetric) + \"\\t# 1=use single output metric value (else=0 and each harmonic treated separately\\n\")\n",
    "iUseWeights = 0\n",
    "if(use_weights or use_weights==1):\n",
    "    iUseWeights = 1\n",
    "f.write(str(iUseWeights) + \"\\t# apply different weights to each harmonic (0 to n_harm) - if =1 then weights set below\\n\")\n",
    "f.write(txt_weights)\n",
    "f.close()"
   ]
  },
  {
   "cell_type": "markdown",
   "metadata": {},
   "source": [
    "<a id=\"ref_prepscript\"></a>\n",
    "## Prepare script file\n",
    "\n",
    "Depending on the method type selected then output a text file in bash script format for running MECSim with the analysis tools.\n",
    "\n",
    "First set any by hand parameters. For example if you have a constant e0val=0.2 but want to keep the skeleton file general with $e0val in there. \n",
    "\n",
    "Note that you'll need to be careful to integrate these into the script generation yourself.\n",
    "\n",
    "Back to <a href=\"#top\">top</a>."
   ]
  },
  {
   "cell_type": "markdown",
   "metadata": {
    "collapsed": true
   },
   "source": [
    "### Define function for dealing with exponential form\n"
   ]
  },
  {
   "cell_type": "code",
   "execution_count": 14,
   "metadata": {
    "collapsed": false
   },
   "outputs": [
    {
     "name": "stdout",
     "output_type": "stream",
     "text": [
      "-3\n"
     ]
    }
   ],
   "source": [
    "\n",
    "if(del_x>0):\n",
    "    x_min_unit = del_x\n",
    "    if(x_min>0):\n",
    "        x_min_unit = min(del_x, x_min)\n",
    "else:\n",
    "    x_min_unit = x_min\n",
    "x_exp = np.floor(np.log10(np.abs(x_min_unit))).astype(int)\n",
    "print(x_exp)\n",
    "x_exp_unit = 10.0**x_exp\n",
    "x_min_exp = x_min / x_exp_unit\n",
    "x_max_exp = x_max / x_exp_unit\n",
    "del_x_exp = del_x / x_exp_unit"
   ]
  },
  {
   "cell_type": "code",
   "execution_count": 15,
   "metadata": {
    "collapsed": true
   },
   "outputs": [],
   "source": [
    "def ConvertXToXExpForm(x_min, x_max, del_x):\n",
    "    \"\"\"\n",
    "    Convert min/max/delta into a minimum common exponential form\n",
    "    e.g. 1.4e-4, 1.0e-5 have 1e-5 as the minimum. \n",
    "    So the first becomes 14e-5 while the second remains as it is.\n",
    "    \n",
    "    Everything must be integer\n",
    "    \"\"\"\n",
    "    if(del_x>0):\n",
    "        x_min_unit = del_x\n",
    "        if(x_min>0):\n",
    "            x_min_unit = min(del_x, x_min)\n",
    "    else:\n",
    "        x_min_unit = x_min\n",
    "    x_exp = np.floor(np.log10(np.abs(x_min_unit))).astype(int)\n",
    "    x_exp_unit = 10.0**x_exp\n",
    "    x_min_exp = int(x_min / x_exp_unit)\n",
    "    x_max_exp = int(x_max / x_exp_unit)\n",
    "    del_x_exp = int(del_x / x_exp_unit)\n",
    "    return x_min_exp, x_max_exp, del_x_exp, x_exp"
   ]
  },
  {
   "cell_type": "markdown",
   "metadata": {},
   "source": [
    "### Modify here for more than 2 dimensions\n",
    "\n",
    "If more dimensions then add more here. Will also need to add to the parameters above and the script logic below."
   ]
  },
  {
   "cell_type": "code",
   "execution_count": 16,
   "metadata": {
    "collapsed": true
   },
   "outputs": [],
   "source": [
    "x_min_exp, x_max_exp, del_x_exp, x_exp = ConvertXToXExpForm(x_min, x_max, del_x)\n",
    "y_min_exp, y_max_exp, del_y_exp, y_exp = ConvertXToXExpForm(y_min, y_max, del_y)\n"
   ]
  },
  {
   "cell_type": "code",
   "execution_count": 17,
   "metadata": {
    "collapsed": false
   },
   "outputs": [
    {
     "name": "stdout",
     "output_type": "stream",
     "text": [
      "5 15 5 -3\n",
      "19 23 1 -2\n"
     ]
    }
   ],
   "source": [
    "print x_min_exp, x_max_exp, del_x_exp, x_exp\n",
    "print y_min_exp, y_max_exp, del_y_exp, y_exp"
   ]
  },
  {
   "cell_type": "markdown",
   "metadata": {},
   "source": [
    "<a id=\"ref_genscript\"></a>\n",
    "## Generate script and parameter loop\n",
    "\n",
    "### Basic grid method\n",
    "\n",
    "First apply HarmonicSplitter.py to split the experimental data into harmonics (dc and ac) then smooth the resultant current responses.\n",
    "\n",
    "Next loop over all x,y combinations, each time doing:\n",
    "1. Use HarmonicSplitter.py to split and smooth the harmonics\n",
    "2. Use CompareSmoothed.py to compare the smoothed harmonics between the simulated current response and the experimental data.\n",
    "3. Comparison is calculated as a metric (default uses least squares) which is either a composite of all harmonic data or a list of values, one for each harmonic\n",
    "3. Append the x, y and metric (S) values to a single file (results_name set above)\n",
    "\n",
    "After the loop:\n",
    "1. All input parameters (x, y and any more added by user) as well as the least squared metric (S, either 1 or more values) is now stored in \"results_name\" (typically Results.txt)\n",
    "2. BayesianAnalysis.py is run on this results file to determine the probabilities of each set of parameters given that the true fit to the experimental data exists somewhere in the chosen parameter range.\n",
    "3. BayesianAnalysis will output the posterior probabilities (\"posterior.txt\") as well as the optimal values with error bars (\"opt_parameters.txt\") and plots (png and pdf) depending on the settings in BayesianAnalysis.py.\n",
    "4. Additional plots of the least squares surfaces themselves are output by SurfacePlotter.py if requested.\n",
    "\n",
    "**This script should be renamed to \"run_mecsim_script.sh\" and copied to \"script/\" along with \"Settings.inp\" created above.**\n",
    "\n",
    "Back to <a href=\"#top\">top</a>."
   ]
  },
  {
   "cell_type": "code",
   "execution_count": 18,
   "metadata": {
    "collapsed": false
   },
   "outputs": [
    {
     "name": "stdout",
     "output_type": "stream",
     "text": [
      "Using grid method\n"
     ]
    }
   ],
   "source": [
    "if(method_type=='grid'):\n",
    "    print 'Using grid method'\n",
    "    with open(script_name, \"w\") as text_file:\n",
    "        text_file.write(\"#!/bin/bash\\n\")\n",
    "        text_file.write(\"cp {0}Settings.inp ./\\n\".format(script_dir))\n",
    "        # process harmonics for experimental data - if requested\n",
    "        if(needs_fft_conversion):\n",
    "            text_file.write(\"cp {0}{1} {2}\\n\".format(script_dir, Experimental_filename, Simulation_output_filename))\n",
    "            text_file.write(\"python {0}HarmonicSplitter.py\\n\".format(python_dir))\n",
    "            text_file.write(\"mv Smoothed.txt {0} \\n\".format(Experimental_FFT_output_filename))\n",
    "        # setup parameter ranges\n",
    "        text_file.write(\"xmin={0}\\n\".format(x_min_exp))\n",
    "        text_file.write(\"xmax={0}\\n\".format(x_max_exp))\n",
    "        text_file.write(\"xdel={0}\\n\".format(del_x_exp))\n",
    "        text_file.write(\"xext=e{0}\\n\".format(x_exp))\n",
    "        text_file.write(\"ymin={0}\\n\".format(y_min_exp))\n",
    "        text_file.write(\"ymax={0}\\n\".format(y_max_exp))\n",
    "        text_file.write(\"ydel={0}\\n\".format(del_y_exp))\n",
    "        text_file.write(\"yext=e{0}\\n\".format(y_exp))\n",
    "        text_file.write(\"x=$xmin\\n\")\n",
    "        # write header for results output file - else will append\n",
    "        if(not results_exists):\n",
    "            text_file.write(\"echo '{0},{1},S' > {2}\\n\".format(x_name, y_name, results_name))\n",
    "        # construct loop over parameters\n",
    "        text_file.write(\"while [ $x -le $xmax ]\\n\")\n",
    "        text_file.write(\"do\\n\")\n",
    "        text_file.write(\"  y=$ymin\\n\")\n",
    "        text_file.write(\"  while [ $y -le $ymax ]\\n\")\n",
    "        text_file.write(\"  do\\n\")\n",
    "        text_file.write(\"    cp {0}Master.sk ./Master.inp\\n\".format(script_dir))\n",
    "        text_file.write(\"    sed -i 's/{0}/'$x$xext'/g' ./Master.inp\\n\".format(x_name))\n",
    "        text_file.write(\"    sed -i 's/{0}/'$y$yext'/g' ./Master.inp\\n\".format(y_name))\n",
    "        text_file.write(\"    ./MECSim.exe\\n\")\n",
    "        text_file.write(\"    mv log.txt {0}log_$x$xext_$y$yext.txt\\n\".format(output_dir))\n",
    "        text_file.write(\"    python {0}HarmonicSplitter.py\\n\".format(python_dir))\n",
    "        text_file.write(\"    z=$(python {0}CompareSmoothed.py)\\n\".format(python_dir))\n",
    "        text_file.write(\"    echo $x$xext,$y$yext,$z >> {0}\\n\".format(results_name))\n",
    "        text_file.write(\"    y=$((y+ydel))\\n\")\n",
    "        text_file.write(\"  done\\n\")\n",
    "        text_file.write(\"  x=$((x+xdel))\\n\")\n",
    "        text_file.write(\"done\\n\")\n",
    "        # copy out raw results file\n",
    "        text_file.write(\"cp {0} {1}\\n\".format(results_name, output_dir))\n",
    "        # run Bayesian analysis (*.txt) and plotter (produces bayesian_plot.pdf and png) with results_name\n",
    "        if(bayesian_analysis):\n",
    "            text_file.write(\"python {0}BayesianAnalysis.py {1}\\n\".format(python_dir, results_name))\n",
    "            # for all output file names check BayesianAnalysis.py for consistency\n",
    "            text_file.write(\"cp bayesian_plot.* {0}\\n\".format(output_dir)) # plots\n",
    "            text_file.write(\"cp posterior.txt opt_parameters.txt {0}\\n\".format(output_dir)) \n",
    "        # run least squares plotter (also uses results file name as argument)\n",
    "        if(plot_surfaces):\n",
    "            text_file.write(\"python {0}SurfacePlotter.py {1}\\n\".format(python_dir, results_name))\n",
    "            text_file.write(\"cp surface_plot.* {0}\\n\".format(output_dir))\n"
   ]
  },
  {
   "cell_type": "code",
   "execution_count": null,
   "metadata": {
    "collapsed": true
   },
   "outputs": [],
   "source": []
  }
 ],
 "metadata": {
  "anaconda-cloud": {},
  "kernelspec": {
   "display_name": "Python 2",
   "language": "python",
   "name": "python2"
  },
  "language_info": {
   "codemirror_mode": {
    "name": "ipython",
    "version": 2
   },
   "file_extension": ".py",
   "mimetype": "text/x-python",
   "name": "python",
   "nbconvert_exporter": "python",
   "pygments_lexer": "ipython2",
   "version": "2.7.12"
  }
 },
 "nbformat": 4,
 "nbformat_minor": 1
}
