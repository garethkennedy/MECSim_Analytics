{
 "cells": [
  {
   "cell_type": "markdown",
   "metadata": {},
   "source": [
    "<a id=\"top\"></a>\n",
    "# Generate script for 2 parameters\n",
    "\n",
    "This notebook will generate scripts to automatically run MECSim over a range of values for 2 parameters only, useful for generating 2D plots. The generated script will also compare the simulated current response to experimental data and run Bayesian analysis to determine optimal parameters and robust error bars.\n",
    "\n",
    "For simulations that require more than 2 varying parameters, use `RandomlySampleRange.ipynb`.\n",
    "\n",
    "To run this notebook you must have [MECSim](http://www.garethkennedy.net/MECSim.html) installed, and have a correctly set-up `Master.sk` skeleton file in the same directory as the MECSim executable. **Ideally use the docker version where this is taken care of automatically.**\n",
    "\n",
    "For video tutorials and user guides see the [MECSim documentation](http://www.garethkennedy.net/MECSimDocs.html).\n",
    "\n",
    "\n",
    "## Contents\n",
    "#### Nominal usage\n",
    "- <p><a href=\"#ref_guide\">Getting started</a></p>\n",
    "Quick practical guide to running `GenerateScript`, where key files go and the overall workflow.\n",
    "- <p><a href=\"#ref_paras\">Parameter set up</a></p>\n",
    "Set the names and ranges of our 2 varying parameters that we have set up in `Master.sk`.\n",
    "- <p><a href=\"#ref_postproc\">Post-processing parameters</a></p>\n",
    "Choose between simple least-squares comparison of MECSim output to experimental results or Bayesian analysis.\n",
    "\n",
    "#### Advanced usage\n",
    "- <p><a href=\"#ref_weights\">Set weights for comparison</a></p>\n",
    "Set here an array of weights used in results comparison. Useful for focusing on specific frequency ranges and/or ignoring others.\n",
    "- <p><a href=\"#ref_file_locations\">Set location of the Python files</a></p>\n",
    "This section does not need to be changed in normal operation.\n",
    "- <p><a href=\"#ref_settings\">Output settings file</a></p>\n",
    "Set bandwidth, number of harmonics and whether to use the weights set above.\n",
    "- <p><a href=\"#ref_prepscript\">Prepare script file</a></p>\n",
    "- <p><a href=\"#ref_genscript\">Generate script and parameter loop</a></p>\n",
    "\n",
    "<a id=\"ref_guide\"></a>\n",
    "## Getting started\n",
    "\n",
    "\n",
    "This guide will answer practical questions such as where to copy all the files? How do I run MECSim over a range of parameters?\n",
    "\n",
    "For simulating a range of parameters and comparing the results to experiemental results there are a number of files that must be manually edited.\n",
    "\n",
    "1. The chemical mechanism must be setup using `Master.sk` located in the **`script`** directory\n",
    "2. The parameters must be setup using either `GenerateScript.ipynb` or `RandomlySampleRange.ipynb` notebooks in the **`python`** directory\n",
    "3. The notebook (or equivalent py file) must be run to generate the script `run_mecsim_script.sh` and `Settings.inp` text file in the **`script`** directory\n",
    "4. The script must be run from the base `./` directory or using `run_docker_win_cmd_script.bat` for the docker running in Windows (default)\n",
    "\n",
    "After running the notebooks (step 3) the directories contain the following files. Python and Jupyter notebooks in the **`python_dir`** (default is `./python/`) should include:\n",
    "1. `GenerateScript.ipynb` (manually edited)\n",
    "2. `RandomlySampleRange.ipynb` (manually edited)\n",
    "3. `HarmonicSplitter.py`\n",
    "4. `CompareSmoothed.py`\n",
    "5. `BayesianAnalysis.py` (optional)\n",
    "6. `SurfacePlotter.py` (optional)\n",
    "The script directory **`script_dir`** (default is `./script/`) will include two additional files made by the notebooks, so should now include:\n",
    "1. `Master.sk`\n",
    "2. `run_mecsim_script.sh`\n",
    "3. `Settings.inp`\n",
    "\n",
    "The structure of how MECSim is used with the analytics codes is shown below. Green indicates points where the user must either edit notebooks and text files or run the docker commands. \n",
    "\n",
    "\n",
    "![title](MECSim_ScriptingChart.png)\n",
    "\n",
    "\n",
    "**NOTE: the skeleton input parameter file for MECSim, `Master.sk`, must be setup before running the script output from this python script.**\n",
    "\n",
    "\n",
    "### Load required libraries\n"
   ]
  },
  {
   "cell_type": "code",
   "execution_count": null,
   "metadata": {},
   "outputs": [],
   "source": [
    "import numpy as np"
   ]
  },
  {
   "cell_type": "markdown",
   "metadata": {},
   "source": [
    "<a id=\"ref_paras\"></a>\n",
    "## Parameter set up\n",
    "\n",
    "Back to <a href=\"#top\">top</a>.\n",
    "\n",
    "### Set names and ranges of variables\n",
    "\n",
    "Name mappings and ranges for each variable. These are used with the master template (skeleton file) called `Master.sk` to replace the strings in \"$name\" with the required values. The bash script generated by this code will run MECSim using each set of parameters written to `Master.inp`.\n",
    "\n",
    "For the user, ensure that the x and y names are correct both here and in `Master.sk`, as well as the ranges.\n"
   ]
  },
  {
   "cell_type": "code",
   "execution_count": null,
   "metadata": {},
   "outputs": [],
   "source": [
    "x_name = '$kzero'\n",
    "x_min = 0.10e3\n",
    "x_max = 2.00e3\n",
    "del_x = 0.50e3\n",
    "\n",
    "y_name = '$Ezero'\n",
    "y_min = -0.1\n",
    "y_max = 0.1\n",
    "del_y = 0.1"
   ]
  },
  {
   "cell_type": "markdown",
   "metadata": {},
   "source": [
    "### Set fixed parameters\n",
    "\n",
    "Often the user would like some fixed parameters in the skeleton file (`Master.sk`). For example where the resistance is known in a given experiment or you wish to hold a particular parameter as constant while investigating the effect of other parameters."
   ]
  },
  {
   "cell_type": "code",
   "execution_count": null,
   "metadata": {},
   "outputs": [],
   "source": [
    "# setup fixed parameters\n",
    "x_fixed_name = []\n",
    "x_fixed_value = []\n",
    "\n",
    "#### copy this for as many fixed parameters as required ####\n",
    "x_fixed_name.append('$R')\n",
    "x_fixed_value.append(100)\n",
    "#### end of code chunk to copy\n",
    "\n",
    "#### copy this for as many fixed parameters as required ####\n",
    "x_fixed_name.append('$alpha')\n",
    "x_fixed_value.append(0.5)\n",
    "#### end of code chunk to copy\n",
    "\n",
    "#### copy this for as many fixed parameters as required ####\n",
    "x_fixed_name.append('$cap0')\n",
    "x_fixed_value.append(0.0)\n",
    "#### end of code chunk to copy"
   ]
  },
  {
   "cell_type": "markdown",
   "metadata": {},
   "source": [
    "### Experiment parameters\n",
    "\n",
    "Set the name of the file containing the experimental data to compare with the MECSim simulation current responses.\n",
    "\n",
    "The raw experimental data file must have the same format as MECSim output, which is based on the output from a potentiostat. An example file is given in `scripts/MECSim_Example.txt`.\n",
    "\n",
    "Back to <a href=\"#top\">top</a>."
   ]
  },
  {
   "cell_type": "code",
   "execution_count": null,
   "metadata": {},
   "outputs": [],
   "source": [
    "Experimental_filename = 'MECSim_Example.txt'"
   ]
  },
  {
   "cell_type": "markdown",
   "metadata": {},
   "source": [
    "<a id=\"ref_postproc\"></a>\n",
    "## Post-processing parameters\n",
    "\n",
    "Select automatic post processing to be done on the `results.txt` output file. Will be added to the end of the bash script made by this code\n",
    "\n",
    "Two options:\n",
    "\n",
    "1. output a surface plot using the raw sum of square values in the results file\n",
    "2. use Bayesian analysis on the results file automatically \n",
    "\n",
    "All figures and statistics are sent to output directory.\n",
    "\n",
    "Back to <a href=\"#top\">top</a>."
   ]
  },
  {
   "cell_type": "code",
   "execution_count": null,
   "metadata": {},
   "outputs": [],
   "source": [
    "# select whether surface plotter to be used\n",
    "plot_surfaces = False\n",
    "# select whether Bayesian statistical analysis to be used\n",
    "bayesian_analysis = True\n",
    "# have you run a script generating results before? do you want this run to append the results to the existing ones?\n",
    "results_exists = False\n",
    "# check if Master.inp file is valid and stop the loop if it is invalid\n",
    "check_master = True"
   ]
  },
  {
   "cell_type": "markdown",
   "metadata": {},
   "source": [
    "## Script output levels\n",
    "\n",
    "Book keeping for how often the script should output over the entire time of the loop (*output_frequency*) and how much output is stored during the loop.\n",
    "\n",
    "Also control whether the best fit parameters are output to `output/Master.inp`."
   ]
  },
  {
   "cell_type": "code",
   "execution_count": null,
   "metadata": {},
   "outputs": [],
   "source": [
    "# number of outputs during script run (e.g. output 10 times over the n_sim)\n",
    "output_freqency=10\n",
    "# output warnings from MECSim to screen during script run (e.g. Thermodynamically superfluous reactions)\n",
    "show_warnings = True\n",
    "# automatically stop the script running if MECSim encounters an error (e.g. R<0 or concentration errors)\n",
    "exit_on_error = True\n",
    "# store the log files from each simulation\n",
    "store_log_files = False\n",
    "# output best fit Master.inp from posterior (if Bayesian is done)\n",
    "output_best_fit = True"
   ]
  },
  {
   "cell_type": "markdown",
   "metadata": {},
   "source": [
    "## Operating system - file format\n",
    "\n",
    "Output text files in windows use different end of line characters to Mac/Unix systems. This will correct for these differences so that output text files are able to be read by Windows software such as DigiPot. If unsure leave as *True*."
   ]
  },
  {
   "cell_type": "code",
   "execution_count": null,
   "metadata": {},
   "outputs": [],
   "source": [
    "using_windows = True"
   ]
  },
  {
   "cell_type": "markdown",
   "metadata": {},
   "source": [
    "<a id=\"ref_weights\"></a>\n",
    "### Sum of squares comparison function\n",
    "\n",
    "For each harmonic the relative sum of squares difference is calculated by\n",
    "$$\n",
    "S_j = \\frac{ \\sum_k^n \\left( i^{exp}_k - i^{sim}_k \\right)^2 }{ \\sum_k^n \\left( i^{exp}_k \\right)^2 }\n",
    "$$\n",
    "where $n$ is the total number of current ($i$), time and voltage points in the smoothed experimental ($exp$) and simiulated ($sim$) data for a given harmonic. Note that \"harmonics\" refer to the harmonics of a particular ac signal (e.g. 5, 10, 15, 20 Hz etc) as well as the dc ramp or \"0$^{th}$ harmonic\". \n",
    "\n",
    "The metric used in `CompareSmoothed.py` is to take the smoothed harmonics created by `HarmonicSplitter.py` for both the experimental and simulated data (a function of parameters run by MECSim), calculate the relative sum of squares difference for each harmonic ($S_j$) and combine them to a single metric $S_m$ via\n",
    "$$\n",
    "S_m = \\sum_{j=0}^{n_{harm}} w_j S_j\n",
    "$$\n",
    "where $n_{harm}$ is the number of harmonics, $j=0$ is the dc component, $w_j$ is the weight given to harmonic $j$ specified in the `Settings.inp` file. The weights ($w_j$) for each harmonic (and dc component) are set as a vector of any sum, or left as the unweighted default of $w_j = 1$.\n",
    "\n",
    "#### Options for comparison\n",
    "\n",
    "The relative sums of squares are combined using the weights to calculate the final metric denoted as $S_m$ above if *output_single_metric = True* in either `GenerateScript.ipynb` or `RandomlySampleRange.ipynb`. If *output_single_metric = False* then the sum of squares values ($S_j$) are output as a comma separated string.\n"
   ]
  },
  {
   "cell_type": "markdown",
   "metadata": {},
   "source": [
    "\n",
    "#### Set weights\n",
    "\n",
    "Select whether you wish to use custom weights by *output_single_metric = True*, otherwise all $S_j$ will be output and separated by commas.\n",
    "\n",
    "Alter the following cell for custom weights. Ensure that this is the same length as the number of harmonics (plus dc)\n",
    "\n",
    "**Note: for purely dc cases set *number_harmonics = 0***\n",
    "\n",
    "Back to <a href=\"#top\">top</a>."
   ]
  },
  {
   "cell_type": "code",
   "execution_count": null,
   "metadata": {},
   "outputs": [],
   "source": [
    "# use custom weights? default is no and use uniform weights for the comparison\n",
    "output_single_metric = False\n",
    "\n",
    "# number of harmonics (excluding the dc component - harmonic = 0)\n",
    "number_harmonics = 6\n",
    "frequency_bandwidth = 1.    # only 1 needed for simulations\n",
    "\n",
    "# set weights as a numpy array with same length as number_harmonics + 1 (default is all even)\n",
    "weights = np.repeat(1.0, number_harmonics+1)\n",
    "\n",
    "# sample way to change it: can also use functions\n",
    "#weights = np.array([0.5,1,1,0.5,0.3,0.1,0.05])"
   ]
  },
  {
   "cell_type": "markdown",
   "metadata": {},
   "source": [
    "## Experienced users only from hereon\n",
    "\n",
    "### Set location of the python files\n",
    "\n",
    "Location is relative to the script that will be running. This script is required to be in the same location as the MECSim.exe file - as in the Docker image setup. \n",
    "\n",
    "**Note: these generally don't need to be changed and should not be changed!**\n",
    "\n",
    "Back to <a href=\"#top\">top</a>."
   ]
  },
  {
   "cell_type": "code",
   "execution_count": null,
   "metadata": {},
   "outputs": [],
   "source": [
    "# python dir contains all .py files\n",
    "python_dir = 'python/'\n",
    "# script dir contains script.sh (output here), Master.sk (user prepared) and Settings.inp (output here)\n",
    "script_dir = 'script/'\n",
    "# Master.inp dir - important for docker container vs local run\n",
    "input_dir = 'input/'\n",
    "# output dir for results\n",
    "output_dir = 'output/'\n",
    "\n",
    "# default is running in notebook:\n",
    "# if running in docker then the container structure requires this be external/\n",
    "external_dir = 'external/'\n",
    "# location of parent directory: typically this file will be in python/ so the parent dir is '../'\n",
    "parent_dir = '../'"
   ]
  },
  {
   "cell_type": "markdown",
   "metadata": {},
   "source": [
    "### File names\n",
    "\n",
    "Manually change the name of the results file, default is `results.txt`. Also set if this file already exists, for example if a previous script was run on a different region of parameter space.\n",
    "\n",
    "Can also change the default script name from `run_mecsim_script.sh`, although this is not recommended."
   ]
  },
  {
   "cell_type": "code",
   "execution_count": null,
   "metadata": {},
   "outputs": [],
   "source": [
    "# results filename\n",
    "results_name = 'results.txt'\n",
    "# change default script name here (not recommended)\n",
    "script_name = 'run_mecsim_script.sh'"
   ]
  },
  {
   "cell_type": "markdown",
   "metadata": {},
   "source": [
    "### Simulation file settings\n",
    "\n",
    "Change the default name of the simulation output file (not recommended)\n",
    "\n",
    "Back to <a href=\"#top\">top</a>."
   ]
  },
  {
   "cell_type": "code",
   "execution_count": null,
   "metadata": {},
   "outputs": [],
   "source": [
    "Simulation_output_filename = 'MECSimOutput_Pot.txt'"
   ]
  },
  {
   "cell_type": "markdown",
   "metadata": {},
   "source": [
    "<a id=\"ref_postproc\"></a>\n",
    "### Comparison file FFT settings\n",
    "\n",
    "Set whether the experimental data file set above needs to have a Fast Fourier Transform (FFT) applied to it (default is True), and if so what filename to use.\n"
   ]
  },
  {
   "cell_type": "code",
   "execution_count": null,
   "metadata": {},
   "outputs": [],
   "source": [
    "Experimental_FFT_output_filename = 'ExpSmoothed.txt'\n",
    "needs_fft_conversion = True"
   ]
  },
  {
   "cell_type": "markdown",
   "metadata": {},
   "source": [
    "Check that the number of weights for the number of harmonics is correct"
   ]
  },
  {
   "cell_type": "code",
   "execution_count": null,
   "metadata": {},
   "outputs": [],
   "source": [
    "if(number_harmonics+1 != len(weights)):\n",
    "    print(\"WARNING: Found\", len(weights), \"weights when there are\", \n",
    "          number_harmonics + 1, \"harmonics (including dc)\")\n",
    "    if(number_harmonics+1<len(weights)):\n",
    "        print(\"         Too many weights entered - clipping\")\n",
    "        weights = weights[:number_harmonics+1]\n",
    "    else:\n",
    "        print(\"         Not enough weights entered - filling with zeros\")\n",
    "        weights.resize(number_harmonics+1)"
   ]
  },
  {
   "cell_type": "markdown",
   "metadata": {},
   "source": [
    "Convert np array to csv string (in case not python reading it in!)"
   ]
  },
  {
   "cell_type": "code",
   "execution_count": null,
   "metadata": {},
   "outputs": [],
   "source": [
    "txt_weights = ','.join(map(str, weights))"
   ]
  },
  {
   "cell_type": "markdown",
   "metadata": {},
   "source": [
    "### Script method"
   ]
  },
  {
   "cell_type": "code",
   "execution_count": null,
   "metadata": {},
   "outputs": [],
   "source": [
    "method_type = 'grid'"
   ]
  },
  {
   "cell_type": "markdown",
   "metadata": {},
   "source": [
    "<a id=\"ref_settings\"></a>\n",
    "## Output settings file\n",
    "\n",
    "This file encodes the simulation output filename (shouldn't change), number of harmonics, bandwidth frequency and the settings for the weights.\n",
    "\n",
    "Back to <a href=\"#top\">top</a>."
   ]
  },
  {
   "cell_type": "code",
   "execution_count": null,
   "metadata": {},
   "outputs": [],
   "source": [
    "f = open(parent_dir+script_dir+'Settings.inp', 'w')\n",
    "f.write(Simulation_output_filename + \"\\t# simulation output filename\\n\")\n",
    "f.write(str(number_harmonics) + \"\\t# number of harmonics\\n\")\n",
    "f.write(str(frequency_bandwidth) + \"\\t# bandwidth frequency (Hz)\\n\")\n",
    "iUseSingleMetric = 0\n",
    "if(output_single_metric or output_single_metric==1):\n",
    "    iUseSingleMetric = 1\n",
    "f.write(str(iUseSingleMetric) + \"\\t# 1=use single output metric value (else=0 and each harmonic treated separately\\n\")\n",
    "f.write(txt_weights)\n",
    "f.close()"
   ]
  },
  {
   "cell_type": "markdown",
   "metadata": {},
   "source": [
    "<a id=\"ref_prepscript\"></a>\n",
    "## Prepare script file\n",
    "\n",
    "Depending on the method type selected then output a text file in bash script format for running MECSim with the analysis tools.\n",
    "\n",
    "First set any by hand parameters. For example if you have a constant e0val=0.2 but want to keep the skeleton file general with $e0val in there. \n",
    "\n",
    "Note that you'll need to be careful to integrate these into the script generation yourself.\n",
    "\n",
    "Back to <a href=\"#top\">top</a>."
   ]
  },
  {
   "cell_type": "markdown",
   "metadata": {
    "collapsed": true
   },
   "source": [
    "### Define function for dealing with exponential form\n"
   ]
  },
  {
   "cell_type": "code",
   "execution_count": null,
   "metadata": {},
   "outputs": [],
   "source": [
    "def ConvertXToXExpForm(x_min, x_max, del_x):\n",
    "    \"\"\"\n",
    "    Convert min/max/delta into a minimum common exponential form\n",
    "    e.g. 1.4e-4, 1.0e-5 have 1e-5 as the minimum. \n",
    "    So the first becomes 14e-5 while the second remains as it is.\n",
    "    \n",
    "    Everything must be integer\n",
    "    \"\"\"\n",
    "    orig_x = [x_min, x_max, del_x]\n",
    "    x_exp = -1\n",
    "    sum3 = 0\n",
    "    while sum3 != 3:\n",
    "        x_exp += 1\n",
    "        test_x = np.around([x_min, x_max, del_x], x_exp)\n",
    "        sum3 = np.sum(orig_x == test_x)\n",
    "    x_exp = -x_exp\n",
    "    x_exp_unit = 10.0**x_exp\n",
    "    x_min_exp = int(x_min / x_exp_unit)\n",
    "    x_max_exp = int(x_max / x_exp_unit)\n",
    "    del_x_exp = int(del_x / x_exp_unit)\n",
    "    return x_min_exp, x_max_exp, del_x_exp, x_exp\n"
   ]
  },
  {
   "cell_type": "markdown",
   "metadata": {},
   "source": [
    "### Modify here for more than 2 dimensions\n",
    "\n",
    "If more dimensions then add more here. Will also need to add to the parameters above and the script logic below."
   ]
  },
  {
   "cell_type": "code",
   "execution_count": null,
   "metadata": {},
   "outputs": [],
   "source": [
    "x_min_exp, x_max_exp, del_x_exp, x_exp = ConvertXToXExpForm(x_min, x_max, del_x)\n",
    "y_min_exp, y_max_exp, del_y_exp, y_exp = ConvertXToXExpForm(y_min, y_max, del_y)\n"
   ]
  },
  {
   "cell_type": "markdown",
   "metadata": {
    "collapsed": true
   },
   "source": [
    "### Total number of simulations to run"
   ]
  },
  {
   "cell_type": "code",
   "execution_count": null,
   "metadata": {},
   "outputs": [],
   "source": [
    "# some rounding issues can pop up here...\n",
    "def CalcModelsToRun(x_min, x_max, del_x):\n",
    "    n = int(x_max/del_x) - int(x_min/del_x) + 1\n",
    "    return(n)\n",
    "\n",
    "# output total number of models that will be run (2D)\n",
    "n_simulations = CalcModelsToRun(x_min, x_max, del_x) * CalcModelsToRun(y_min, y_max, del_y)\n",
    "\n",
    "# ensure that output frequency is <= total number of simulations to run\n",
    "output_freqency = min(output_freqency, n_simulations)\n"
   ]
  },
  {
   "cell_type": "markdown",
   "metadata": {},
   "source": [
    "<a id=\"ref_genscript\"></a>\n",
    "## Generate script and parameter loop\n",
    "\n",
    "### Basic grid method\n",
    "\n",
    "First apply `HarmonicSplitter.py` to split the experimental data into harmonics (dc and ac) then smooth the resultant current responses.\n",
    "\n",
    "Next loop over all x, y combinations, each time doing:\n",
    "1. Take the input parameters and pass them to the **MECSim** executable\n",
    "2. Use `HarmonicSplitter.py` to split and smooth the harmonics\n",
    "3. Use `CompareSmoothed.py` to compare the smoothed harmonics between the simulated current response and the experimental data.\n",
    "4. Comparison is calculated as a metric (default uses the sum of squares form each harmonic) which is either a composite of all harmonic data (using weights) or a list of values, one for each harmonic\n",
    "5. Append the x, y and metric (S) values to a single file (results_name set above)\n",
    "\n",
    "After the loop:\n",
    "1. All input parameters (x, y and any more added by user) as well as the least squared metric (S, either 1 or more values) is now stored in \"results_name\" (typically `results.txt`)\n",
    "2. `BayesianAnalysis.py` is run on this results file to determine the probabilities of each set of parameters given that the true fit to the experimental data exists somewhere in the chosen parameter range.\n",
    "3. `BayesianAnalysis.py` will output the posterior probabilities (`posterior.txt`) as well as the optimal values with error bars (`opt_parameters.txt`) and plots (png and pdf) depending on the settings in `BayesianAnalysis.py`.\n",
    "4. Additional plots of the least squares surfaces themselves are output by `SurfacePlotter.py` if requested.\n",
    "\n",
    "**This script should be renamed to `run_mecsim_script.sh` and copied to `script/` along with `Settings.inp` created above.**\n",
    "\n",
    "Back to <a href=\"#top\">top</a>."
   ]
  },
  {
   "cell_type": "code",
   "execution_count": null,
   "metadata": {},
   "outputs": [],
   "source": [
    "if(method_type=='grid'):\n",
    "    quote_symbol = '\"'\n",
    "    print('Using grid method to write to: ' + parent_dir+script_dir+script_name)\n",
    "    with open(parent_dir+script_dir+script_name, \"w\") as text_file:\n",
    "        text_file.write(\"#!/bin/bash\\n\")\n",
    "        # initialize a timer\n",
    "        text_file.write(\"start=$(date +%s)\\n\")\n",
    "        # setup skeleton file with fixed parameters filled\n",
    "        text_file.write(\"cp {0}Master.sk {0}Master_with_fixed.sk\\n\".format(script_dir))\n",
    "        for i in range(len(x_fixed_name)):\n",
    "            text_file.write(\"sed -i 's/{0}/'{1}'/g' {2}Master_with_fixed.sk\\n\"\n",
    "                            .format(x_fixed_name[i], x_fixed_value[i], script_dir))\n",
    "            text_file.write(\"cp -p {0}Master_with_fixed.sk {1}{0}\\n\"\n",
    "                            .format(script_dir, external_dir))\n",
    "        # process harmonics for experimental data - if requested\n",
    "        if(needs_fft_conversion):\n",
    "            text_file.write(\"cp {0}{1} {2}{3}\\n\".format(script_dir, Experimental_filename, \n",
    "                                                        output_dir, Simulation_output_filename))\n",
    "            text_file.write(\"python {0}HarmonicSplitter.py\\n\".format(python_dir))\n",
    "            text_file.write(\"mv {0}Smoothed.txt {0}{1} \\n\".format(output_dir, \n",
    "                                 Experimental_FFT_output_filename))\n",
    "            # output total run time to here - complicated write to get awk statement in the bash script correct\n",
    "            text_file.write(\"end=$(date +%s)\\n\")\n",
    "            text_file.write(\"seconds=$((end-start))\\n\")\n",
    "            text_line1 = \"awk -v t=$seconds 'BEGIN{t=int(t*1000)\"\n",
    "            time_text = \"%d:%02d:%02d {0}, t/3600000, t/60000%60, t/1000%60\".format(quote_symbol)\n",
    "            text_line2 = \"; printf {0}Time taken converting experimental data: {1}{2}'\".format(quote_symbol, \n",
    "                                                                                               time_text, '}')\n",
    "            text_file.write(\"{0}{1}; echo\\n\".format(text_line1, text_line2))\n",
    "        # setup parameter ranges\n",
    "        text_file.write(\"xmin={0}\\n\".format(x_min_exp))\n",
    "        text_file.write(\"xmax={0}\\n\".format(x_max_exp))\n",
    "        text_file.write(\"xdel={0}\\n\".format(del_x_exp))\n",
    "        text_file.write(\"xext=e{0}\\n\".format(x_exp))\n",
    "        text_file.write(\"ymin={0}\\n\".format(y_min_exp))\n",
    "        text_file.write(\"ymax={0}\\n\".format(y_max_exp))\n",
    "        text_file.write(\"ydel={0}\\n\".format(del_y_exp))\n",
    "        text_file.write(\"yext=e{0}\\n\".format(y_exp))\n",
    "        # initial x and counter\n",
    "        text_file.write(\"x=$xmin\\n\")\n",
    "        text_file.write(\"counter=1\\n\")\n",
    "        text_file.write(\"counter_max={0}\\n\".format(n_simulations))\n",
    "        text_file.write(\"counter_output=$((counter_max/{0}))\\n\".format(output_freqency))\n",
    "        # output summary\n",
    "        text_file.write(\"echo \\n\")\n",
    "        text_file.write(\"echo '2D Grid method run with n_sim = {0}'\\n\".format(n_simulations))\n",
    "        text_file.write(\"echo \\n\")\n",
    "        # write header for results output file - else will append\n",
    "        if(not results_exists):\n",
    "            text_file.write(\"echo '{0},{1},S' > {2}{3}\\n\".format(x_name, y_name, output_dir, results_name))\n",
    "        # construct loop over parameters\n",
    "        text_file.write(\"while [ $x -le $xmax ]\\n\")\n",
    "        text_file.write(\"do\\n\")\n",
    "        text_file.write(\"  y=$ymin\\n\")\n",
    "        text_file.write(\"  while [ $y -le $ymax ]\\n\")\n",
    "        text_file.write(\"  do\\n\")\n",
    "        text_file.write(\"    cp {0}Master.sk {1}Master.inp\\n\".format(script_dir, input_dir))\n",
    "        # x and y variable parameters\n",
    "        text_file.write(\"    sed -i 's/{0}/'$x$xext'/g' {1}Master.inp\\n\".format(x_name, input_dir))\n",
    "        text_file.write(\"    sed -i 's/{0}/'$y$yext'/g' {1}Master.inp\\n\".format(y_name, input_dir))\n",
    "        # fixed parameters (preferentially fill variables before fixed)\n",
    "        for i in range(len(x_fixed_name)):\n",
    "            text_file.write(\"  sed -i 's/{0}/'{1}'/g' {2}Master.inp\\n\".format(x_fixed_name[i], \n",
    "                                                                              x_fixed_value[i], input_dir))        \n",
    "        # check the first Master.inp made for constistency\n",
    "        if(check_master):\n",
    "            text_file.write(\"    if ((counter==1)); then\\n\")\n",
    "            text_file.write(\"      python {0}InputChecker.py > checker.txt\\n\".format(python_dir))\n",
    "            text_file.write(\"      if [ $(grep 'INPUT VALID False' checker.txt | wc -l) -ne 0 ]; then\\n\")\n",
    "            text_file.write(\"        cat checker.txt\\n\")\n",
    "            text_file.write(\"        cp -p checker.txt {0}Master.inp {1}{2}\\n\"\n",
    "                            .format(input_dir, external_dir, output_dir))\n",
    "            text_file.write(\"        exit\\n      fi\\n    fi\\n\".format(output_dir))\n",
    "        text_file.write(\"    ./MECSim.exe 2>errors.txt\\n\")\n",
    "        if(show_warnings):\n",
    "            text_file.write(\"    [ $(grep 'WARNING' {0}log.txt | wc -l) != '0' ] && grep 'WARNING' {0}log.txt\\n\".format(output_dir))\n",
    "        if(exit_on_error):\n",
    "            text_file.write(\"    if [ $(grep 'ERROR' {0}/log.txt | wc -l) -ne 0 ]; then\\n\".format(output_dir))\n",
    "            text_file.write(\"      grep 'ERROR' {0}log.txt\\n\".format(output_dir))\n",
    "            text_file.write(\"      exit\\n    fi\\n\".format(output_dir))\n",
    "        if(store_log_files):\n",
    "            text_file.write(\"    mv {0}log.txt {0}log_$x$xext_$y$yext.txt\\n\".format(output_dir))\n",
    "        text_file.write(\"    python {0}HarmonicSplitter.py\\n\".format(python_dir))\n",
    "        text_file.write(\"    z=$(python {0}CompareSmoothed.py)\\n\".format(python_dir))\n",
    "        text_file.write(\"    echo $x$xext,$y$yext,$z >> {0}{1}\\n\".format(output_dir, results_name))\n",
    "        # continuously copy out results - internal container's output directory is empty \n",
    "        text_file.write(\"    cp -p {0}Master.inp {1}\\n\".format(input_dir, output_dir))\n",
    "        text_file.write(\"    cp -p {0}* {1}{0}\\n\".format(output_dir, external_dir))\n",
    "        # check if time write is required\n",
    "        text_file.write(\"    if ((counter%counter_output==0)); then\\n\")\n",
    "        text_file.write(\"      end=$(date +%s)\\n\")\n",
    "        text_file.write(\"      seconds=$((end-start))\\n\")\n",
    "        text_file.write(\"      echo 'Completed:' $((100*counter/counter_max))'%' \\n\") # no \\n as want time taken on line\n",
    "        text_line1 = \"awk -v t=$seconds 'BEGIN{t=int(t*1000)\"\n",
    "        time_text = \"%d:%02d:%02d {0}, t/3600000, t/60000%60, t/1000%60\".format(quote_symbol)\n",
    "        text_line2 = \"; printf {0}Time taken: {1}{2}'\".format(quote_symbol, time_text, '}')\n",
    "        text_file.write(\"      {0}{1}; echo\\n\".format(text_line1, text_line2))\n",
    "        text_file.write(\"    fi\\n\")\n",
    "        # increment counter and y\n",
    "        text_file.write(\"    counter=$((counter+1))\\n\")\n",
    "        text_file.write(\"    y=$((y+ydel))\\n\")\n",
    "        # finish inner loop, increment x and finish outter loop\n",
    "        text_file.write(\"  done\\n\")\n",
    "        text_file.write(\"  x=$((x+xdel))\\n\")\n",
    "        text_file.write(\"done\\n\")\n",
    "        text_file.write(\"\\n\")\n",
    "        text_file.write(\"echo \\n\")\n",
    "        # convert to dos if using a windows\n",
    "        if(using_windows):\n",
    "            # convert text files in output directory in docker\n",
    "            text_file.write(\"unix2dos {0}*.txt\\n\".format(output_dir))\n",
    "            # copy out the now converted files\n",
    "            text_file.write(\"cp -p {0}* {1}{0}\\n\".format(output_dir, external_dir))\n",
    "        # run Bayesian analysis (*.txt) and plotter (produces bayesian_plot.pdf and png) with results_name\n",
    "        if(bayesian_analysis):\n",
    "            text_file.write(\"python {0}BayesianAnalysis.py {1} {2}{3} {4}{5}\\n\".format(python_dir, \n",
    "                                 results_name, external_dir, output_dir, external_dir, script_dir))\n",
    "            # given have posterior.txt file - make the best fit Master.inp \n",
    "            if(output_best_fit):\n",
    "                text_file.write(\"python {0}OutputBestFit.py\\n\".format(python_dir))\n",
    "        # run sum of squares plotter (also uses results file name as argument)\n",
    "        if(plot_surfaces):\n",
    "            text_file.write(\"python {0}SurfacePlotter.py {1} {2}{3} {4}{5}\\n\".format(python_dir, \n",
    "                                 results_name, external_dir, output_dir, external_dir, script_dir))\n",
    "        # copy out the results from analysis scripts\n",
    "        text_file.write(\"cp -p {0}* {1}{0}\\n\".format(output_dir, external_dir))\n",
    "        # output final run time\n",
    "        text_file.write(\"end=$(date +%s)\\n\")\n",
    "        text_file.write(\"seconds=$((end-start))\\n\")\n",
    "        text_line1 = \"awk -v t=$seconds 'BEGIN{t=int(t*1000)\"\n",
    "        time_text = \"%d:%02d:%02d {0}, t/3600000, t/60000%60, t/1000%60\".format(quote_symbol)\n",
    "        text_line2 = \"; printf {0}Time taken: {1}{2}'\".format(quote_symbol, time_text, '}')\n",
    "        text_file.write(\"{0}{1}; echo\\n\".format(text_line1, text_line2))\n",
    "        text_file.write(\"\\n\")\n"
   ]
  },
  {
   "cell_type": "markdown",
   "metadata": {},
   "source": [
    "### Output total number of simulations"
   ]
  },
  {
   "cell_type": "code",
   "execution_count": null,
   "metadata": {},
   "outputs": [],
   "source": [
    "print('Total number of simulations to run = ' + str(n_simulations))"
   ]
  }
 ],
 "metadata": {
  "anaconda-cloud": {},
  "kernelspec": {
   "display_name": "Python (base)",
   "language": "python",
   "name": "base"
  },
  "language_info": {
   "codemirror_mode": {
    "name": "ipython",
    "version": 3
   },
   "file_extension": ".py",
   "mimetype": "text/x-python",
   "name": "python",
   "nbconvert_exporter": "python",
   "pygments_lexer": "ipython3",
   "version": "3.7.3"
  }
 },
 "nbformat": 4,
 "nbformat_minor": 1
}
