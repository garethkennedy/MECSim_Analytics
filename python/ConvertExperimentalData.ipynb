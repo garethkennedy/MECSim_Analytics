{
 "cells": [
  {
   "cell_type": "markdown",
   "metadata": {},
   "source": [
    "# Convert Experimental Data\n",
    "\n",
    "EC-lab converter.\n",
    "\n",
    "Input of header (1 line) then voltage (V), current (mA), time (s)"
   ]
  },
  {
   "cell_type": "markdown",
   "metadata": {},
   "source": [
    "## Script parameters\n",
    "\n",
    "General parameters"
   ]
  },
  {
   "cell_type": "code",
   "execution_count": null,
   "metadata": {},
   "outputs": [],
   "source": [
    "# EC-lab text input name\n",
    "input_filename = '../script/ec_lab_raw_example.txt'\n",
    "# MECSim/POT output file name\n",
    "output_filename = '../script/ec_lab_converted_example.txt'\n",
    "\n",
    "# output plots to screen (useful if interactive)\n",
    "plotInteractive = True\n",
    "\n",
    "# MECSim/POT output file generic header filename\n",
    "mecsim_sample_header_filename = '../script/MECSim_Sample_Header.txt'\n"
   ]
  },
  {
   "cell_type": "markdown",
   "metadata": {},
   "source": [
    "### Load packages"
   ]
  },
  {
   "cell_type": "code",
   "execution_count": null,
   "metadata": {},
   "outputs": [],
   "source": [
    "if(plotInteractive):\n",
    "    %matplotlib inline\n",
    "import numpy as np\n",
    "import matplotlib.pyplot as plt\n",
    "import sys"
   ]
  },
  {
   "cell_type": "markdown",
   "metadata": {},
   "source": [
    "Double check that interactive plotting mode is disabled if running this in script mode"
   ]
  },
  {
   "cell_type": "code",
   "execution_count": null,
   "metadata": {},
   "outputs": [],
   "source": [
    "thisCodeName = 'ConvertExperimentalData.py'\n",
    "nLength = len(thisCodeName)\n",
    "tailString = sys.argv[0]\n",
    "tailString = tailString[-nLength:]\n",
    "if(tailString==thisCodeName):\n",
    "    plotInteractive = False\n",
    "    # next should be the input file name\n",
    "    input_filename = sys.argv[1]\n",
    "    # then the output filename\n",
    "    output_filename = sys.argv[2]\n"
   ]
  },
  {
   "cell_type": "markdown",
   "metadata": {},
   "source": [
    "## Define functions\n",
    "\n",
    "Load general single line header with V, i, t text columns"
   ]
  },
  {
   "cell_type": "code",
   "execution_count": null,
   "metadata": {},
   "outputs": [],
   "source": [
    "def ReadECLabVit(filename):\n",
    "    f = open(filename, 'r')\n",
    "    # skip first line\n",
    "    next(f)\n",
    "    time = []\n",
    "    eapp = []\n",
    "    current = []\n",
    "    for line in f:\n",
    "        columns = line.split()\n",
    "        eapp.append(float(columns[0]))\n",
    "        current.append(float(columns[1]))\n",
    "        time.append(float(columns[2]))\n",
    "    f.close()\n",
    "    return np.asfarray(eapp), np.asfarray(current), np.asfarray(time)"
   ]
  },
  {
   "cell_type": "code",
   "execution_count": null,
   "metadata": {},
   "outputs": [],
   "source": [
    "def WriteMECSimOut(output_filename, mecsim_sample_header_filename, eapp, current, time):\n",
    "    f_head = open(mecsim_sample_header_filename)\n",
    "    lines_head = f_head.readlines()\n",
    "    with open(output_filename, 'w') as f:\n",
    "        for line in lines_head:\n",
    "            f.write(line)\n",
    "        for i in range(len(eapp)):\n",
    "            f.write('{:8.6e}  {:8.6e}  {:8.6e}\\n'.format(eapp[i], current[i], time[i]))\n",
    "    f_head.close()\n",
    "    \n",
    "    return"
   ]
  },
  {
   "cell_type": "markdown",
   "metadata": {},
   "source": [
    "## Read EC lab text file"
   ]
  },
  {
   "cell_type": "code",
   "execution_count": null,
   "metadata": {},
   "outputs": [],
   "source": [
    "eapp, current, time = ReadECLabVit(input_filename)"
   ]
  },
  {
   "cell_type": "markdown",
   "metadata": {},
   "source": [
    "## Convert to MECSim/POT format output file"
   ]
  },
  {
   "cell_type": "code",
   "execution_count": null,
   "metadata": {},
   "outputs": [],
   "source": [
    "WriteMECSimOut(output_filename, mecsim_sample_header_filename, eapp, current, time)"
   ]
  },
  {
   "cell_type": "markdown",
   "metadata": {},
   "source": [
    "## Plot current against time"
   ]
  },
  {
   "cell_type": "code",
   "execution_count": null,
   "metadata": {},
   "outputs": [],
   "source": [
    "plt.figure(figsize=(8,6),dpi=100)\n",
    "plt.rcParams['xtick.major.size'] = 5\n",
    "plt.rcParams['xtick.major.width'] = 2\n",
    "plt.rcParams['xtick.minor.size'] = 3\n",
    "plt.rcParams['xtick.minor.width'] = 2\n",
    "plt.rcParams['ytick.major.size'] = 5\n",
    "plt.rcParams['ytick.major.width'] = 2\n",
    "plt.rcParams['ytick.minor.size'] = 3\n",
    "plt.rcParams['ytick.minor.width'] = 2\n",
    "plt.rcParams['axes.linewidth'] = 2\n",
    "plt.rcParams['lines.linewidth'] = 2\n",
    "plt.rcParams['xtick.labelsize'] = 14\n",
    "plt.rcParams['ytick.labelsize'] = 14\n",
    "plt.ticklabel_format(axis='y', style='sci', scilimits=(-2,2))\n",
    "plt.plot(time, current, 'k')#, label='A', linewidth=2)\n",
    "plt.xlim([0,time[-1]])\n",
    "plt.xlabel('Time (s)', fontsize=20)\n",
    "plt.ylabel('Current (A)', fontsize=20)\n",
    "plt.tight_layout()\n",
    "plt.savefig('ConvertedExperimentalDataCt.png')\n",
    "plt.savefig('ConvertedExperimentalDataCt.ps')\n",
    "plt.savefig('ConvertedExperimentalDataCt.pdf')"
   ]
  },
  {
   "cell_type": "markdown",
   "metadata": {},
   "source": [
    "## Plot current against applied voltage"
   ]
  },
  {
   "cell_type": "code",
   "execution_count": null,
   "metadata": {},
   "outputs": [],
   "source": [
    "plt.figure(figsize=(8,6),dpi=100)\n",
    "plt.ticklabel_format(axis='y', style='sci', scilimits=(-2,2))\n",
    "plt.plot(eapp, current, 'k')#, label='A', linewidth=2)\n",
    "plt.xlabel('Voltage (V)', fontsize=20)\n",
    "plt.ylabel('Current (A)', fontsize=20)\n",
    "plt.tight_layout()\n",
    "plt.savefig('ConvertedExperimentalDataCV.png')\n",
    "plt.savefig('ConvertedExperimentalDataCV.ps')\n",
    "plt.savefig('ConvertedExperimentalDataCV.pdf')"
   ]
  }
 ],
 "metadata": {
  "anaconda-cloud": {},
  "kernelspec": {
   "display_name": "Python 2",
   "language": "python",
   "name": "python2"
  },
  "language_info": {
   "codemirror_mode": {
    "name": "ipython",
    "version": 2
   },
   "file_extension": ".py",
   "mimetype": "text/x-python",
   "name": "python",
   "nbconvert_exporter": "python",
   "pygments_lexer": "ipython2",
   "version": "2.7.12"
  }
 },
 "nbformat": 4,
 "nbformat_minor": 1
}
