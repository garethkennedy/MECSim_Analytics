{
 "cells": [
  {
   "cell_type": "markdown",
   "metadata": {},
   "source": [
    "# MECSim plotter\n",
    "\n",
    "Plotter for ``MECSimOutput_Pot.txt`` format files.\n",
    "\n",
    "Output the current against time and against voltage as 2 sets of images. Each is output as PNG, PS and PDF in a clear format for inclusion in scientific journal articles."
   ]
  },
  {
   "cell_type": "markdown",
   "metadata": {},
   "source": [
    "## Script parameters\n",
    "\n",
    "General parameters"
   ]
  },
  {
   "cell_type": "code",
   "execution_count": null,
   "metadata": {},
   "outputs": [],
   "source": [
    "# MECSim output filename\n",
    "filename = '../output/MECSimOutput_Pot.txt'\n",
    "# output to screen (useful if interactive)\n",
    "iOutputToScreen = True\n",
    "# output plots to screen (useful if interactive)\n",
    "plotInteractive = True\n"
   ]
  },
  {
   "cell_type": "markdown",
   "metadata": {},
   "source": [
    "### Load packages"
   ]
  },
  {
   "cell_type": "code",
   "execution_count": null,
   "metadata": {},
   "outputs": [],
   "source": [
    "if(plotInteractive):\n",
    "    %matplotlib inline\n",
    "import numpy as np\n",
    "import matplotlib.pyplot as plt\n",
    "import sys"
   ]
  },
  {
   "cell_type": "markdown",
   "metadata": {},
   "source": [
    "Double check that interactive plotting mode is disabled if running this in script mode"
   ]
  },
  {
   "cell_type": "code",
   "execution_count": null,
   "metadata": {},
   "outputs": [],
   "source": [
    "thisCodeName = 'MECSimPlotter.py'\n",
    "nLength = len(thisCodeName)\n",
    "tailString = sys.argv[0]\n",
    "tailString = tailString[-nLength:]\n",
    "if(tailString==thisCodeName):\n",
    "    plotInteractive = False\n",
    "    # next should be the file name\n",
    "    filename = sys.argv[1]\n"
   ]
  },
  {
   "cell_type": "markdown",
   "metadata": {},
   "source": [
    "## Define functions\n",
    "\n",
    "Load MECSim output file"
   ]
  },
  {
   "cell_type": "code",
   "execution_count": null,
   "metadata": {},
   "outputs": [],
   "source": [
    "def ReadMECSimOut(filename):\n",
    "    f = open(filename, 'r')\n",
    "    # search for last line of header that is made by MECSim (always this line)\n",
    "    for line in f:\n",
    "        if line.strip() == \"Post(ms):       0.000000E+00\": break\n",
    "    time = []\n",
    "    eapp = []\n",
    "    current = []\n",
    "    for line in f:\n",
    "        columns = line.split()\n",
    "        time.append(float(columns[0]))\n",
    "        eapp.append(float(columns[1]))\n",
    "        current.append(float(columns[2]))\n",
    "    return np.asfarray(time), np.asfarray(eapp), np.asfarray(current)"
   ]
  },
  {
   "cell_type": "markdown",
   "metadata": {},
   "source": [
    "## Read MECSim output file"
   ]
  },
  {
   "cell_type": "code",
   "execution_count": null,
   "metadata": {},
   "outputs": [],
   "source": [
    "eapp, current, time = ReadMECSimOut(filename)"
   ]
  },
  {
   "cell_type": "markdown",
   "metadata": {},
   "source": [
    "## Plot current against time"
   ]
  },
  {
   "cell_type": "code",
   "execution_count": null,
   "metadata": {},
   "outputs": [],
   "source": [
    "plt.figure(figsize=(8,6),dpi=100)\n",
    "plt.rcParams['xtick.major.size'] = 5\n",
    "plt.rcParams['xtick.major.width'] = 2\n",
    "plt.rcParams['xtick.minor.size'] = 3\n",
    "plt.rcParams['xtick.minor.width'] = 2\n",
    "plt.rcParams['ytick.major.size'] = 5\n",
    "plt.rcParams['ytick.major.width'] = 2\n",
    "plt.rcParams['ytick.minor.size'] = 3\n",
    "plt.rcParams['ytick.minor.width'] = 2\n",
    "plt.rcParams['axes.linewidth'] = 2\n",
    "plt.rcParams['lines.linewidth'] = 2\n",
    "plt.rcParams['xtick.labelsize'] = 14\n",
    "plt.rcParams['ytick.labelsize'] = 14\n",
    "plt.ticklabel_format(axis='y', style='sci', scilimits=(-2,2))\n",
    "plt.plot(time, current, 'k')#, label='A', linewidth=2)\n",
    "plt.xlim([0,time[-1]])\n",
    "plt.xlabel('Time (s)', fontsize=20)\n",
    "plt.ylabel('Current (A)', fontsize=20)\n",
    "plt.tight_layout()\n",
    "plt.savefig('MECSimOutputCt.png')\n",
    "plt.savefig('MECSimOutputCt.ps')\n",
    "plt.savefig('MECSimOutputCt.pdf')"
   ]
  },
  {
   "cell_type": "markdown",
   "metadata": {},
   "source": [
    "## Plot current against applied voltage"
   ]
  },
  {
   "cell_type": "code",
   "execution_count": null,
   "metadata": {},
   "outputs": [],
   "source": [
    "plt.figure(figsize=(8,6),dpi=100)\n",
    "plt.ticklabel_format(axis='y', style='sci', scilimits=(-2,2))\n",
    "plt.plot(eapp, current, 'k')#, label='A', linewidth=2)\n",
    "plt.xlabel('Voltage (V)', fontsize=20)\n",
    "plt.ylabel('Current (A)', fontsize=20)\n",
    "plt.tight_layout()\n",
    "plt.savefig('MECSimOutputCV.png')\n",
    "plt.savefig('MECSimOutputCV.ps')\n",
    "plt.savefig('MECSimOutputCV.pdf')"
   ]
  }
 ],
 "metadata": {
  "anaconda-cloud": {},
  "kernelspec": {
   "display_name": "Python 2",
   "language": "python",
   "name": "python2"
  },
  "language_info": {
   "codemirror_mode": {
    "name": "ipython",
    "version": 2
   },
   "file_extension": ".py",
   "mimetype": "text/x-python",
   "name": "python",
   "nbconvert_exporter": "python",
   "pygments_lexer": "ipython2",
   "version": "2.7.12"
  }
 },
 "nbformat": 4,
 "nbformat_minor": 1
}
