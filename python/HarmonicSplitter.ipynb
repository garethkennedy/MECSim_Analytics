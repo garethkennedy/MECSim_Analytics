{
 "cells": [
  {
   "cell_type": "markdown",
   "metadata": {},
   "source": [
    "# Harmonic splitter\n",
    "\n",
    "Go through either experimental or simulation data to isolate the frequencies.\n",
    "\n",
    "Requires: \n",
    "1. **MECSim** has generated a simulation output file **OR** experimental data file of the same format has been provided.\n",
    "2. `Settings.inp` exists in the **`script`** directory\n",
    "3. Data file indicated by `Settings.inp` (default for simulation output is `MECSimOutput_Pot.txt`) is located in the **`output`** directory\n",
    "\n",
    "\n",
    "Outputs file `Smoothed.txt` which contains the smoothed current harmonics against time. Use this with `CompareSmoothed.py` to get the comparison metric. Note that the smoothed output file will have the same data length as the input experimental/simulation data, e.g. a 2$^{12}$ timesteps simulation data file will still have 2$^{12}$ rows in the smoothed output. Cases where the experimental data length is different from the simulated length is taken into account in the comparison code (`CompareSmoothed.py`).\n",
    "\n",
    "\n",
    "### Caution\n",
    "\n",
    "**This script should not need to be modified by general users.**"
   ]
  },
  {
   "cell_type": "markdown",
   "metadata": {},
   "source": [
    "## Interactive mode and default behaviour\n",
    "\n",
    "This script is typically run in from a bash script without any user interaction. \n",
    "\n",
    "Set the following option to True if output and plots to screen are required if running this notebook interactively. It will automatically be set to False if this code is run from the command line in the bash script."
   ]
  },
  {
   "cell_type": "code",
   "execution_count": null,
   "metadata": {},
   "outputs": [],
   "source": [
    "# interactive\n",
    "plotInteractive = True\n",
    "\n",
    "# location of parent directory: typically this file will be in python/ so the parent dir is '../'\n",
    "parent_dir = '../'"
   ]
  },
  {
   "cell_type": "markdown",
   "metadata": {},
   "source": [
    "### Load packages"
   ]
  },
  {
   "cell_type": "code",
   "execution_count": null,
   "metadata": {},
   "outputs": [],
   "source": [
    "# import required python packages\n",
    "import numpy as np\n",
    "# load scipy for FFT functions\n",
    "from scipy.fftpack import rfft, irfft, fftfreq\n",
    "# load pandas for data frame manipulation for csv output\n",
    "import pandas as pd\n",
    "import sys"
   ]
  },
  {
   "cell_type": "markdown",
   "metadata": {},
   "source": [
    "### Check if in script or notebook mode\n",
    "\n",
    "Double check that interactive plotting mode is disabled if running this in script mode"
   ]
  },
  {
   "cell_type": "code",
   "execution_count": null,
   "metadata": {},
   "outputs": [],
   "source": [
    "thisCodeName = 'HarmonicSplitter.py'\n",
    "nLength = len(thisCodeName)\n",
    "tailString = sys.argv[0]\n",
    "tailString = tailString[-nLength:]\n",
    "if(tailString==thisCodeName):\n",
    "    plotInteractive = False\n",
    "    parent_dir = './'"
   ]
  },
  {
   "cell_type": "markdown",
   "metadata": {},
   "source": [
    "### Set default file locations"
   ]
  },
  {
   "cell_type": "code",
   "execution_count": null,
   "metadata": {},
   "outputs": [],
   "source": [
    "# script dir contains script.sh (output here), Master.sk (user prepared) and Settings.inp (output here)\n",
    "script_dir = 'script/'\n",
    "# output dir for mecsim results\n",
    "output_dir = 'output/'\n",
    "\n",
    "# note that the results from this file (\"Smoothed.txt\") are written in the current directory\n",
    "# for notebooks this is python/ for script runs it is ./ (invisible to user)"
   ]
  },
  {
   "cell_type": "markdown",
   "metadata": {},
   "source": [
    "## Read settings\n",
    "\n",
    "Read file names and parameters from settings file made by GenerateScript"
   ]
  },
  {
   "cell_type": "code",
   "execution_count": null,
   "metadata": {},
   "outputs": [],
   "source": [
    "script_file_name = parent_dir+script_dir+'Settings.inp'\n",
    "lines = [line.rstrip() for line in open(script_file_name)]\n",
    "filename = lines[0].strip().split()[0]\n",
    "number_harmonics = int(lines[1].strip().split()[0])\n",
    "frequency_bandwidth = float(lines[2].strip().split()[0])\n",
    "iUseSingleMetric = int(lines[3].strip().split()[0])\n",
    "weights = np.fromstring(lines[4].strip(), dtype=float, sep=',')"
   ]
  },
  {
   "cell_type": "markdown",
   "metadata": {},
   "source": [
    "## Define functions\n",
    "\n",
    "Read the data file using the format from POT software also used as default by MECSim. Time, current then applied potential"
   ]
  },
  {
   "cell_type": "code",
   "execution_count": null,
   "metadata": {},
   "outputs": [],
   "source": [
    "# load POT output file\n",
    "# t_MS2, i_MS2, e_MS2 = ReadPOTFile('Raw/GC06_FeIII-1mM_1M-KCl_02_009Hz.txt', tmin, tmax)\n",
    "def ReadPOTFileFreq(filename):\n",
    "    f = open(filename, 'r')\n",
    "    time = []\n",
    "    eapp = []\n",
    "    current = []\n",
    "    freq = []\n",
    "    amp = []\n",
    "    phase = []\n",
    "    nfreq = 0\n",
    "    iCount = 0\n",
    "    iAll = 0\n",
    "    for line in f:\n",
    "        columns = line.split()\n",
    "        if(columns[0][3:7].isdigit()): # look at 2nd character in case Eapp is \"-\"\n",
    "            thisTime = float(columns[2])\n",
    "            time.append(thisTime)\n",
    "            eapp.append(float(columns[0]))\n",
    "            current.append(float(columns[1]))\n",
    "            iCount += 1\n",
    "        else:\n",
    "            if(columns[0][0:3]=='Fre'):\n",
    "                freq.append(float(columns[1]))\n",
    "            if(columns[0][0:3]=='Amp'):\n",
    "                amp.append(float(columns[1]))\n",
    "                if(amp[-1]!=0.0):\n",
    "                    nfreq += 1\n",
    "            if(columns[0][0:3]=='Pha'):\n",
    "                phase.append(float(columns[1])) # not always there\n",
    "        iAll += 1\n",
    "    return iCount, nfreq, freq, amp, time, current, eapp"
   ]
  },
  {
   "cell_type": "markdown",
   "metadata": {},
   "source": [
    "Smooth the current as an envelope of the current as a function of time"
   ]
  },
  {
   "cell_type": "code",
   "execution_count": null,
   "metadata": {},
   "outputs": [],
   "source": [
    "def SmoothCurrent(t, i, e, tWindow):\n",
    "    iSmooth = list(i)\n",
    "    deltaT = t[1]-t[0] # assumes constant time steps\n",
    "    tEnd = t[-1]\n",
    "    tStart = t[0]\n",
    "    iWindow = int(tWindow/deltaT)+1\n",
    "    windowVal = []\n",
    "    iMax = len(t)\n",
    "    iMinW = -iWindow/2\n",
    "    iMaxW = iMinW+iWindow-1\n",
    "    for j in range(0, iWindow):\n",
    "        windowVal.insert(0, i[j]) # insert at top/pop from bottom\n",
    "    for ii in range(iMax):\n",
    "        iMinW += 1\n",
    "        iMaxW += 1\n",
    "        if((iMinW>0) and (iMaxW<iMax)): # shift running total across by one point\n",
    "            windowVal.pop()\n",
    "            windowVal.insert(0, i[iMaxW])\n",
    "        iSmooth[ii] = max(windowVal)\n",
    "    return iSmooth"
   ]
  },
  {
   "cell_type": "markdown",
   "metadata": {},
   "source": [
    "## Read data file\n",
    "\n",
    "Critical values to return are: nfreq, freq, time, current, eapp. Can ignore: iCount, amp\n"
   ]
  },
  {
   "cell_type": "code",
   "execution_count": null,
   "metadata": {},
   "outputs": [],
   "source": [
    "full_path = parent_dir + output_dir + filename"
   ]
  },
  {
   "cell_type": "code",
   "execution_count": null,
   "metadata": {},
   "outputs": [],
   "source": [
    "iCount, nfreq, freq, amp, time, current, eapp = ReadPOTFileFreq(full_path)\n",
    "t = np.array(time)\n",
    "c = np.array(current)\n",
    "ea = np.array(eapp)"
   ]
  },
  {
   "cell_type": "markdown",
   "metadata": {},
   "source": [
    "Isolate ac fundamental frequencies\n",
    "---"
   ]
  },
  {
   "cell_type": "code",
   "execution_count": null,
   "metadata": {},
   "outputs": [],
   "source": [
    "if(nfreq>0):\n",
    "    # dc + ac harmonics\n",
    "    freqMin = min(freq[0:nfreq])\n",
    "else:\n",
    "    # dc only\n",
    "    freqMin = 10.\n",
    "    number_harmonics = 0\n",
    "# set time period for FFT cuts\n",
    "tWindow = 1.0/freqMin\n",
    "# output if in interactive mode\n",
    "if(plotInteractive):\n",
    "    print('f_min = ',freqMin,' ; t_window = ',tWindow, ' ; n_harmonics (dc=0th) = ', number_harmonics)"
   ]
  },
  {
   "cell_type": "markdown",
   "metadata": {},
   "source": [
    "FFT of the time series data\n",
    "---\n",
    "\n",
    "Single frequency is assumed for now. Do all harmonics of it (and dc).\n",
    "\n",
    "Some error catching added for cases without any frequencies.\n",
    "\n",
    "DC will now take the FFT with $f<f_{min}$ for cases with harmonics or $f_{min}$ = 1000 Hz equivalent if DC only."
   ]
  },
  {
   "cell_type": "code",
   "execution_count": null,
   "metadata": {},
   "outputs": [],
   "source": [
    "i_Harm = []\n",
    "c_Harm = []\n",
    "e_dc = []\n",
    "\n",
    "# also do for the e_app (remove ac component from this)\n",
    "W = fftfreq(ea.size, d=2*(t[1]-t[0]))\n",
    "f_signal = rfft(ea)\n",
    "cut_f_signal = f_signal.copy()\n",
    "cut_f_signal[(W>0.5*freqMin)] = 0\n",
    "cut_signal = irfft(cut_f_signal)\n",
    "e_dc.append(cut_signal)\n",
    "\n",
    "e_dc = np.array(e_dc).reshape(len(t))\n",
    "\n",
    "# special treatment for dc (harmonic = 0)\n",
    "W = fftfreq(c.size, d=2*(t[1]-t[0]))\n",
    "f_signal = rfft(c)\n",
    "cut_f_signal = f_signal.copy()\n",
    "cut_f_signal[(W>0.5*freqMin)] = 0\n",
    "cut_signal = irfft(cut_f_signal)\n",
    "c_Harm.append(cut_signal)\n",
    "i_Harm.append(SmoothCurrent(t, cut_signal, eapp, tWindow))\n",
    "\n",
    "# save FFT for DC to use in interactive plot\n",
    "W_dc = W.copy()\n",
    "f_signal_dc = f_signal.copy()\n",
    "cut_f_signal_dc = cut_f_signal.copy()\n",
    "cut_signal_dc = cut_signal.copy()\n",
    "\n",
    "# frequency based harmonics (n*freq)\n",
    "for iH in range(number_harmonics):\n",
    "    iHarm = iH + 1\n",
    "    fH = float(iHarm)\n",
    "    W = fftfreq(c.size, d=2*(t[1]-t[0]))\n",
    "    f_signal = rfft(c)\n",
    "    cut_f_signal = f_signal.copy()\n",
    "    cut_f_signal[(W<(fH*freq[0]-frequency_bandwidth))] = 0\n",
    "    cut_f_signal[(W>(fH*freq[0]+frequency_bandwidth))] = 0\n",
    "    cut_signal = irfft(cut_f_signal)\n",
    "    c_Harm.append(cut_signal)\n",
    "    i_Harm.append(SmoothCurrent(t, cut_signal, eapp, tWindow))\n"
   ]
  },
  {
   "cell_type": "markdown",
   "metadata": {
    "collapsed": true
   },
   "source": [
    "## Save harmonic data\n",
    "\n",
    "Use Python Data Analysis (pandas) library to slice data and add time as first column for csv output"
   ]
  },
  {
   "cell_type": "code",
   "execution_count": null,
   "metadata": {},
   "outputs": [],
   "source": [
    "output_df = pd.DataFrame(i_Harm)\n",
    "output_df = output_df.transpose()\n",
    "# add Eapp at the start\n",
    "output_df.insert(loc=0, column='ea', value=ea)\n",
    "# add e_dc before Eapp\n",
    "output_df.insert(loc=0, column='e_dc', value=e_dc)\n",
    "# add time at the start (so cols = t, e_dc, e_app, i...)\n",
    "output_df.insert(loc=0, column='t', value=t)"
   ]
  },
  {
   "cell_type": "markdown",
   "metadata": {},
   "source": [
    "Output modified data frame to csv file. Will be read and compared to experimental counterpart by CompareSmoothed.py"
   ]
  },
  {
   "cell_type": "code",
   "execution_count": null,
   "metadata": {},
   "outputs": [],
   "source": [
    "np.savetxt( parent_dir + output_dir + 'Smoothed.txt', output_df)"
   ]
  },
  {
   "cell_type": "markdown",
   "metadata": {
    "collapsed": true
   },
   "source": [
    "## Use interactive plotter\n",
    "\n",
    "ONLY if not using this in bash script"
   ]
  },
  {
   "cell_type": "code",
   "execution_count": null,
   "metadata": {},
   "outputs": [],
   "source": [
    "if(plotInteractive):\n",
    "    import matplotlib.pyplot as plt\n",
    "    %matplotlib inline\n",
    "    for i in range(number_harmonics):\n",
    "        iH = i+1\n",
    "        plt.plot(t, i_Harm[iH],c='r')\n",
    "    if(number_harmonics>1):\n",
    "        plt.show()"
   ]
  },
  {
   "cell_type": "code",
   "execution_count": null,
   "metadata": {},
   "outputs": [],
   "source": [
    "# plot the dc component\n",
    "if(plotInteractive):\n",
    "    plt.subplot(221)\n",
    "    plt.plot(t, c, 'k')\n",
    "    plt.subplot(222)\n",
    "    plt.plot(W_dc, f_signal_dc, 'k')\n",
    "    plt.xlim(0, tWindow)\n",
    "    plt.subplot(223)\n",
    "    plt.plot(W_dc, cut_f_signal_dc, 'k')\n",
    "    plt.xlim(0,tWindow)\n",
    "    plt.subplot(224)\n",
    "    plt.plot(t, cut_signal_dc, 'k')\n",
    "    plt.show()\n",
    "    "
   ]
  },
  {
   "cell_type": "code",
   "execution_count": null,
   "metadata": {},
   "outputs": [],
   "source": [
    "if(plotInteractive):\n",
    "    iH = 0\n",
    "    plt.plot(t, c_Harm[iH],c='k')\n",
    "    plt.plot(t, i_Harm[iH],c='r')\n",
    "    plt.show()"
   ]
  },
  {
   "cell_type": "code",
   "execution_count": null,
   "metadata": {},
   "outputs": [],
   "source": [
    "if(plotInteractive):\n",
    "    iH = 0\n",
    "    plt.plot(t, ea,c='k')\n",
    "    plt.plot(t, e_dc,c='r')\n",
    "    plt.show()\n",
    "    plt.plot(e_dc, c,c='k')\n",
    "    plt.plot(e_dc, c_Harm[iH],c='r')\n",
    "    plt.plot(e_dc, i_Harm[iH],c='g')\n",
    "    plt.show()"
   ]
  }
 ],
 "metadata": {
  "anaconda-cloud": {},
  "kernelspec": {
   "display_name": "Python 3",
   "language": "python",
   "name": "python3"
  },
  "language_info": {
   "codemirror_mode": {
    "name": "ipython",
    "version": 3
   },
   "file_extension": ".py",
   "mimetype": "text/x-python",
   "name": "python",
   "nbconvert_exporter": "python",
   "pygments_lexer": "ipython3",
   "version": "3.7.3"
  }
 },
 "nbformat": 4,
 "nbformat_minor": 1
}
