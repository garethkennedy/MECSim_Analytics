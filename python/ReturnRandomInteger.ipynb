{
 "cells": [
  {
   "cell_type": "markdown",
   "metadata": {},
   "source": [
    "# Return a random integer\n",
    "\n",
    "\n",
    "Called by random sample script"
   ]
  },
  {
   "cell_type": "code",
   "execution_count": 4,
   "metadata": {
    "collapsed": false
   },
   "outputs": [],
   "source": [
    "def returnRandomInteger(x_min, x_max, log_uniform=False):\n",
    "    \"\"\"\n",
    "    Return a random integer from a range assuming uniform distribution (can be in log) in a specified range.\n",
    "    \n",
    "    Inputs: x_min, x_max as numeric\n",
    "    Outputs: random number x in ExpForm as above\n",
    "    \"\"\"\n",
    "    import random\n",
    "    import numpy as np\n",
    "    if(log_uniform):\n",
    "        if(x_min<0):\n",
    "            x_min = 1.0e-10\n",
    "        x_min = np.log10(x_min)\n",
    "        x_max = np.log10(x_max)\n",
    "        x = random.uniform(x_min, x_max)\n",
    "        x = 10.0**x\n",
    "    else:\n",
    "        x = random.uniform(x_min, x_max)\n",
    "    return int(x)\n",
    "\n",
    "#returnRandomInteger(0.001, 1.0e7, log_uniform=True)"
   ]
  },
  {
   "cell_type": "code",
   "execution_count": 6,
   "metadata": {
    "collapsed": false
   },
   "outputs": [
    {
     "name": "stdout",
     "output_type": "stream",
     "text": [
      "Error\n"
     ]
    }
   ],
   "source": [
    "import sys\n",
    "thisCodeName = 'ReturnRandomInteger.py'\n",
    "nLength = len(thisCodeName)\n",
    "tailString = sys.argv[0]\n",
    "tailString = tailString[-nLength:]\n",
    "if(tailString==thisCodeName and len(sys.argv)>=3):\n",
    "    # next should be the file name\n",
    "    x_min = float(sys.argv[1])\n",
    "    x_max = float(sys.argv[2])\n",
    "    log_uniform = False\n",
    "    if(len(sys.argv)>=4 and sys.argv[3]==\"True\"):\n",
    "        log_uniform = True\n",
    "    x = returnRandomInteger(x_min, x_max, log_uniform)\n",
    "    print(x)\n",
    "else:\n",
    "    print('Error')"
   ]
  }
 ],
 "metadata": {
  "anaconda-cloud": {},
  "kernelspec": {
   "display_name": "Python 2",
   "language": "python",
   "name": "python2"
  },
  "language_info": {
   "codemirror_mode": {
    "name": "ipython",
    "version": 2
   },
   "file_extension": ".py",
   "mimetype": "text/x-python",
   "name": "python",
   "nbconvert_exporter": "python",
   "pygments_lexer": "ipython2",
   "version": "2.7.12"
  }
 },
 "nbformat": 4,
 "nbformat_minor": 0
}
