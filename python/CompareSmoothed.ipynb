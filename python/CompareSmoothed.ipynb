{
 "cells": [
  {
   "cell_type": "markdown",
   "metadata": {},
   "source": [
    "# Compare smoothed waveforms\n",
    "\n",
    "This script compares two smoothed data files and outputs the sum of squares comparison, either as a single metric or separately for each harmonic.\n",
    "\n",
    "Requires: \n",
    "1. Experimental and simulation data have already been processed into time series of smoothed harmonics by `HarmonicSplitter.py`.\n",
    "2. `Smoothed.txt` (and `ExpSmoothed.txt`) files are located in the **`output`** directory\n",
    "3. `Settings.inp` exists in the **`script`** directory\n",
    "\n",
    "The file `Settings.inp` constains parameters for this script as well as the for the harmonic splitter used to create the smoothed harmonics (`HarmonicSplitter.py`). The parameters include the number of harmonics, frequency bandwidth and the weights for each harmonic if a single metric is requested. These settings as well as the script that automates the running of this and `HarmonicSplitter.py` are both made by `GenerateScript.ipynb`.\n",
    "\n",
    "All parameters for running this comparison, as well as `HarmonicSplitter.py` which creates the smoothed data files, is setup via the `Settings.inp` file which is created by the `GenerateScript.ipynb` python notebook which is the primary point of contact for users.\n",
    "\n",
    "Note that there is a plotting option at the bottom of this script that can be activated manually for customizing this script - typically this should be turned off for running with the bash script.\n",
    "\n",
    "\n",
    "### Caution\n",
    "\n",
    "**This script should not need to be modified by general users.**"
   ]
  },
  {
   "cell_type": "markdown",
   "metadata": {},
   "source": [
    "### Set default file locations"
   ]
  },
  {
   "cell_type": "code",
   "execution_count": null,
   "metadata": {},
   "outputs": [],
   "source": [
    "# script dir contains script.sh (output here), Master.sk (user prepared) and Settings.inp (output here)\n",
    "script_dir = 'script/'\n",
    "# location of parent directory: typically this file will be in python/ so the parent dir is '../'\n",
    "parent_dir = '../'\n",
    "# output dir for results\n",
    "output_dir = 'output/'"
   ]
  },
  {
   "cell_type": "markdown",
   "metadata": {},
   "source": [
    "### Set default behaviour"
   ]
  },
  {
   "cell_type": "code",
   "execution_count": null,
   "metadata": {},
   "outputs": [],
   "source": [
    "# interactive\n",
    "plotInteractive = True\n",
    "\n",
    "# default is running in notebook:\n",
    "# if running in docker then the container structure requires this be external/\n",
    "external_dir = ''"
   ]
  },
  {
   "cell_type": "markdown",
   "metadata": {},
   "source": [
    "### Load packages"
   ]
  },
  {
   "cell_type": "code",
   "execution_count": null,
   "metadata": {},
   "outputs": [],
   "source": [
    "# import required python packages\n",
    "import numpy as np\n",
    "import pandas as pd\n",
    "import sys\n",
    "# resample method for sim/exp data of different lengths and not whole multiples (e.g. 2^n vs 2^(n-1))\n",
    "from scipy.signal import resample_poly\n"
   ]
  },
  {
   "cell_type": "markdown",
   "metadata": {},
   "source": [
    "### Check if in script or notebook mode\n",
    "\n",
    "Double check that interactive plotting mode is disabled if running this in script mode"
   ]
  },
  {
   "cell_type": "code",
   "execution_count": null,
   "metadata": {},
   "outputs": [],
   "source": [
    "thisCodeName = 'CompareSmoothed.py'\n",
    "nLength = len(thisCodeName)\n",
    "tailString = sys.argv[0]\n",
    "tailString = tailString[-nLength:]\n",
    "if(tailString==thisCodeName):\n",
    "    plotInteractive = False\n",
    "    parent_dir = './'\n",
    "    external_dir = 'external/'"
   ]
  },
  {
   "cell_type": "markdown",
   "metadata": {},
   "source": [
    "## Read settings\n",
    "\n",
    "Read parameters from the text file ``Settings.inp`` created by ``GenerateScript.ipynb``\n"
   ]
  },
  {
   "cell_type": "code",
   "execution_count": null,
   "metadata": {},
   "outputs": [],
   "source": [
    "script_file_name = parent_dir+script_dir+'Settings.inp'\n",
    "lines = [line.rstrip() for line in open(script_file_name)]\n",
    "filename = lines[0].strip().split()[0]\n",
    "number_harmonics = int(lines[1].strip().split()[0])\n",
    "frequency_bandwidth = float(lines[2].strip().split()[0])\n",
    "iUseSingleMetric = int(lines[3].strip().split()[0]) # =0 or =1\n",
    "weights = np.fromstring(lines[4].strip(), dtype=float, sep=',')"
   ]
  },
  {
   "cell_type": "markdown",
   "metadata": {},
   "source": [
    "## Set filenames\n",
    "\n",
    "Be default the filenames specifying the smoothed experimental and simulated data used for this comparison are hard wired. Changing these also requires them to be changed in ``HarmonicSplitter.py`` for consistency."
   ]
  },
  {
   "cell_type": "code",
   "execution_count": null,
   "metadata": {},
   "outputs": [],
   "source": [
    "# input the total number of frequencies to check; i.e. all frequencies, harmonics, cross harmonics etc\n",
    "# specified in harmonic splitter when this was created\n",
    "n_freq = number_harmonics\n",
    "\n",
    "# experimental and simulated data file names\n",
    "filename_exp = parent_dir + output_dir + 'ExpSmoothed.txt'\n",
    "filename_sim = parent_dir + output_dir + 'Smoothed.txt'\n"
   ]
  },
  {
   "cell_type": "markdown",
   "metadata": {},
   "source": [
    "### Define data read function\n",
    "\n",
    "Read smoothed time series data. Generalise to take any number of harmonics and weights.\n",
    "For example we have 2 input frequencies and the 2nd harmonic of the 1st input frequency is more important.\n",
    "\n",
    "First is time, second is dc, after that there are N harmonics"
   ]
  },
  {
   "cell_type": "code",
   "execution_count": null,
   "metadata": {},
   "outputs": [],
   "source": [
    "def ReadSmoothed(filename):\n",
    "    f = open(filename, 'r')\n",
    "    input_data = []\n",
    "    for line in f:\n",
    "        input_data.append(line.split())\n",
    "    input_array = np.array(input_data, dtype=float)\n",
    "    return input_array"
   ]
  },
  {
   "cell_type": "markdown",
   "metadata": {},
   "source": [
    "<a id=\"ref_weights\"></a>\n",
    "### Sum of squares comparison function\n",
    "\n",
    "For each harmonic the relative sum of squares difference is calculated by\n",
    "$$\n",
    "S_j = \\frac{ \\sum_k^n \\left( i^{exp}_k - i^{sim}_k \\right)^2 }{ \\sum_k^n \\left( i^{exp}_k \\right)^2 }\n",
    "$$\n",
    "where $n$ is the total number of current ($i$), time and voltage points in the smoothed experimental ($exp$) and simiulated ($sim$) data for a given harmonic. Note that \"harmonics\" refer to the harmonics of a particular ac signal (e.g. 5, 10, 15, 20 Hz etc) as well as the dc ramp or \"0$^{th}$ harmonic\". \n",
    "\n",
    "The metric used in `CompareSmoothed.py` is to take the smoothed harmonics created by `HarmonicSplitter.py` for both the experimental and simulated data (a function of parameters run by MECSim), calculate the relative sum of squares difference for each harmonic ($S_j$) and combine them to a single metric $S_m$ via\n",
    "$$\n",
    "S_m = \\sum_{j=0}^{n_{harm}} w_j S_j\n",
    "$$\n",
    "where $n_{harm}$ is the number of harmonics, $j=0$ is the dc component, $w_j$ is the weight given to harmonic $j$ specified in the `Settings.inp` file. The weights ($w_j$) for each harmonic (and dc component) are set as a vector of any sum, or left as the unweighted default of $w_j = 1$.\n",
    "\n",
    "#### Options for comparison\n",
    "\n",
    "The relative sums of squares are combined using the weights to calculate the final metric denoted as $S_m$ above if *output_single_metric = True* in either `GenerateScript.ipynb` or `RandomlySampleRange.ipynb`. If *output_single_metric = False* then the sum of squares values ($S_j$) are output as a comma separated string.\n"
   ]
  },
  {
   "cell_type": "markdown",
   "metadata": {},
   "source": [
    "## Comparison function\n",
    "\n",
    "Define the relative/scaled sum of squares functon for comparing two curves.\n",
    "\n",
    "Notes:\n",
    "1. The sum of squares function is scaled by the sum of squares of the first input data \n",
    "2. Input data must perfectly align in that they should have the same number of data rows in each file (this is now corrected for datasets with differing lenghts below)\n"
   ]
  },
  {
   "cell_type": "code",
   "execution_count": null,
   "metadata": {},
   "outputs": [],
   "source": [
    "def ScaledSumOfSquares(y1, y2): # first is the basis for comparision\n",
    "    S = 0.0\n",
    "    X = 0.0\n",
    "    for i in range(len(y1)):\n",
    "        S += (y1[i]-y2[i])**2.\n",
    "        X += y1[i]**2.\n",
    "    if(X!=0.0):\n",
    "        return S/X\n",
    "    else:\n",
    "        return 0.0"
   ]
  },
  {
   "cell_type": "markdown",
   "metadata": {},
   "source": [
    "## Read files\n",
    "\n",
    "Read experimental and simulation data files using defined function"
   ]
  },
  {
   "cell_type": "code",
   "execution_count": null,
   "metadata": {},
   "outputs": [],
   "source": [
    "smoothed_exp = ReadSmoothed(filename_exp)\n",
    "smoothed_sim = ReadSmoothed(filename_sim)"
   ]
  },
  {
   "cell_type": "markdown",
   "metadata": {},
   "source": [
    "### Check data file consistency\n",
    "\n",
    "Check file structure of both files for the correct number of harmonics as set in ``Settings.inp``.\n",
    "\n",
    "Smoothed.txt file strucure is $t$, $E_{dc}$, $E_{app}$, $i_{dc}$, $i_{harmonics}$ ($*n$)"
   ]
  },
  {
   "cell_type": "code",
   "execution_count": null,
   "metadata": {},
   "outputs": [],
   "source": [
    "n_found_harm_exp = len(smoothed_exp[0, :]) - 4\n",
    "n_found_harm_sim = len(smoothed_sim[0, :]) - 4\n",
    "if(number_harmonics!=n_found_harm_sim) or (number_harmonics!=n_found_harm_exp):\n",
    "    print(\"WARNING: inconsistent number of harmonics (excluding dc)\")\n",
    "    print(\"Settings n_harm=\", number_harmonics)\n",
    "    print(\"Experimental data n_harm=\", n_found_harm_exp)\n",
    "    print(\"Simulation data n_harm=\", n_found_harm_sim)"
   ]
  },
  {
   "cell_type": "markdown",
   "metadata": {},
   "source": [
    "Check if the sim/exp data files are of equal length - if not then make them equal to the shortest length for direct comparison via least squares function"
   ]
  },
  {
   "cell_type": "code",
   "execution_count": null,
   "metadata": {},
   "outputs": [],
   "source": [
    "# f unequal then adjust one data set\n",
    "n_data_exp = len(smoothed_exp[:, 0])\n",
    "n_data_sim = len(smoothed_sim[:, 0])\n",
    "\n",
    "if(n_data_exp != n_data_sim):\n",
    "\n",
    "    r_s_e = float(n_data_sim) / float(n_data_exp)\n",
    "    r_e_s = float(n_data_exp) / float(n_data_sim)\n",
    "\n",
    "    # n_sim/n_exp = int>1\n",
    "    if(r_s_e % 1 == 0):\n",
    "        smoothed_sim = smoothed_sim[::int(r_s_e)]\n",
    "    elif(r_e_s % 1 == 0):\n",
    "        smoothed_exp = smoothed_exp[::int(r_e_s)]\n",
    "    else:\n",
    "        # interpolation required to get longer one to shorter one\n",
    "        if(n_data_sim<n_data_exp):\n",
    "            smoothed_exp = resample_poly(smoothed_exp, n_data_sim, n_data_exp, axis=0)\n",
    "        else:\n",
    "            smoothed_sim = resample_poly(smoothed_sim, n_data_exp, n_data_sim, axis=0)\n",
    "\n",
    "    # update\n",
    "    n_data_exp = len(smoothed_exp[:, 0])\n",
    "    n_data_sim = len(smoothed_sim[:, 0])\n"
   ]
  },
  {
   "cell_type": "markdown",
   "metadata": {},
   "source": [
    "## Calculate metric\n",
    "\n",
    "Calculate the combined metric $S_m$ accounting for all harmonics with dc first (so +1 for range). We start at column 1 rather than 0 as we do not need to compare the time column (index=0)."
   ]
  },
  {
   "cell_type": "code",
   "execution_count": null,
   "metadata": {},
   "outputs": [],
   "source": [
    "Smetric = 0.0\n",
    "S = []\n",
    "for i in range(number_harmonics+1):\n",
    "    # raw sum of squares comparison (skip t, e_dc, e_app)\n",
    "    Sharm = ScaledSumOfSquares(smoothed_sim[:, i+3], smoothed_exp[:, i+3])\n",
    "    S.append(Sharm)\n",
    "    Smetric+=Sharm*weights[i]\n"
   ]
  },
  {
   "cell_type": "markdown",
   "metadata": {},
   "source": [
    "## Write to metric to output\n",
    "\n",
    "Depending on the selection in `Settings.inp` this file either outputs (to screen via print) a single number (the $S_m$ metric) or the full list of sum of squares values for each harmonic separated by commas. \n",
    "\n",
    "This is output via a print statement so it can be picked up by an echo command in the looping bash script (created by `GenerateScript.ipynb` or `RandomlySampleRange.ipynb`). There it is combined with the input parameters and appended to the `results.txt` output file from the whole loop."
   ]
  },
  {
   "cell_type": "code",
   "execution_count": null,
   "metadata": {},
   "outputs": [],
   "source": [
    "if(iUseSingleMetric==1): # use total metric\n",
    "    print(Smetric)\n",
    "else: # use each harmonic split by commas\n",
    "    SHText = ','.join(map(str, S))\n",
    "    print(SHText)"
   ]
  },
  {
   "cell_type": "markdown",
   "metadata": {
    "collapsed": true
   },
   "source": [
    "## Use interactive plotter\n",
    "\n",
    "ONLY if not using this in bash script.\n",
    "\n",
    "Simulation in red, experimental data in black. Harmonic 0 is dc and this example creates a plot up to the 5th harmonic."
   ]
  },
  {
   "cell_type": "code",
   "execution_count": null,
   "metadata": {},
   "outputs": [],
   "source": [
    "if(plotInteractive):\n",
    "    import matplotlib.pyplot as plt\n",
    "    %matplotlib inline\n",
    "    plt.figure(figsize=(20,10))\n",
    "    n_plot = number_harmonics + 3\n",
    "    plot_ref = 231\n",
    "    for i_harm in range(n_plot):\n",
    "        plt.subplot(plot_ref + i_harm)\n",
    "        plt.plot(smoothed_exp[:, 0], smoothed_exp[:, i_harm+1], c='k')\n",
    "        plt.plot(smoothed_sim[:, 0], smoothed_sim[:, i_harm+1], c='r')\n",
    "    plt.show()"
   ]
  }
 ],
 "metadata": {
  "anaconda-cloud": {},
  "kernelspec": {
   "display_name": "Python (base)",
   "language": "python",
   "name": "base"
  },
  "language_info": {
   "codemirror_mode": {
    "name": "ipython",
    "version": 3
   },
   "file_extension": ".py",
   "mimetype": "text/x-python",
   "name": "python",
   "nbconvert_exporter": "python",
   "pygments_lexer": "ipython3",
   "version": "3.7.3"
  }
 },
 "nbformat": 4,
 "nbformat_minor": 1
}
