{
 "cells": [
  {
   "cell_type": "markdown",
   "metadata": {},
   "source": [
    "# Compare smoothed waveforms\n",
    "\n",
    "This script compares two smoothed data files and outputs the sum of squares comparison, either as a single metric or separately for each harmonic.\n",
    "\n",
    "Requires: \n",
    "1. Experimental and simulation data have already been processed into time series of smoothed harmonics.\n",
    "2. ``Settings.inp`` exists in the same directory as this python script\n",
    "\n",
    "The file ``Settings.inp`` constains parameters for this script as well as the for the harmonic splitter used to create the smoothed harmonics (``HarmonicSplitter.py``). The parameters include the number of harmonics, frequency bandwidth and the weights for each harmonic if a single metric is requested. These settings as well as the script that automates the running of this and ``HarmonicSplitter.py`` are both made by ``GenerateScript.ipynb``.\n",
    "\n",
    "### Caution\n",
    "\n",
    "**This script should not need to be modified by general users.**\n",
    "\n",
    "All parameters for running this comparison, as well as ``HarmonicSplitter.py`` which creates the smoothed data files, is setup via the ``Settings.inp`` file which is created by the ``GenerateScript.ipynb`` python notebook which is the primary point of contact for users.\n",
    "\n",
    "Note that there is a plotting option at the bottom of this script that can be activated manually for customizing this script - typically this should be turned off for running with the bash script."
   ]
  },
  {
   "cell_type": "markdown",
   "metadata": {},
   "source": [
    "### Load packages"
   ]
  },
  {
   "cell_type": "code",
   "execution_count": 14,
   "metadata": {
    "collapsed": true
   },
   "outputs": [],
   "source": [
    "# import required python packages\n",
    "import numpy as np\n",
    "import pandas as pd\n",
    "import sys"
   ]
  },
  {
   "cell_type": "markdown",
   "metadata": {},
   "source": [
    "## Read settings\n",
    "\n",
    "Read parameters from the text file ``Settings.inp`` created by ``GenerateScript.ipynb``\n"
   ]
  },
  {
   "cell_type": "code",
   "execution_count": 15,
   "metadata": {
    "collapsed": false
   },
   "outputs": [],
   "source": [
    "lines = [line.rstrip('\\n') for line in open('Settings.inp')]\n",
    "filename = lines[0].strip().split()[0]\n",
    "number_harmonics = int(lines[1].strip().split()[0])\n",
    "frequency_bandwidth = float(lines[2].strip().split()[0])\n",
    "iUseSingleMetric = int(lines[3].strip().split()[0]) # =0 or =1\n",
    "i_use_weights = int(lines[4].strip().split()[0])\n",
    "weights = np.fromstring(lines[5].strip(), dtype=float, sep=',')"
   ]
  },
  {
   "cell_type": "markdown",
   "metadata": {},
   "source": [
    "## Set filenames\n",
    "\n",
    "Be default the filenames specifying the smoothed experimental and simulated data used for this comparison are hard wired. Changing these also requires them to be changed in ``HarmonicSplitter.py`` for consistency."
   ]
  },
  {
   "cell_type": "code",
   "execution_count": 16,
   "metadata": {
    "collapsed": true
   },
   "outputs": [],
   "source": [
    "# input the total number of frequencies to check; i.e. all frequencies, harmonics, cross harmonics etc\n",
    "# specified in harmonic splitter when this was created\n",
    "n_freq = number_harmonics\n",
    "\n",
    "# experimental and simulated data file names\n",
    "filename_exp = 'ExpSmoothed.txt'\n",
    "filename_sim = 'Smoothed.txt'\n",
    "\n",
    "# interactive\n",
    "plotInteractive = False\n",
    "\n",
    "# weights file (made by generate script?)"
   ]
  },
  {
   "cell_type": "markdown",
   "metadata": {},
   "source": [
    "Double check that interactive plotting mode is disabled if running this in script mode"
   ]
  },
  {
   "cell_type": "code",
   "execution_count": 17,
   "metadata": {
    "collapsed": true
   },
   "outputs": [],
   "source": [
    "thisCodeName = 'CompareSmoothed.py'\n",
    "nLength = len(thisCodeName)\n",
    "tailString = sys.argv[0]\n",
    "tailString = tailString[-nLength:]\n",
    "if(tailString==thisCodeName):\n",
    "    plotInteractive = False\n"
   ]
  },
  {
   "cell_type": "markdown",
   "metadata": {},
   "source": [
    "## Define functions\n",
    "\n",
    "### Data read function\n",
    "\n",
    "Read smoothed time series data. Generalise to take any number of harmonics and weights.\n",
    "For example we have 2 input frequencies and the 2nd harmonic of the 1st input frequency is more important.\n",
    "\n",
    "First is time, second is dc, after that there are N harmonics"
   ]
  },
  {
   "cell_type": "code",
   "execution_count": 18,
   "metadata": {
    "collapsed": false
   },
   "outputs": [],
   "source": [
    "def ReadSmoothed(filename):\n",
    "    f = open(filename, 'r')\n",
    "    input_data = []\n",
    "    for line in f:\n",
    "        input_data.append(line.split())\n",
    "    input_array = np.array(input_data, dtype=float)\n",
    "    return input_array"
   ]
  },
  {
   "cell_type": "markdown",
   "metadata": {},
   "source": [
    "<a id=\"ref_weights\"></a>\n",
    "### Sum of squares comparison function\n",
    "\n",
    "Metric used in ``CompareSmoothed.py`` is to take the smoothed harmonics from ``HarmonicSplitter.py`` for both the experimental and simulated data (a function of parameters run by ``MECSim``), calculated the sum of squares difference for each harmonic and combine them to a single metric $S_m$ via\n",
    "$$\n",
    "S_m = \\sum_{j=0}^{n_{harm}} w_j S_j\n",
    "$$\n",
    "where $n_{harm}$ is the number of harmonics, $j=0$ is the dc component, $w_j$ is the weight given to harmonic $j$ specified in the ``Settings.inp`` file and $S_j$ is the relative sum of squares difference given by\n",
    "$$\n",
    "S_j = \\frac{ \\sum_k^n \\left( i^{exp}_k - i^{sim}_k \\right)^2 }{ \\sum_k^n \\left( i^{exp}_k \\right)^2 }\n",
    "$$\n",
    "where $n$ is the total number of current ($i$), time and voltage points in the smoothed experiemental ($exp$) and simiulated ($sim$) data. The weights ($w_j$) for each harmonic (and dc component) are set as a vector of any sum, or left as the unweighted default of $w_j = 1$.\n",
    "\n",
    "These relative sums of squares are combined using the weights to calculate the final metric denoted as $S$ below. Note that the raw sum of squares values are output as a comma separated string if ``i_use_weights=0``.\n",
    "\n",
    "Notes:\n",
    "1. The sum of squares function is scaled by the sum of squares of the first input data \n",
    "2. Input data must perfectly align in that they should have the same number of data rows in each file\n"
   ]
  },
  {
   "cell_type": "code",
   "execution_count": 19,
   "metadata": {
    "collapsed": true
   },
   "outputs": [],
   "source": [
    "def ScaledSumOfSquares(y1, y2): # first is the basis for comparision\n",
    "    S = 0.0\n",
    "    X = 0.0\n",
    "    for i in range(len(y1)):\n",
    "        S += (y1[i]-y2[i])**2.\n",
    "        X += y1[i]**2.\n",
    "    if(X!=0.0):\n",
    "        return S/X\n",
    "    else:\n",
    "        return 0.0"
   ]
  },
  {
   "cell_type": "markdown",
   "metadata": {},
   "source": [
    "## Read files\n",
    "\n",
    "Read experimental and simulation data files using defined function"
   ]
  },
  {
   "cell_type": "code",
   "execution_count": 20,
   "metadata": {
    "collapsed": false
   },
   "outputs": [],
   "source": [
    "smoothed_exp = ReadSmoothed(filename_exp)\n",
    "smoothed_sim = ReadSmoothed(filename_sim)"
   ]
  },
  {
   "cell_type": "markdown",
   "metadata": {},
   "source": [
    "### Check data file consistency\n",
    "\n",
    "Check file structure of both files for the correct number of harmonics as set in ``Settings.inp``.\n",
    "\n",
    "Smoothed.txt file strucure is $t$, $E_{dc}$, $E_{app}$, $i_{dc}$, $i_{harmonics}$ ($*n$)"
   ]
  },
  {
   "cell_type": "code",
   "execution_count": 21,
   "metadata": {
    "collapsed": false
   },
   "outputs": [],
   "source": [
    "n_found_harm_exp = len(smoothed_exp[0, :]) - 4\n",
    "n_found_harm_sim = len(smoothed_sim[0, :]) - 4\n",
    "if(number_harmonics!=n_found_harm_sim) or (number_harmonics!=n_found_harm_exp):\n",
    "    print \"WARNING: inconsistent number of harmonics (excluding dc)\"\n",
    "    print \"Settings n_harm=\", number_harmonics\n",
    "    print \"Experimental data n_harm=\", n_found_harm_exp\n",
    "    print \"Simulation data n_harm=\", n_found_harm_sim"
   ]
  },
  {
   "cell_type": "markdown",
   "metadata": {},
   "source": [
    "## Calculate metric\n",
    "\n",
    "Calculate the combined metric $S$ accounting for all harmonics with dc first (so +1 for range). We start at column 1 rather than 0 as we do not need to compare the time column (index=0)."
   ]
  },
  {
   "cell_type": "code",
   "execution_count": 23,
   "metadata": {
    "collapsed": false
   },
   "outputs": [],
   "source": [
    "Smetric = 0.0\n",
    "S = []\n",
    "for i in range(number_harmonics+1):\n",
    "    # raw sum of squares comparison (skip t, e_dc, e_app)\n",
    "    Sharm = ScaledSumOfSquares(smoothed_sim[:, i+3], smoothed_exp[:, i+3])\n",
    "    S.append(Sharm)\n",
    "    Smetric+=Sharm*weights[i]\n"
   ]
  },
  {
   "cell_type": "markdown",
   "metadata": {},
   "source": [
    "## Write to single metric to output\n",
    "\n",
    "Depending on the selection in ``Settings.inp`` this file either outputs (to screen via print) a single number (the $S$ metric) or the full list of sum of squares values for each harmonic separated by commas. \n",
    "\n",
    "This is output via a print statement so it can be picked up by an echo command in the looping bash script (created by ``GenerateScript.ipynb``). There it is combined with the input parameters and appended to the ``Results.txt`` output file from the whole loop."
   ]
  },
  {
   "cell_type": "code",
   "execution_count": 24,
   "metadata": {
    "collapsed": false
   },
   "outputs": [
    {
     "name": "stdout",
     "output_type": "stream",
     "text": [
      "0.0\n"
     ]
    }
   ],
   "source": [
    "if(iUseSingleMetric==1): # use total metric\n",
    "    print Smetric\n",
    "else: # use each harmonic split by commas\n",
    "    SHText = ','.join(map(str, S))\n",
    "    print SHText"
   ]
  },
  {
   "cell_type": "markdown",
   "metadata": {
    "collapsed": true
   },
   "source": [
    "## Use interactive plotter\n",
    "\n",
    "ONLY if not using this in bash script.\n",
    "\n",
    "Simulation in red, experimental data in black. Harmonic 0 is dc and this example goes up to the 5th harmonic."
   ]
  },
  {
   "cell_type": "code",
   "execution_count": 25,
   "metadata": {
    "collapsed": false
   },
   "outputs": [],
   "source": [
    "if(plotInteractive):\n",
    "    import matplotlib.pyplot as plt\n",
    "    %matplotlib inline\n",
    "    plt.figure(figsize=(20,10))\n",
    "    plt.subplot(231)\n",
    "    i_harm = 0\n",
    "    plt.plot(smoothed_exp[:, 0], smoothed_exp[:, i_harm+1], c='k')\n",
    "    plt.plot(smoothed_sim[:, 0], smoothed_sim[:, i_harm+1], c='r')\n",
    "    plt.subplot(232)\n",
    "    i_harm = 1\n",
    "    plt.plot(smoothed_exp[:, 0], smoothed_exp[:, i_harm+1], c='k')\n",
    "    plt.plot(smoothed_sim[:, 0], smoothed_sim[:, i_harm+1], c='r')\n",
    "    plt.subplot(233)\n",
    "    i_harm = 2\n",
    "    plt.plot(smoothed_exp[:, 0], smoothed_exp[:, i_harm+1], c='k')\n",
    "    plt.plot(smoothed_sim[:, 0], smoothed_sim[:, i_harm+1], c='r')\n",
    "    plt.subplot(234)\n",
    "    i_harm = 3\n",
    "    plt.plot(smoothed_exp[:, 0], smoothed_exp[:, i_harm+1], c='k')\n",
    "    plt.plot(smoothed_sim[:, 0], smoothed_sim[:, i_harm+1], c='r')\n",
    "    plt.subplot(235)\n",
    "    i_harm = 4\n",
    "    plt.plot(smoothed_exp[:, 0], smoothed_exp[:, i_harm+1], c='k')\n",
    "    plt.plot(smoothed_sim[:, 0], smoothed_sim[:, i_harm+1], c='r')\n",
    "    plt.subplot(236)\n",
    "    i_harm = 5\n",
    "    plt.plot(smoothed_exp[:, 0], smoothed_exp[:, i_harm+1], c='k')\n",
    "    plt.plot(smoothed_sim[:, 0], smoothed_sim[:, i_harm+1], c='r')\n",
    "    plt.show()"
   ]
  }
 ],
 "metadata": {
  "anaconda-cloud": {},
  "kernelspec": {
   "display_name": "Python 2",
   "language": "python",
   "name": "python2"
  },
  "language_info": {
   "codemirror_mode": {
    "name": "ipython",
    "version": 2
   },
   "file_extension": ".py",
   "mimetype": "text/x-python",
   "name": "python",
   "nbconvert_exporter": "python",
   "pygments_lexer": "ipython2",
   "version": "2.7.12"
  }
 },
 "nbformat": 4,
 "nbformat_minor": 0
}
