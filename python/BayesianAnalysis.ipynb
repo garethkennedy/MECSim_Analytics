{
 "cells": [
  {
   "cell_type": "markdown",
   "metadata": {},
   "source": [
    "<a id=\"top\"></a>\n",
    "# Parameter fit via Bayesian analysis\n",
    "\n",
    "Use the sweep results conducted with MECSim to get the best fit parameters as well as statistically rigorous error bars for each parameter. \n",
    "\n",
    "Bayesian probability updater is used to convert the sum of squares values output from MECSim analysis tools and stored in the results file into the probability that a particular set of parameters is the correct model for matching the experimental data given that the correct set is within the investigated range.\n",
    "\n",
    "This method will work for any number of parameters and can use prior probability data to improve the quality of the parameter fits.\n",
    "\n",
    "This file is structured with the input parameters at the start for ease of use. For those interested the methodology and theory are shown below.\n",
    "\n",
    "\n",
    "The contents of this notebook are:\n",
    "- <p><a href=\"#ref_paras\">Parameters</a></p>\n",
    "- <p><a href=\"#ref_plot_paras\">Plotting parameters (optional)</a></p>\n",
    "- <p><a href=\"#ref_readResults\">Read sum of squares results </a></p>\n",
    "- <p><a href=\"#ref_bayes_theory\">Bayesian analysis theory</a></p>\n",
    "- <p><a href=\"#ref_priors\">Set priors</a></p>\n",
    "- <p><a href=\"#ref_update\">Bayesian update</a></p>\n",
    "- <p><a href=\"#ref_posteriors\">Output posterior probabilities</a></p>\n",
    "- <p><a href=\"#ref_error_bars\">Calculate error bars for all parameters</a></p>\n",
    "- <p><a href=\"#ref_output_error_bars\">Output error bars</a></p>\n",
    "- <p><a href=\"#ref_plot_posteriors\">Plot posterior probabilities and errors</a></p>\n",
    "\n"
   ]
  },
  {
   "cell_type": "markdown",
   "metadata": {},
   "source": [
    "<a id=\"ref_paras\"></a>\n",
    "## Parameters\n",
    "\n",
    "General parameters and filesnames which will be ignored depending on the options."
   ]
  },
  {
   "cell_type": "code",
   "execution_count": 2,
   "metadata": {
    "collapsed": true
   },
   "outputs": [],
   "source": [
    "# Set an artifical minimum for the metric value(s) - to avoid Prob=1/0 if sum of squares = 0\n",
    "epsilon = 1.0e-6\n",
    "\n",
    "# set marker label in results header to mark when input variables are finished\n",
    "header_marker = 'S'\n",
    "\n",
    "# default name for results input file which constains som of squares comparison metric(s)\n",
    "results_file_name_default = '../results.txt'\n",
    "\n",
    "# set how priors done\n",
    "iLoadPriors = False\n",
    "priors_filename = \"priors_sample.txt\"\n",
    "\n",
    "# save posterior file\n",
    "iSavePosterior = True\n",
    "posterior_filename = \"posterior.txt\"\n",
    "\n",
    "# save parameter best fits\n",
    "iSaveParameters = True\n",
    "opt_para_filename = \"opt_parameters.txt\""
   ]
  },
  {
   "cell_type": "markdown",
   "metadata": {
    "collapsed": true
   },
   "source": [
    "<a id=\"ref_plot_paras\"></a>\n",
    "## Plotting parameters (optional)\n",
    "\n",
    "Plot a contour plot for the final probabilities against two parameters selected by their column number in the results file."
   ]
  },
  {
   "cell_type": "code",
   "execution_count": 3,
   "metadata": {
    "collapsed": true
   },
   "outputs": [],
   "source": [
    "# Plot output to png, pdf files)\n",
    "iPlotOutput = True\n",
    "# interactive mode for plotting to screen (turned off if in script mode)\n",
    "iPlotInteractive = True\n",
    "# display optimal fit\n",
    "iPlotFit = True\n",
    "# display error bars\n",
    "iPlotErrBars = True\n",
    "# logscale for probabilities (coloured)\n",
    "iPlotLogscale = True\n",
    "# select which columns to plot as parameters (x,y)\n",
    "ix = 0\n",
    "iy = 1"
   ]
  },
  {
   "cell_type": "markdown",
   "metadata": {},
   "source": [
    "## Load packages"
   ]
  },
  {
   "cell_type": "code",
   "execution_count": 4,
   "metadata": {
    "collapsed": true
   },
   "outputs": [],
   "source": [
    "# load system functions for inputting arguments at command line\n",
    "import sys\n",
    "# load numpy\n",
    "import numpy as np\n",
    "# load interpolation function that supports irregular grids\n",
    "from scipy.interpolate import NearestNDInterpolator\n",
    "# load plotting functions if requested\n",
    "if(iPlotOutput):\n",
    "    from matplotlib  import cm\n",
    "    import matplotlib.pyplot as plt\n",
    "    import matplotlib.mlab as ml"
   ]
  },
  {
   "cell_type": "markdown",
   "metadata": {},
   "source": [
    "## Results file name\n",
    "\n",
    "Determine results file name. There are two options:\n",
    "\n",
    "1. this file is run from the command line, so the first argument is the name of this python file (py rather than ipynb).\n",
    "2. running in interactive mode - through a jupyter notebook say. In which case we use the default file name set above."
   ]
  },
  {
   "cell_type": "code",
   "execution_count": 5,
   "metadata": {
    "collapsed": false
   },
   "outputs": [],
   "source": [
    "thisCodeName = 'BayesianAnalysis.py'\n",
    "nLength = len(thisCodeName)\n",
    "tailString = sys.argv[0]\n",
    "tailString = tailString[-nLength:]\n",
    "if(tailString==thisCodeName):\n",
    "    # next should be the file name\n",
    "    results_file_name = sys.argv[1]\n",
    "    iPlotInteractive = False\n",
    "else:\n",
    "    results_file_name = results_file_name_default"
   ]
  },
  {
   "cell_type": "markdown",
   "metadata": {},
   "source": [
    "<a id=\"ref_readResults\"></a>\n",
    "## Read results data\n",
    "\n",
    "Use header line to determine the number of input parameters compared to the number of result values"
   ]
  },
  {
   "cell_type": "code",
   "execution_count": 6,
   "metadata": {
    "collapsed": false
   },
   "outputs": [],
   "source": [
    "lines = [line.rstrip('\\n') for line in open(results_file_name)]\n",
    "\n",
    "# first line is header line (remove $ from marker as well)\n",
    "header_line = lines[0].replace('$', '')\n",
    "header_line = header_line.split(',')\n",
    "\n",
    "# find index for the results metric column header\n",
    "output_first_index = header_line.index(header_marker)\n",
    "\n",
    "# total length of data file (less header)\n",
    "n_data = len(lines)-1\n",
    "\n",
    "# loop read over data\n",
    "input_data = []\n",
    "for i in range(n_data):\n",
    "    input_data.append(np.fromstring(lines[i+1].strip(), dtype=float, sep=','))\n",
    "input_data = np.array(input_data)\n",
    "n_cols = np.shape(input_data)[1]"
   ]
  },
  {
   "cell_type": "markdown",
   "metadata": {},
   "source": [
    "Sort by parameters first - in case of an issue with loading priors later"
   ]
  },
  {
   "cell_type": "code",
   "execution_count": 7,
   "metadata": {
    "collapsed": false
   },
   "outputs": [],
   "source": [
    "input_data = input_data[input_data[:,(output_first_index-1)].argsort()]\n",
    "for i in np.arange(output_first_index-2, -1, -1): # excludes stop so final is 0\n",
    "    input_data = input_data[input_data[:,0].argsort(kind='mergesort')]"
   ]
  },
  {
   "cell_type": "markdown",
   "metadata": {},
   "source": [
    "Collect input parameters and sum of squares metrics"
   ]
  },
  {
   "cell_type": "code",
   "execution_count": 8,
   "metadata": {
    "collapsed": false
   },
   "outputs": [],
   "source": [
    "input_parameters = input_data[0:n_data, 0:(output_first_index)]\n",
    "input_metrics    = input_data[0:n_data, output_first_index:n_cols]"
   ]
  },
  {
   "cell_type": "code",
   "execution_count": 16,
   "metadata": {
    "collapsed": false
   },
   "outputs": [
    {
     "name": "stdout",
     "output_type": "stream",
     "text": [
      "../results.txt\n",
      "[[ 0.94635237  0.6135239   0.69008994  0.          0.          0.          0.        ]\n",
      " [ 0.93817008  0.57773656  0.68705421  0.          0.          0.          0.        ]\n",
      " [ 0.9320225   0.5446258   0.6843537   0.          0.          0.          0.        ]\n",
      " [ 0.91464399  0.47508591  0.67363965  0.          0.          0.          0.        ]\n",
      " [ 0.7589489   0.15207622  0.44807658  0.          0.          0.          0.        ]\n",
      " [ 0.70292358  0.12314373  0.39659747  0.          0.          0.          0.        ]\n",
      " [ 0.69884931  0.12688654  0.40388046  0.          0.          0.          0.        ]\n",
      " [ 0.68583267  0.21972519  0.53168851  0.          0.          0.          0.        ]\n",
      " [ 0.70834492  0.45967645  0.67034984  0.          0.          0.          0.        ]\n",
      " [ 0.71251211  0.6858999   0.69472366  0.          0.          0.          0.        ]]\n"
     ]
    }
   ],
   "source": [
    "print(results_file_name)\n",
    "print(input_metrics)"
   ]
  },
  {
   "cell_type": "markdown",
   "metadata": {},
   "source": [
    "<a id=\"ref_bayes_theory\"></a>\n",
    "## Bayesian analysis\n",
    "\n",
    "Conceptually each set of parameters $x_i$ is treated as a different model $M_i$ that can potentially fit the experimental data from a given experiment $D_k$. This experimental data can either be the sum of squares difference for a single harmonic (or dc) or the resulting metric when all harmonic fit data is combined via respective weights.\n",
    "\n",
    "We seek to find the probability of each model ($M_i$) given the input of new experimental data ($D_k$), which we write as $P(M_i|D_k)$.\n",
    "\n",
    "To update the indiviual probabilites for each model via [Bayes theory](https://en.wikipedia.org/wiki/Bayes%27_theorem). Since we have so many potential models (each set of parameters tested) we can write Bayes theorem as:\n",
    "\n",
    "$$\n",
    "P(M_i|D_k) = \\frac{ P(D_k | M_i) P(M_i) } { \\sum_j P(D_k | M_j) P(M_j) }\n",
    "$$\n",
    "where the probability of the data given the model is related to the sum of squares metric comparing the experimental current response data ($D_k$) to the simulated current ($S_{ki}$) for the parameters ($x_i$) via\n",
    "$$\n",
    "P(D_k | M_i) \\propto \\frac{1}{S_{ki}}.\n",
    "$$\n",
    "\n",
    "Since the sum of squares metric can return zero for a perfect fit then we need to add a small term to ensure the probability does not go to infinity. Also we can remove the proportionality constant since any choice we make for it cancels out when we apply the form for Bayes theorem above. Thus\n",
    "$$\n",
    "P(D_k | M_i) = \\frac{1}{S_{ki} + \\epsilon}.\n",
    "$$\n",
    "\n",
    "where $\\epsilon$ is much smaller than one, set as **epsilon** $10^{-6}$ above.\n",
    "\n",
    "In applying this theorem the **prior** ($P(M_i)$) is the pre-existing belief that a given model ($M_i$) is correct. Adding new comparison data will update our beliefs and output the **posterior** probabilities ($P(M_i|D_k)$). If we have multiple data sets then the posterior values from our first set ($k=1$) can be used as the priors for the next set ($k=2$) and so on, further improving the accuracy of the posterior probabilities.\n",
    "\n",
    "Note that these probabilities will always sum to one $\\sum_i P(M_i) = 1$ which implicitly assumes that the true model is somewhere within the parameter range input. This could result in misleading interpretations if, for example, the true model was for parameters well outside this range or a different electrochemical mechanism all together.\n",
    "\n",
    "Back to <a href=\"#top\">top</a>."
   ]
  },
  {
   "cell_type": "markdown",
   "metadata": {},
   "source": [
    "<a id=\"ref_priors\"></a>\n",
    "## Priors\n",
    "\n",
    "Vector of probabilities with the same length as the number of parameter combinations (**n_data**)\n",
    "\n",
    "Loading priors is more tricky. Fine if all in the same grid where all **input_parameters** are the same.\n",
    "\n",
    "How do we update sets where we have no new data while correctly updating others?\n",
    "\n",
    "For now assume same grid! Still need to order first\n",
    "\n",
    "Back to <a href=\"#top\">top</a>."
   ]
  },
  {
   "cell_type": "code",
   "execution_count": 9,
   "metadata": {
    "collapsed": false
   },
   "outputs": [
    {
     "name": "stdout",
     "output_type": "stream",
     "text": [
      "Using uniform priors\n"
     ]
    }
   ],
   "source": [
    "if(iLoadPriors):\n",
    "    print('Loading priors from ', priors_filename)\n",
    "    priors_full = np.loadtxt(priors_filename, delimiter=\",\")\n",
    "    priors_full = priors_full[priors_full[:,(output_first_index-1)].argsort()]\n",
    "    for i in np.arange(output_first_index-2, -1, -1): # excludes stop so final is 0\n",
    "        priors_full = priors_full[priors_full[:,0].argsort(kind='mergesort')]\n",
    "    # extract vector in same order as input_parameters\n",
    "    # FOR NOW MUST HAVE SAME DATA LENGTH\n",
    "    priors = priors_full[0:n_data, output_first_index:n_cols]\n",
    "else:\n",
    "    print('Using uniform priors')\n",
    "    priors = np.full((n_data, 1), 1./n_data)"
   ]
  },
  {
   "cell_type": "markdown",
   "metadata": {},
   "source": [
    "<a id=\"ref_update\"></a>\n",
    "## Uses Bayes to update beliefs\n",
    "\n",
    "Loop over metrics and combine with Bayesian update.\n",
    "\n",
    "Back to <a href=\"#top\">top</a>."
   ]
  },
  {
   "cell_type": "code",
   "execution_count": 77,
   "metadata": {
    "collapsed": false
   },
   "outputs": [],
   "source": [
    "## some issue with coding for P_Mi_Dk != 1!!!! when not using single metric\n",
    "n_metrics = np.shape(input_metrics)[1]\n",
    "P_Mi = priors\n",
    "posteriors_store = []\n",
    "# get P(D_k | M_i)\n",
    "for k in range(n_metrics):\n",
    "    sos_ki = input_metrics[0:n_data, k]\n",
    "    P_Dk_Mi = np.divide(1.0, sos_ki + epsilon)\n",
    "    P_Dk_Mi_P_Mi = np.array([P_Dk_Mi[i]*P_Mi[i] for i in range(n_data)])\n",
    "    P_sum = np.array(P_Dk_Mi_P_Mi).sum()\n",
    "    if(P_sum > 0.0):\n",
    "        P_Mi_Dk = np.array([P_Dk_Mi_P_Mi[i] / P_sum for i in range(n_data)]).reshape(n_data)\n",
    "    else: # no new data - posterior = prior\n",
    "        P_Mi_Dk = P_Mi\n",
    "    # store posterior for this harmonic/metric\n",
    "    posteriors_store.append(P_Mi_Dk)\n",
    "    # set prior for next round to current posterior\n",
    "    P_Mi = P_Mi_Dk\n",
    "# transform output into a array of correct length\n",
    "posteriors_store = np.array(posteriors_store)"
   ]
  },
  {
   "cell_type": "markdown",
   "metadata": {},
   "source": [
    "<a id=\"ref_posteriors\"></a>\n",
    "## Save posteriors\n",
    "\n",
    "Save csv text file with the input metrics as well as the posterior values for each harmonic.\n",
    "\n",
    "Back to <a href=\"#top\">top</a>."
   ]
  },
  {
   "cell_type": "code",
   "execution_count": 81,
   "metadata": {
    "collapsed": false
   },
   "outputs": [
    {
     "name": "stdout",
     "output_type": "stream",
     "text": [
      "[[ -9.16062117e-02   1.56571448e+01   1.57585647e-05   8.29861160e-02\n",
      "    8.37098823e-02   8.42620282e-02   8.58630303e-02   1.03477437e-01\n",
      "    1.11724918e-01   1.12376269e-01]\n",
      " [ -8.71344835e-02   4.44850452e+00   1.13779189e-05   1.14509092e-01\n",
      "    1.10869828e-01   1.10221398e-01   3.37144974e-02   3.61151620e-02\n",
      "    3.85634906e-02   4.50481113e-02]\n",
      " [ -8.30058035e-02   9.62110740e+01   1.39137075e-05   1.69599641e-01\n",
      "    2.26140134e-01   2.20749159e-01   1.29897737e-01   6.01178745e-02\n",
      "    4.00541928e-02   2.31369525e-02]\n",
      " [ -7.42804448e-02   2.65599297e+01   2.11323985e-06   2.48939448e-02\n",
      "    2.66864544e-02   3.16697106e-02   1.79253444e-01   2.70036460e-01\n",
      "    2.58845687e-01   1.15701580e-01]\n",
      " [ -2.05094025e-02   4.88475270e+01   1.42966680e-05   4.24714659e-02\n",
      "    2.73043008e-02   2.31369525e-02   2.48939448e-02   2.66864544e-02\n",
      "    3.16697106e-02   1.79253444e-01]\n",
      " [  4.54407389e-03   1.22295560e+02   1.80171550e-05   2.70036460e-01\n",
      "    2.58845687e-01   1.15701580e-01   4.24714659e-02   2.73043008e-02\n",
      "    2.31369525e-02   2.48939448e-02]\n",
      " [  8.12232544e-03   4.19639374e+01   1.16568304e-05   2.66864544e-02\n",
      "    3.16697106e-02   1.79253444e-01   2.70036460e-01   2.58845687e-01\n",
      "    1.15701580e-01   4.24714659e-02]\n",
      " [  3.63075367e-02   8.18492468e-01   4.61491623e-06   2.73043008e-02\n",
      "    2.31369525e-02   2.48939448e-02   2.66864544e-02   3.16697106e-02\n",
      "    1.79253444e-01   2.70036460e-01]\n",
      " [  7.13208212e-02   1.13094203e+01   1.65703178e-06   2.58845687e-01\n",
      "    1.15701580e-01   4.24714659e-02   2.73043008e-02   2.31369525e-02\n",
      "    2.48939448e-02   2.66864544e-02]\n",
      " [  9.96893628e-02   1.21517190e+02   1.13384172e-05   3.16697106e-02\n",
      "    1.79253444e-01   2.70036460e-01   2.58845687e-01   1.15701580e-01\n",
      "    4.24714659e-02   2.73043008e-02]]\n"
     ]
    }
   ],
   "source": [
    "parameters = input_parameters.reshape(n_data, output_first_index)\n",
    "values = posteriors_store.reshape(n_data, n_metrics)\n",
    "posterior = np.concatenate((parameters, values), axis=1)\n"
   ]
  },
  {
   "cell_type": "markdown",
   "metadata": {},
   "source": [
    "Output to csv file"
   ]
  },
  {
   "cell_type": "code",
   "execution_count": 82,
   "metadata": {
    "collapsed": false
   },
   "outputs": [],
   "source": [
    "if(iSavePosterior):\n",
    "    np.savetxt(posterior_filename, posterior, fmt='%.8e', delimiter=\",\")"
   ]
  },
  {
   "cell_type": "markdown",
   "metadata": {},
   "source": [
    "<a id=\"ref_error_bars\"></a>\n",
    "## Calculate error bars\n",
    "\n",
    "For each parameter calculate the standard deviation (each direction) based on the probabilities given all other parameters are fixed at their optimal values.\n",
    "\n",
    "### Build interpolator function\n",
    "\n",
    "Interpolate to get the $x_{\\pm \\sigma}$ for each direction - cut at $x_{min/max}$ to avoid extrapolation to unrealistic values. So if $0 < x < 1$ then $x_{+\\sigma}$ and $x_{-\\sigma}$ must also be in this range\n",
    "\n",
    "To determine the probabilities probabilities along each line we use a simple nearest neighbour interpolator in N dimensions. Note that if resolution is poor then the resulting interpolations along each line will be a series of discrete steps. Even in this low resolution extreme we still get quite good values for the error bars.\n",
    "\n",
    "Back to <a href=\"#top\">top</a>."
   ]
  },
  {
   "cell_type": "code",
   "execution_count": 83,
   "metadata": {
    "collapsed": true
   },
   "outputs": [],
   "source": [
    "interpolator = NearestNDInterpolator(x=parameters, y=values)"
   ]
  },
  {
   "cell_type": "markdown",
   "metadata": {},
   "source": [
    "### Loop over each paramater\n",
    "\n",
    "Loop over each parameter along the range of possible values while fixing all other parameters to their optimal values.\n",
    "\n"
   ]
  },
  {
   "cell_type": "code",
   "execution_count": 84,
   "metadata": {
    "collapsed": false
   },
   "outputs": [
    {
     "ename": "ValueError",
     "evalue": "setting an array element with a sequence.",
     "output_type": "error",
     "traceback": [
      "\u001b[0;31m---------------------------------------------------------------------------\u001b[0m",
      "\u001b[0;31mValueError\u001b[0m                                Traceback (most recent call last)",
      "\u001b[0;32m<ipython-input-84-696367d1417e>\u001b[0m in \u001b[0;36m<module>\u001b[0;34m()\u001b[0m\n\u001b[1;32m     13\u001b[0m     \u001b[0;32mfor\u001b[0m \u001b[0mj\u001b[0m \u001b[0;32min\u001b[0m \u001b[0mrange\u001b[0m\u001b[0;34m(\u001b[0m\u001b[0mlen\u001b[0m\u001b[0;34m(\u001b[0m\u001b[0mopt_xi\u001b[0m\u001b[0;34m)\u001b[0m\u001b[0;34m)\u001b[0m\u001b[0;34m:\u001b[0m\u001b[0;34m\u001b[0m\u001b[0m\n\u001b[1;32m     14\u001b[0m         \u001b[0mopt_test\u001b[0m\u001b[0;34m[\u001b[0m\u001b[0mi\u001b[0m\u001b[0;34m]\u001b[0m \u001b[0;34m=\u001b[0m \u001b[0mopt_xi\u001b[0m\u001b[0;34m[\u001b[0m\u001b[0mj\u001b[0m\u001b[0;34m]\u001b[0m\u001b[0;34m\u001b[0m\u001b[0m\n\u001b[0;32m---> 15\u001b[0;31m         \u001b[0mval_xi\u001b[0m\u001b[0;34m[\u001b[0m\u001b[0mj\u001b[0m\u001b[0;34m]\u001b[0m \u001b[0;34m=\u001b[0m \u001b[0minterpolator\u001b[0m\u001b[0;34m(\u001b[0m\u001b[0mopt_test\u001b[0m\u001b[0;34m)\u001b[0m\u001b[0;34m\u001b[0m\u001b[0m\n\u001b[0m\u001b[1;32m     16\u001b[0m     \u001b[0;31m# scale in xi direction by sum_xi\u001b[0m\u001b[0;34m\u001b[0m\u001b[0;34m\u001b[0m\u001b[0m\n\u001b[1;32m     17\u001b[0m     \u001b[0msum_xi\u001b[0m \u001b[0;34m=\u001b[0m \u001b[0mnp\u001b[0m\u001b[0;34m.\u001b[0m\u001b[0msum\u001b[0m\u001b[0;34m(\u001b[0m\u001b[0mval_xi\u001b[0m\u001b[0;34m)\u001b[0m\u001b[0;34m\u001b[0m\u001b[0m\n",
      "\u001b[0;31mValueError\u001b[0m: setting an array element with a sequence."
     ]
    }
   ],
   "source": [
    "n_res = 100\n",
    "opt_index = np.argmax(P_Mi_Dk)\n",
    "opt_paras = input_parameters[opt_index,:]\n",
    "opt_min = np.min(parameters, axis=0)\n",
    "opt_max = np.max(parameters, axis=0)\n",
    "opt_para_p = opt_paras.copy()\n",
    "opt_para_m = opt_paras.copy()\n",
    "for i in range(len(opt_paras)):\n",
    "    # create x_i line\n",
    "    opt_xi = np.linspace(opt_min[i], opt_max[i], num=n_res, endpoint=True)\n",
    "    val_xi = opt_xi.copy()\n",
    "    opt_test = opt_paras.copy()\n",
    "    for j in range(len(opt_xi)):\n",
    "        opt_test[i] = opt_xi[j]\n",
    "        val_xi[j] = interpolator(opt_test)\n",
    "    # scale in xi direction by sum_xi\n",
    "    sum_xi = np.sum(val_xi)\n",
    "    val_xi = val_xi/sum_xi\n",
    "    cum_xi = np.cumsum(val_xi)\n",
    "    # interpolate for med - 1 st.dev = 0.159\n",
    "    opt_para_m[i] = np.interp(0.159, cum_xi, opt_xi)\n",
    "    # interpolate for med + 1 st.dev = 0.841\n",
    "    opt_para_p[i] = np.interp(0.841, cum_xi, opt_xi)\n",
    "print(\"opt-1sd = \", opt_para_m)\n",
    "print(\"opt     = \", opt_paras)\n",
    "print(\"opt+1sd = \", opt_para_p)\n"
   ]
  },
  {
   "cell_type": "markdown",
   "metadata": {},
   "source": [
    "<a id=\"ref_output_error_bars\"></a>\n",
    "### Output optimal and errors\n",
    "\n",
    "\n",
    "Each optimal value for parameter $x_i$ has a row in the output file with a format of:\n",
    "\n",
    "    parameter label (e.g. 'Ezero'), x_opt, x_opt - 1 standard deviation, x_opt + 1 standard deviation\n",
    "\n",
    "Back to <a href=\"#top\">top</a>."
   ]
  },
  {
   "cell_type": "code",
   "execution_count": 85,
   "metadata": {
    "collapsed": false
   },
   "outputs": [],
   "source": [
    "if(iSaveParameters):\n",
    "    # round values\n",
    "    opt_para_m_out = np.reshape(np.round(opt_para_m, 8), (len(opt_paras), 1))\n",
    "    opt_paras_out  = np.reshape(np.round(opt_paras,  8), (len(opt_paras), 1))\n",
    "    opt_para_p_out = np.reshape(np.round(opt_para_p, 8), (len(opt_paras), 1))\n",
    "    # reshape parameter headers\n",
    "    para_label = np.reshape(np.array(header_line[0:len(opt_paras_out)]), (len(opt_paras_out), 1))\n",
    "    # join to single np.array for output\n",
    "    opt_para_array_out = np.concatenate((para_label, opt_paras_out, opt_para_m_out, opt_para_p_out), axis=1)\n",
    "    # output to text file (since some text then set format to string for all - numbers come out as %f without problem)\n",
    "    np.savetxt(opt_para_filename, opt_para_array_out, fmt='%s', delimiter=\",\")"
   ]
  },
  {
   "cell_type": "markdown",
   "metadata": {},
   "source": [
    "<a id=\"ref_plot_posteriors\"></a>\n",
    "## Plot posteriors (and error bars)\n",
    "\n",
    "### Plotter setup\n",
    "\n",
    "\n",
    "Back to <a href=\"#top\">top</a>."
   ]
  },
  {
   "cell_type": "code",
   "execution_count": 86,
   "metadata": {
    "collapsed": false
   },
   "outputs": [],
   "source": [
    "if(iPlotOutput):\n",
    "    # set names\n",
    "    x_name = header_line[ix]\n",
    "    y_name = header_line[iy]\n",
    "\n",
    "    # select data for plot with Bayesian probability\n",
    "    x = input_parameters[0:n_data, ix]\n",
    "    y = input_parameters[0:n_data, iy]\n",
    "    z = P_Mi_Dk\n",
    "\n",
    "    # find min/max for plotting variables\n",
    "    xplotmin = np.min(x)\n",
    "    xplotmax = np.max(x)\n",
    "    yplotmin = np.min(y)\n",
    "    yplotmax = np.max(y)\n",
    "\n",
    "    # optimal value and error bars\n",
    "    x_opt = opt_paras[ix]\n",
    "    y_opt = opt_paras[iy]\n",
    "    x_err_m = x_opt - opt_para_m[ix]\n",
    "    y_err_m = y_opt - opt_para_m[iy]\n",
    "    x_err_p = opt_para_p[ix] - x_opt\n",
    "    y_err_p = opt_para_p[iy] - y_opt    "
   ]
  },
  {
   "cell_type": "markdown",
   "metadata": {},
   "source": [
    "### Plotting parameters\n",
    "\n",
    "Overall resolution, aesthetic buffer around plot region and enter interactive mode (if requested)"
   ]
  },
  {
   "cell_type": "code",
   "execution_count": 87,
   "metadata": {
    "collapsed": false
   },
   "outputs": [],
   "source": [
    "if(iPlotOutput):\n",
    "    # set overall data resolution\n",
    "    ny, nx = 100, 100\n",
    "\n",
    "    # buffer settings\n",
    "    bufFactor = 100.\n",
    "    bufX = (xplotmax - xplotmin)/bufFactor\n",
    "    bufY = (yplotmax - yplotmin)/bufFactor\n",
    "\n",
    "    # set to interactive mode\n",
    "    if(iPlotInteractive):\n",
    "        %matplotlib inline"
   ]
  },
  {
   "cell_type": "markdown",
   "metadata": {},
   "source": [
    "### Output plot\n",
    "\n",
    "Output to png and pdf - also to screen if interactive mode set above\n",
    "\n",
    "The default aesthetic settings and axes labels can be changed here."
   ]
  },
  {
   "cell_type": "code",
   "execution_count": 88,
   "metadata": {
    "collapsed": false
   },
   "outputs": [
    {
     "data": {
      "image/png": "[encoded data removed]",
      "text/plain": [
       "<matplotlib.figure.Figure at 0x8bd6dd8>"
      ]
     },
     "metadata": {},
     "output_type": "display_data"
    }
   ],
   "source": [
    "if(iPlotOutput):\n",
    "    deltax = (xplotmax - xplotmin)/float(nx)\n",
    "    deltay = (yplotmax - yplotmin)/float(ny)\n",
    "    xmin = xplotmin-bufX\n",
    "    xmax = xplotmax+bufX\n",
    "    ymin = yplotmin-bufY\n",
    "    ymax = yplotmax+bufY\n",
    "    xi = np.arange(xmin-bufX, xmax+bufX, deltax)\n",
    "    yi = np.arange(ymin-bufY, ymax+bufY, deltay)\n",
    "    # convert to log(z) if requested\n",
    "    if(iPlotLogscale):\n",
    "        z = np.log10(z)\n",
    "    #zi = ml.griddata(x, y, zlog, xi, yi, interp='nn') # 'nn' for incomplete data; 'linear' if complete\n",
    "    zi = ml.griddata(x, y, z, xi, yi, interp='linear') # 'nn' for incomplete data; 'linear' if complete\n",
    "    #zi = ml.griddata(x, y, zlog, xi, yi, interp='linear') # 'nn' for incomplete data; 'linear' if complete\n",
    "\n",
    "    plt.figure(figsize=(8,6),dpi=100)\n",
    "    plt.rcParams['xtick.major.size'] = 5\n",
    "    plt.rcParams['xtick.major.width'] = 2\n",
    "    plt.rcParams['xtick.minor.size'] = 3\n",
    "    plt.rcParams['xtick.minor.width'] = 2\n",
    "    plt.rcParams['ytick.major.size'] = 5\n",
    "    plt.rcParams['ytick.major.width'] = 2\n",
    "    plt.rcParams['ytick.minor.size'] = 3\n",
    "    plt.rcParams['ytick.minor.width'] = 2\n",
    "    plt.rcParams['axes.linewidth'] = 2\n",
    "    plt.rcParams['lines.linewidth'] = 2\n",
    "    plt.rcParams['xtick.labelsize'] = 14\n",
    "    plt.rcParams['ytick.labelsize'] = 14\n",
    "    plt.rcParams['contour.negative_linestyle'] = 'solid'\n",
    "    plt.rcParams['xtick.direction'] = 'out'\n",
    "    plt.rcParams['ytick.direction'] = 'out'\n",
    "    plt.ticklabel_format(axis='y', style='sci', scilimits=(-2,2))\n",
    "    CS = plt.contour(xi, yi, zi, 10, linewidths = 0.5, colors = 'k')\n",
    "    # Define a class that forces representation of float to look a certain way\n",
    "    # This remove trailing zero so '1.0' becomes '1'\n",
    "    class nf(float):\n",
    "        def __repr__(self):\n",
    "            str = '%.2f' % (self.__float__(),)\n",
    "            if str[-1] == '0':\n",
    "                return '%.2f' % self.__float__()\n",
    "            else:\n",
    "                return '%.2f' % self.__float__()\n",
    "\n",
    "    # Recast levels to new class\n",
    "    CS.levels = [nf(val) for val in CS.levels]\n",
    "\n",
    "    # Label levels with specially formatted floats\n",
    "    if plt.rcParams[\"text.usetex\"]:\n",
    "        fmt = r'%r'\n",
    "    else:\n",
    "        fmt = '%r'\n",
    "    plt.pcolormesh(xi, yi, zi, cmap = plt.get_cmap('rainbow'))\n",
    "    if(iPlotLogscale):\n",
    "        plt.colorbar().set_label(label='log$_{10}$P',size=15)\n",
    "    else:\n",
    "        plt.colorbar().set_label(label='Probability',size=15)\n",
    "    # plot error bars\n",
    "    if(iPlotErrBars):\n",
    "        plt.errorbar(x=x_opt, y=y_opt, xerr=[[x_err_m], [x_err_p]], yerr=[[y_err_m], [y_err_p]], \n",
    "                     fmt='--o', ecolor='k', elinewidth=4, capsize=10, capthick=4)\n",
    "        plt.errorbar(x=x_opt, y=y_opt, xerr=[[x_err_m], [x_err_p]], yerr=[[y_err_m], [y_err_p]], \n",
    "                     fmt='--o', ecolor='w', elinewidth=2, capsize=8, capthick=2)\n",
    "    else: # label the contours\n",
    "        plt.clabel(CS, CS.levels, inline=True, fmt=fmt, fontsize=12)\n",
    "    # plot optimal values\n",
    "    if(iPlotFit):\n",
    "        plt.scatter(x_opt, y_opt, marker = 'o', c = 'white', s = 100, zorder = 10)\n",
    "\n",
    "    \n",
    "    # set x/y limits\n",
    "    plt.xlim(xmin, xmax)\n",
    "    plt.ylim(ymin, ymax)\n",
    "    # change x/y labels\n",
    "    plt.xlabel(x_name, fontsize=18)\n",
    "    plt.ylabel(y_name, fontsize=18)\n",
    "    # save figures to PDF and png\n",
    "    plt.savefig(\"bayesian_plot.pdf\", dpi=400)\n",
    "    plt.savefig(\"bayesian_plot.png\", dpi=400)\n",
    "    if(iPlotInteractive):\n",
    "        plt.show()"
   ]
  }
 ],
 "metadata": {
  "anaconda-cloud": {},
  "kernelspec": {
   "display_name": "Python 2",
   "language": "python",
   "name": "python2"
  },
  "language_info": {
   "codemirror_mode": {
    "name": "ipython",
    "version": 2
   },
   "file_extension": ".py",
   "mimetype": "text/x-python",
   "name": "python",
   "nbconvert_exporter": "python",
   "pygments_lexer": "ipython2",
   "version": "2.7.12"
  }
 },
 "nbformat": 4,
 "nbformat_minor": 0
}
