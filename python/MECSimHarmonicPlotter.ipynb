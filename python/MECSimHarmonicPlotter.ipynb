{
 "cells": [
  {
   "cell_type": "markdown",
   "metadata": {},
   "source": [
    "# MECSim harmonic plotter\n",
    "\n",
    "Plotter for ``MECSimOutput_Pot.txt`` format files which includes the harmonics.\n",
    "\n",
    "Output the current against time and against voltage as 2 sets of images. Also splits the raw data output into dc and each harmonic using the header to find any non-zero frequency amplitudes. Harmonics are plotted individually as well as using a stacked output.\n",
    "\n",
    "Each is output as PNG, PS and PDF in a clear format for inclusion in scientific journal articles."
   ]
  },
  {
   "cell_type": "markdown",
   "metadata": {},
   "source": [
    "## Script parameters\n",
    "\n",
    "General parameters"
   ]
  },
  {
   "cell_type": "code",
   "execution_count": null,
   "metadata": {},
   "outputs": [],
   "source": [
    "# MECSim output filename\n",
    "filename = '../output/MECSimOutput_Pot.txt'\n",
    "# output to screen (useful if interactive)\n",
    "iOutputToScreen = True\n",
    "# output plots to screen (useful if interactive)\n",
    "plotInteractive = True\n",
    "# number of harmonics to plot if data available\n",
    "number_harmonics = 5\n",
    "# frequency bandwidth in Hz\n",
    "frequency_bandwidth = 1\n",
    "\n",
    "# directory for output of plots\n",
    "output_dir = 'output/'\n",
    "# location of parent directory: typically this file will be in python/ so the parent dir is '../'\n",
    "parent_dir = '../'"
   ]
  },
  {
   "cell_type": "markdown",
   "metadata": {},
   "source": [
    "### Load packages"
   ]
  },
  {
   "cell_type": "code",
   "execution_count": null,
   "metadata": {},
   "outputs": [],
   "source": [
    "import numpy as np\n",
    "# load scipy for FFT functions\n",
    "from scipy.fftpack import rfft, irfft, fftfreq\n",
    "import matplotlib.pyplot as plt\n",
    "import sys\n",
    "if(plotInteractive):\n",
    "    %matplotlib inline"
   ]
  },
  {
   "cell_type": "markdown",
   "metadata": {},
   "source": [
    "Double check that interactive plotting mode is disabled if running this in script mode"
   ]
  },
  {
   "cell_type": "code",
   "execution_count": null,
   "metadata": {},
   "outputs": [],
   "source": [
    "thisCodeName = 'MECSimHarmonicPlotter.py'\n",
    "nLength = len(thisCodeName)\n",
    "tailString = sys.argv[0]\n",
    "tailString = tailString[-nLength:]\n",
    "if(tailString==thisCodeName):\n",
    "    plotInteractive = False\n",
    "    # next should be the file name\n",
    "    filename = sys.argv[1]\n"
   ]
  },
  {
   "cell_type": "markdown",
   "metadata": {},
   "source": [
    "## Define functions\n",
    "\n",
    "Load MECSim output file"
   ]
  },
  {
   "cell_type": "code",
   "execution_count": null,
   "metadata": {},
   "outputs": [],
   "source": [
    "def ReadMECSimOut(filename):\n",
    "    # set defaults to output a single freq, amp if amp>0\n",
    "    freq_found = 1.0 # default null in pot exp files\n",
    "    freq_test = 1.0 # default null in pot exp files\n",
    "    freq_valid = False\n",
    "    amp_found = 0.0\n",
    "    # open file\n",
    "    f = open(filename, 'r')\n",
    "    # search for last line of header that is made by MECSim (always this line)\n",
    "    for line in f:\n",
    "        # non-zero frequency finder (freq first then confirm if Amp>0)\n",
    "        if line.strip().startswith(\"Freq\"):\n",
    "            freq_test = float(line.strip().split()[1])\n",
    "        if line.strip().startswith(\"Amp\"):\n",
    "            amp_test = float(line.strip().split()[1])\n",
    "            if(amp_test > 0):\n",
    "                amp_found = amp_test\n",
    "                freq_found = freq_test\n",
    "                freq_valid = True\n",
    "        # end of header condition\n",
    "        if line.strip() == \"Post(ms):       0.000000E+00\": break\n",
    "    time = []\n",
    "    eapp = []\n",
    "    current = []\n",
    "    for line in f:\n",
    "        columns = line.split()\n",
    "        time.append(float(columns[0]))\n",
    "        eapp.append(float(columns[1]))\n",
    "        current.append(float(columns[2]))\n",
    "    return np.asfarray(time), np.asfarray(eapp), np.asfarray(current), amp_found, freq_found\n"
   ]
  },
  {
   "cell_type": "markdown",
   "metadata": {},
   "source": [
    "## Read MECSim output file"
   ]
  },
  {
   "cell_type": "code",
   "execution_count": null,
   "metadata": {},
   "outputs": [],
   "source": [
    "eapp, current, time, amp_found, freq_found = ReadMECSimOut(filename)"
   ]
  },
  {
   "cell_type": "markdown",
   "metadata": {},
   "source": [
    "Setup time, current and potential"
   ]
  },
  {
   "cell_type": "code",
   "execution_count": null,
   "metadata": {},
   "outputs": [],
   "source": [
    "t = np.array(time)\n",
    "c = np.array(current)\n",
    "ea = np.array(eapp)"
   ]
  },
  {
   "cell_type": "code",
   "execution_count": null,
   "metadata": {},
   "outputs": [],
   "source": [
    "if(amp_found>0):\n",
    "    # dc + ac harmonics\n",
    "    tWindow = 1.0/freq_found\n",
    "else:\n",
    "    # dc only\n",
    "    tWindow = 1.0\n",
    "    # set freq cutoff to be large (all DC)\n",
    "    freq_found = 1e6\n",
    "    number_harmonics = 0"
   ]
  },
  {
   "cell_type": "code",
   "execution_count": null,
   "metadata": {},
   "outputs": [],
   "source": [
    "def SmoothCurrent(t, i, e, tWindow):\n",
    "    iSmooth = list(i)\n",
    "    deltaT = t[1]-t[0] # assumes constant time steps\n",
    "    tEnd = t[-1]\n",
    "    tStart = t[0]\n",
    "    iWindow = int(tWindow/deltaT)+1\n",
    "    windowVal = []\n",
    "    iMax = len(t)\n",
    "    iMinW = -iWindow/2\n",
    "    iMaxW = iMinW+iWindow-1\n",
    "    for j in range(0, iWindow):\n",
    "        windowVal.insert(0, i[j]) # insert at top/pop from bottom\n",
    "    for ii in range(iMax):\n",
    "        iMinW += 1\n",
    "        iMaxW += 1\n",
    "        if((iMinW>0) and (iMaxW<iMax)): # shift running total across by one point\n",
    "            windowVal.pop()\n",
    "            windowVal.insert(0, i[iMaxW])\n",
    "        iSmooth[ii] = max(windowVal)\n",
    "    return iSmooth"
   ]
  },
  {
   "cell_type": "markdown",
   "metadata": {},
   "source": [
    "## Calculate harmonics"
   ]
  },
  {
   "cell_type": "code",
   "execution_count": null,
   "metadata": {},
   "outputs": [],
   "source": [
    "i_Harm = []\n",
    "c_Harm = []\n",
    "e_dc = []\n",
    "\n",
    "# also do for the e_app (remove ac component from this)\n",
    "W = fftfreq(ea.size, d=2*(t[1]-t[0]))\n",
    "f_signal = rfft(ea)\n",
    "cut_f_signal = f_signal.copy()\n",
    "cut_f_signal[(W>0.5*freq_found)] = 0\n",
    "cut_signal = irfft(cut_f_signal)\n",
    "e_dc.append(cut_signal)\n",
    "\n",
    "e_dc = np.array(e_dc).reshape(len(t))\n",
    "\n",
    "# special treatment for dc (harmonic = 0)\n",
    "W = fftfreq(c.size, d=2*(t[1]-t[0]))\n",
    "f_signal = rfft(c)\n",
    "cut_f_signal = f_signal.copy()\n",
    "cut_f_signal[(W>0.5*freq_found)] = 0\n",
    "cut_signal = irfft(cut_f_signal)\n",
    "c_Harm.append(cut_signal)\n",
    "i_Harm.append(SmoothCurrent(t, cut_signal, eapp, tWindow))\n",
    "\n",
    "# save FFT for DC to use in interactive plot\n",
    "W_dc = W.copy()\n",
    "f_signal_dc = f_signal.copy()\n",
    "cut_f_signal_dc = cut_f_signal.copy()\n",
    "cut_signal_dc = cut_signal.copy()\n",
    "\n",
    "# frequency based harmonics (n*freq)\n",
    "for iH in range(number_harmonics):\n",
    "    iHarm = iH + 1\n",
    "    fH = float(iHarm)\n",
    "    W = fftfreq(c.size, d=2*(t[1]-t[0]))\n",
    "    f_signal = rfft(c)\n",
    "    cut_f_signal = f_signal.copy()\n",
    "    cut_f_signal[(W<(fH*freq_found-frequency_bandwidth))] = 0\n",
    "    cut_f_signal[(W>(fH*freq_found+frequency_bandwidth))] = 0\n",
    "    cut_signal = irfft(cut_f_signal)\n",
    "    c_Harm.append(cut_signal)\n",
    "    i_Harm.append(SmoothCurrent(t, cut_signal, eapp, tWindow))\n"
   ]
  },
  {
   "cell_type": "code",
   "execution_count": null,
   "metadata": {},
   "outputs": [],
   "source": [
    "plot_freq = W[(W>0)]\n",
    "plot_amp = np.log(np.absolute(f_signal[(W>0)]))\n",
    "\n",
    "print(len(plot_freq), len(plot_amp))"
   ]
  },
  {
   "cell_type": "code",
   "execution_count": null,
   "metadata": {},
   "outputs": [],
   "source": [
    "plt.figure(figsize=(8,6),dpi=100)\n",
    "plt.rcParams['xtick.major.size'] = 5\n",
    "plt.rcParams['xtick.major.width'] = 2\n",
    "plt.rcParams['xtick.minor.size'] = 3\n",
    "plt.rcParams['xtick.minor.width'] = 2\n",
    "plt.rcParams['ytick.major.size'] = 5\n",
    "plt.rcParams['ytick.major.width'] = 2\n",
    "plt.rcParams['ytick.minor.size'] = 3\n",
    "plt.rcParams['ytick.minor.width'] = 2\n",
    "plt.rcParams['axes.linewidth'] = 2\n",
    "plt.rcParams['lines.linewidth'] = 2\n",
    "plt.rcParams['xtick.labelsize'] = 14\n",
    "plt.rcParams['ytick.labelsize'] = 14\n",
    "plt.ticklabel_format(axis='y', style='sci', scilimits=(-2,2))\n",
    "plt.plot(plot_freq, plot_amp, 'k')\n",
    "plt.xlim([0,max(plot_amp)])\n",
    "plt.xlabel('Frequency', fontsize=20)\n",
    "plt.ylabel('Log(Current)', fontsize=20)\n",
    "plt.tight_layout()\n",
    "full_path = parent_dir + output_dir + 'MECSimOutput_fft'\n",
    "plt.savefig(full_path + '.png')\n",
    "plt.savefig(full_path + '.ps')\n",
    "plt.savefig(full_path + '.pdf')"
   ]
  },
  {
   "cell_type": "code",
   "execution_count": null,
   "metadata": {},
   "outputs": [],
   "source": [
    "iH = 0\n",
    "plt.figure(figsize=(8,6),dpi=100)\n",
    "plt.ticklabel_format(axis='y', style='sci', scilimits=(-2,2))\n",
    "plt.xlabel('Voltage (V)', fontsize=20)\n",
    "plt.ylabel('Current (A)', fontsize=20)\n",
    "plt.tight_layout()\n",
    "plt.plot(e_dc, i_Harm[iH], 'k')\n",
    "full_path = parent_dir + output_dir + 'MECSimOutput_dc'\n",
    "plt.savefig(full_path + '.png')\n",
    "plt.savefig(full_path + '.ps')\n",
    "plt.savefig(full_path + '.pdf')"
   ]
  },
  {
   "cell_type": "code",
   "execution_count": null,
   "metadata": {},
   "outputs": [],
   "source": [
    "for i in range(number_harmonics):\n",
    "    iH = i + 1\n",
    "    plt.figure(figsize=(8,6),dpi=100)\n",
    "    plt.ticklabel_format(axis='y', style='sci', scilimits=(-2,2))\n",
    "    plt.xlabel('Time (s)', fontsize=20)\n",
    "    plt.ylabel('Current (A)', fontsize=20)\n",
    "    plt.tight_layout()\n",
    "    plt.plot(t, i_Harm[iH], 'k')\n",
    "    full_path = parent_dir + output_dir + 'MECSimOutput_H' + str(iH)\n",
    "    plt.savefig(full_path + '.png')\n",
    "    plt.savefig(full_path + '.ps')\n",
    "    plt.savefig(full_path + '.pdf')"
   ]
  },
  {
   "cell_type": "markdown",
   "metadata": {},
   "source": [
    "## Plot current against time"
   ]
  },
  {
   "cell_type": "code",
   "execution_count": null,
   "metadata": {},
   "outputs": [],
   "source": [
    "plt.figure(figsize=(8,6),dpi=100)\n",
    "plt.rcParams['xtick.major.size'] = 5\n",
    "plt.rcParams['xtick.major.width'] = 2\n",
    "plt.rcParams['xtick.minor.size'] = 3\n",
    "plt.rcParams['xtick.minor.width'] = 2\n",
    "plt.rcParams['ytick.major.size'] = 5\n",
    "plt.rcParams['ytick.major.width'] = 2\n",
    "plt.rcParams['ytick.minor.size'] = 3\n",
    "plt.rcParams['ytick.minor.width'] = 2\n",
    "plt.rcParams['axes.linewidth'] = 2\n",
    "plt.rcParams['lines.linewidth'] = 2\n",
    "plt.rcParams['xtick.labelsize'] = 14\n",
    "plt.rcParams['ytick.labelsize'] = 14\n",
    "plt.ticklabel_format(axis='y', style='sci', scilimits=(-2,2))\n",
    "plt.plot(time, current, 'k')#, label='A', linewidth=2)\n",
    "plt.xlim([0,time[-1]])\n",
    "plt.xlabel('Time (s)', fontsize=20)\n",
    "plt.ylabel('Current (A)', fontsize=20)\n",
    "plt.tight_layout()\n",
    "\n",
    "full_path = parent_dir + output_dir + 'MECSimOutputCt'\n",
    "plt.savefig(full_path + '.png')\n",
    "plt.savefig(full_path + '.ps')\n",
    "plt.savefig(full_path + '.pdf')"
   ]
  },
  {
   "cell_type": "markdown",
   "metadata": {},
   "source": [
    "## Plot current against applied voltage"
   ]
  },
  {
   "cell_type": "code",
   "execution_count": null,
   "metadata": {},
   "outputs": [],
   "source": [
    "plt.figure(figsize=(8,6),dpi=100)\n",
    "plt.ticklabel_format(axis='y', style='sci', scilimits=(-2,2))\n",
    "plt.plot(eapp, current, 'k')#, label='A', linewidth=2)\n",
    "plt.xlabel('Voltage (V)', fontsize=20)\n",
    "plt.ylabel('Current (A)', fontsize=20)\n",
    "plt.tight_layout()\n",
    "\n",
    "full_path = parent_dir + output_dir + 'MECSimOutputCV'\n",
    "plt.savefig(full_path + '.png')\n",
    "plt.savefig(full_path + '.ps')\n",
    "plt.savefig(full_path + '.pdf')"
   ]
  }
 ],
 "metadata": {
  "anaconda-cloud": {},
  "kernelspec": {
   "display_name": "Python 2",
   "language": "python",
   "name": "python2"
  },
  "language_info": {
   "codemirror_mode": {
    "name": "ipython",
    "version": 2
   },
   "file_extension": ".py",
   "mimetype": "text/x-python",
   "name": "python",
   "nbconvert_exporter": "python",
   "pygments_lexer": "ipython2",
   "version": "2.7.12"
  }
 },
 "nbformat": 4,
 "nbformat_minor": 1
}
