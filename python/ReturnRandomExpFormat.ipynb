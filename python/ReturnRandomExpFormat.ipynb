{
 "cells": [
  {
   "cell_type": "markdown",
   "metadata": {},
   "source": [
    "# Return a random number in exp format\n",
    "\n",
    "Called by random sample script"
   ]
  },
  {
   "cell_type": "code",
   "execution_count": null,
   "metadata": {},
   "outputs": [],
   "source": [
    "def returnRandomExpNumber(x_min, x_max, log_uniform=False):\n",
    "    \"\"\"\n",
    "    Return a random number from a range assuming uniform distribution (can be in log) in a specified range.\n",
    "    \n",
    "    Inputs: x_min, x_max as numeric\n",
    "    Outputs: random number x in ExpForm as above\n",
    "    \"\"\"\n",
    "    import random\n",
    "    import numpy as np\n",
    "    if(log_uniform):\n",
    "        if(x_min<0):\n",
    "            x_min = 1.0e-10\n",
    "        x_min = np.log10(x_min)\n",
    "        x_max = np.log10(x_max)\n",
    "        x = random.uniform(x_min, x_max)\n",
    "        x = 10.0**x\n",
    "    else:\n",
    "        x = random.uniform(x_min, x_max)\n",
    "    return x\n",
    "\n",
    "#returnRandomExpNumber(0.001, 1.0e7, log_uniform=True)"
   ]
  },
  {
   "cell_type": "code",
   "execution_count": null,
   "metadata": {},
   "outputs": [],
   "source": [
    "import sys\n",
    "thisCodeName = 'ReturnRandomExpFormat.py'\n",
    "nLength = len(thisCodeName)\n",
    "tailString = sys.argv[0]\n",
    "tailString = tailString[-nLength:]\n",
    "if(tailString==thisCodeName and len(sys.argv)>=3):\n",
    "    # next should be the file name\n",
    "    x_min = float(sys.argv[1])\n",
    "    x_max = float(sys.argv[2])\n",
    "    log_uniform = False\n",
    "    if(len(sys.argv)>=4 and sys.argv[3]==\"True\"):\n",
    "        log_uniform = True\n",
    "    x = returnRandomExpNumber(x_min, x_max, log_uniform)\n",
    "    print(x)\n",
    "else:\n",
    "    print('Error')"
   ]
  }
 ],
 "metadata": {
  "anaconda-cloud": {},
  "kernelspec": {
   "display_name": "Python 3",
   "language": "python",
   "name": "python3"
  },
  "language_info": {
   "codemirror_mode": {
    "name": "ipython",
    "version": 3
   },
   "file_extension": ".py",
   "mimetype": "text/x-python",
   "name": "python",
   "nbconvert_exporter": "python",
   "pygments_lexer": "ipython3",
   "version": "3.7.3"
  }
 },
 "nbformat": 4,
 "nbformat_minor": 1
}
