{
 "cells": [
  {
   "cell_type": "markdown",
   "metadata": {},
   "source": [
    "# Output best fit from posterior output\n",
    "\n",
    "Takes the previously prepared `Master_with_fixed.sk` and substitutes the best fit values for all parameters using the `posterior.txt` final column to provide the probabities. \n",
    "\n",
    "The `Master_with_fixed.sk` file is used rather than `Master.sk` as it has been pre-filled with the fixed parameters set in either `GenerateScript.ipynb` or `RandomlySampleRange.ipynb` during their normal script operation.\n",
    "\n",
    "Requires: \n",
    "1. `Master_with_fixed.sk` exists in the **`script`** directory\n",
    "2. `posterior.txt` exists in the **`output`** directory\n",
    "\n",
    "Outputs a `Master.inp` file containing the best fit parameters into the **`output`** directory.\n",
    "\n",
    "\n",
    "### Caution\n",
    "\n",
    "**This script should not need to be modified by general users.**"
   ]
  },
  {
   "cell_type": "markdown",
   "metadata": {},
   "source": [
    "### Set default file locations"
   ]
  },
  {
   "cell_type": "code",
   "execution_count": 1,
   "metadata": {},
   "outputs": [],
   "source": [
    "# location of parent directory: typically this file will be in python/ so the parent dir is '../'\n",
    "parent_dir = '../'\n",
    "# output dir for results\n",
    "output_dir = 'output/'\n",
    "# script dir for results including the parent directory\n",
    "script_dir = 'script/'\n",
    "# skeleton file\n",
    "skeleton_file = 'Master_with_fixed.sk'\n",
    "# output filename for best fit set\n",
    "best_fit_file = 'Master.inp'\n",
    "# posterior/results file name\n",
    "script_results_file = 'posterior.txt'\n",
    "# using posterior (max prob) or results (min least squares)\n",
    "using_posterior = True\n",
    "\n"
   ]
  },
  {
   "cell_type": "markdown",
   "metadata": {},
   "source": [
    "### Load packages"
   ]
  },
  {
   "cell_type": "code",
   "execution_count": 2,
   "metadata": {},
   "outputs": [],
   "source": [
    "# import required python packages\n",
    "import numpy as np\n",
    "#import pandas as pd\n",
    "import sys\n",
    "import re\n"
   ]
  },
  {
   "cell_type": "markdown",
   "metadata": {},
   "source": [
    "### Check if in script or notebook mode\n",
    "\n",
    "Double check that interactive plotting mode is disabled if running this in script mode"
   ]
  },
  {
   "cell_type": "code",
   "execution_count": 3,
   "metadata": {},
   "outputs": [],
   "source": [
    "thisCodeName = 'OutputBestFit.py'\n",
    "nLength = len(thisCodeName)\n",
    "tailString = sys.argv[0]\n",
    "tailString = tailString[-nLength:]\n",
    "if(tailString==thisCodeName):\n",
    "    parent_dir = 'external/'\n",
    "    if(len(sys.argv)>1):\n",
    "        # next should be the file name\n",
    "        best_fit_file = sys.argv[1]"
   ]
  },
  {
   "cell_type": "markdown",
   "metadata": {},
   "source": [
    "## Read posterior file to get the best fit\n",
    "\n",
    "Read text file with posteriors for each parameter set. Posteriors stored as the final column, so all others are parameters. Exract parameter names and values for each posterior probability row by row."
   ]
  },
  {
   "cell_type": "code",
   "execution_count": 5,
   "metadata": {},
   "outputs": [],
   "source": [
    "# set filename\n",
    "filename = parent_dir + output_dir + script_results_file\n",
    "# read header containing parameter names\n",
    "with open(filename) as f:\n",
    "    header_line = f.readline().split(',')\n",
    "# read posterior data\n",
    "fit_results = np.loadtxt(filename, delimiter=\",\", skiprows=1)"
   ]
  },
  {
   "cell_type": "code",
   "execution_count": 7,
   "metadata": {},
   "outputs": [],
   "source": [
    "# determine number of parameters and their names\n",
    "n_parameters = len(header_line) - 1\n",
    "para_names = header_line[0:-1]\n",
    "# find the row with the highest posterior probability (the best fit)\n",
    "final_metric = fit_results[:, -1]\n",
    "best_fit = np.unravel_index(np.argmax(final_metric, axis=None), final_metric.shape)[0]\n",
    "# create a dictionary in python for each parameter value corresponding to the best fit\n",
    "para_values = [str(x) for x in fit_results[best_fit][0:n_parameters]]\n",
    "replace_dict = dict(zip(para_names, para_values))"
   ]
  },
  {
   "cell_type": "markdown",
   "metadata": {},
   "source": [
    "Define a function for replacing the parameter name strings in `Master_with_fixed.sk` with best fit values."
   ]
  },
  {
   "cell_type": "code",
   "execution_count": 9,
   "metadata": {},
   "outputs": [],
   "source": [
    "def replace(string, substitutions):\n",
    "    substrings = sorted(substitutions, key=len, reverse=True)\n",
    "    regex = re.compile('|'.join(map(re.escape, substrings)))\n",
    "    return regex.sub(lambda match: substitutions[match.group(0)], string)"
   ]
  },
  {
   "cell_type": "markdown",
   "metadata": {},
   "source": [
    "## Read skeleton file and output a best fit Master input file\n",
    "\n",
    "Output the `Master.inp` file with best fit parameters to the **`output`** directory."
   ]
  },
  {
   "cell_type": "code",
   "execution_count": 11,
   "metadata": {},
   "outputs": [],
   "source": [
    "f1 = open(parent_dir + script_dir + skeleton_file, 'r')\n",
    "f2 = open(parent_dir + output_dir + best_fit_file, 'w')\n",
    "for line in f1:\n",
    "    output = replace(str(line), replace_dict)\n",
    "    f2.write(output)\n",
    "f1.close()\n",
    "f2.close()"
   ]
  }
 ],
 "metadata": {
  "anaconda-cloud": {},
  "kernelspec": {
   "display_name": "Python 3",
   "language": "python",
   "name": "python3"
  },
  "language_info": {
   "codemirror_mode": {
    "name": "ipython",
    "version": 3
   },
   "file_extension": ".py",
   "mimetype": "text/x-python",
   "name": "python",
   "nbconvert_exporter": "python",
   "pygments_lexer": "ipython3",
   "version": "3.7.3"
  }
 },
 "nbformat": 4,
 "nbformat_minor": 1
}
