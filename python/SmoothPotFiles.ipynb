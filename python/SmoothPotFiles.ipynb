{
 "cells": [
  {
   "cell_type": "code",
   "execution_count": 1,
   "metadata": {
    "collapsed": false
   },
   "outputs": [],
   "source": [
    "# import required python packages\n",
    "import numpy as np"
   ]
  },
  {
   "cell_type": "code",
   "execution_count": 2,
   "metadata": {
    "collapsed": false
   },
   "outputs": [],
   "source": [
    "# load POT output file\n",
    "# t_MS2, i_MS2, e_MS2 = ReadPOTFile('Raw/GC06_FeIII-1mM_1M-KCl_02_009Hz.txt', tmin, tmax)\n",
    "def ReadPOTFile(filename, tmin, tmax):\n",
    "    f = open(filename, 'r')\n",
    "    time = []\n",
    "    eapp = []\n",
    "    current = []\n",
    "    iCount = 0\n",
    "    iAll = 0\n",
    "    for line in f:\n",
    "        columns = line.split()\n",
    "        if(columns[0][3].isdigit()): # look at 2nd character in case Eapp is \"-\"\n",
    "            thisTime = float(columns[2])\n",
    "            if((thisTime>=tmin) and (thisTime<=tmax)):\n",
    "                time.append(thisTime)\n",
    "                eapp.append(float(columns[0]))\n",
    "                current.append(float(columns[1]))\n",
    "                iCount += 1\n",
    "        iAll += 1\n",
    "    return iCount, time, current, eapp\n",
    "\n",
    "# load MECSim TVS output file\n",
    "def ReadMECSimFile(filename, tmin, tmax):\n",
    "    f = open(filename, 'r')\n",
    "    time = []\n",
    "    eapp = []\n",
    "    current = []\n",
    "    for line in f:\n",
    "        columns = line.split()\n",
    "        if(columns[0][0].isdigit()): # time is first so shouldn't have \"-\" numbers\n",
    "            if((columns[0]>=tmin) and (columns[0]<=tmax)):\n",
    "                time.append(float(columns[0]))\n",
    "                eapp.append(float(columns[1]))\n",
    "                current.append(float(columns[2]))\n",
    "    return time, current, eapp\n",
    "\n",
    "# load DigiElch 7 output file (need to give scan rate to get time)\n",
    "#t_DE1, i_DE1, e_DE1 = ReadDE7File('DE7_surfconc_1e-12_kf1e5.txt', vscan, tmin, tmax)\n",
    "def ReadDE7File(filename, vscan=1, tmin=0, tmax=1):\n",
    "    f = open(filename, 'r')\n",
    "    f.readline()\n",
    "    f.readline()\n",
    "    eapp = []\n",
    "    current = []\n",
    "    for line in f:\n",
    "        columns = line.split()\n",
    "        eapp.append(float(columns[0]))\n",
    "        current.append(-float(columns[1])) # to fit with MECSim current convention\n",
    "# make time based on delta E and vscan\n",
    "    deltaE = abs(eapp[0]-eapp[1])\n",
    "    deltat = deltaE/vscan\n",
    "    time = []\n",
    "    for i in range(1,len(eapp)+1):\n",
    "        time.append(float(i)*deltat)\n",
    "    return time, current, eapp\n"
   ]
  },
  {
   "cell_type": "code",
   "execution_count": 3,
   "metadata": {
    "collapsed": false
   },
   "outputs": [],
   "source": [
    "def AveragedCurrent(t, i, e, tWindow):\n",
    "    iSmooth = list(i)\n",
    "    deltaT = t[1]-t[0] # assumes constant time steps\n",
    "    tEnd = t[-1]\n",
    "    tStart = t[0]\n",
    "    iWindow = int(tWindow/deltaT)+1\n",
    "    RunningTotal = 0.0\n",
    "    iMax = len(t)\n",
    "    iMinW = -iWindow/2\n",
    "    iMaxW = iMinW+iWindow-1\n",
    "    for j in range(0, iWindow):\n",
    "        RunningTotal += i[j]\n",
    "\n",
    "#    print deltaT, tEnd, iWindow\n",
    "    for ii in range(iMax):\n",
    "        iMinW += 1\n",
    "        iMaxW += 1\n",
    "        iSmooth[ii] = RunningTotal\n",
    "        if((iMinW>0) and (iMaxW<iMax)): # shift running total across by one point\n",
    "            RunningTotal += i[iMaxW]\n",
    "            RunningTotal -= i[iMinW]\n",
    "        iSmooth[ii] = RunningTotal/float(iWindow)\n",
    "    return iSmooth"
   ]
  },
  {
   "cell_type": "code",
   "execution_count": 4,
   "metadata": {
    "collapsed": false
   },
   "outputs": [],
   "source": [
    "def SmoothCurrent(t, i, e, tWindow):\n",
    "    iSmooth = list(i)\n",
    "    deltaT = t[1]-t[0] # assumes constant time steps\n",
    "    tEnd = t[-1]\n",
    "    tStart = t[0]\n",
    "    iWindow = int(tWindow/deltaT)+1\n",
    "    windowVal = []\n",
    "    iMax = len(t)\n",
    "    iMinW = -iWindow/2\n",
    "    iMaxW = iMinW+iWindow-1\n",
    "    for j in range(0, iWindow):\n",
    "        windowVal.insert(0, i[j]) # insert at top/pop from bottom\n",
    "    for ii in range(iMax):\n",
    "        iMinW += 1\n",
    "        iMaxW += 1\n",
    "        if((iMinW>0) and (iMaxW<iMax)): # shift running total across by one point\n",
    "            windowVal.pop()\n",
    "            windowVal.insert(0, i[iMaxW])\n",
    "        iSmooth[ii] = max(windowVal)\n",
    "    return iSmooth"
   ]
  },
  {
   "cell_type": "code",
   "execution_count": 5,
   "metadata": {
    "collapsed": false
   },
   "outputs": [
    {
     "ename": "IndexError",
     "evalue": "list index out of range",
     "output_type": "error",
     "traceback": [
      "\u001b[0;31m---------------------------------------------------------------------------\u001b[0m",
      "\u001b[0;31mIndexError\u001b[0m                                Traceback (most recent call last)",
      "\u001b[0;32m<ipython-input-5-f73544f44b1a>\u001b[0m in \u001b[0;36m<module>\u001b[0;34m()\u001b[0m\n\u001b[1;32m      8\u001b[0m \u001b[0mt_MS1\u001b[0m\u001b[0;34m,\u001b[0m \u001b[0mi_MS1\u001b[0m\u001b[0;34m,\u001b[0m \u001b[0me_MS1\u001b[0m \u001b[0;34m=\u001b[0m \u001b[0mReadMECSimFile\u001b[0m\u001b[0;34m(\u001b[0m\u001b[0mfilename\u001b[0m\u001b[0;34m,\u001b[0m \u001b[0mtmin\u001b[0m\u001b[0;34m,\u001b[0m \u001b[0mtmax\u001b[0m\u001b[0;34m)\u001b[0m\u001b[0;34m\u001b[0m\u001b[0m\n\u001b[1;32m      9\u001b[0m \u001b[0;31m# apply smoothing function\u001b[0m\u001b[0;34m\u001b[0m\u001b[0;34m\u001b[0m\u001b[0m\n\u001b[0;32m---> 10\u001b[0;31m \u001b[0mi_Smooth\u001b[0m \u001b[0;34m=\u001b[0m \u001b[0mSmoothCurrent\u001b[0m\u001b[0;34m(\u001b[0m\u001b[0mt_MS1\u001b[0m\u001b[0;34m,\u001b[0m \u001b[0mi_MS1\u001b[0m\u001b[0;34m,\u001b[0m \u001b[0me_MS1\u001b[0m\u001b[0;34m,\u001b[0m \u001b[0mtWindow\u001b[0m\u001b[0;34m)\u001b[0m\u001b[0;34m\u001b[0m\u001b[0m\n\u001b[0m",
      "\u001b[0;32m<ipython-input-4-98fa9a825416>\u001b[0m in \u001b[0;36mSmoothCurrent\u001b[0;34m(t, i, e, tWindow)\u001b[0m\n\u001b[1;32m      1\u001b[0m \u001b[0;32mdef\u001b[0m \u001b[0mSmoothCurrent\u001b[0m\u001b[0;34m(\u001b[0m\u001b[0mt\u001b[0m\u001b[0;34m,\u001b[0m \u001b[0mi\u001b[0m\u001b[0;34m,\u001b[0m \u001b[0me\u001b[0m\u001b[0;34m,\u001b[0m \u001b[0mtWindow\u001b[0m\u001b[0;34m)\u001b[0m\u001b[0;34m:\u001b[0m\u001b[0;34m\u001b[0m\u001b[0m\n\u001b[1;32m      2\u001b[0m     \u001b[0miSmooth\u001b[0m \u001b[0;34m=\u001b[0m \u001b[0mlist\u001b[0m\u001b[0;34m(\u001b[0m\u001b[0mi\u001b[0m\u001b[0;34m)\u001b[0m\u001b[0;34m\u001b[0m\u001b[0m\n\u001b[0;32m----> 3\u001b[0;31m     \u001b[0mdeltaT\u001b[0m \u001b[0;34m=\u001b[0m \u001b[0mt\u001b[0m\u001b[0;34m[\u001b[0m\u001b[0;36m1\u001b[0m\u001b[0;34m]\u001b[0m\u001b[0;34m-\u001b[0m\u001b[0mt\u001b[0m\u001b[0;34m[\u001b[0m\u001b[0;36m0\u001b[0m\u001b[0;34m]\u001b[0m \u001b[0;31m# assumes constant time steps\u001b[0m\u001b[0;34m\u001b[0m\u001b[0m\n\u001b[0m\u001b[1;32m      4\u001b[0m     \u001b[0mtEnd\u001b[0m \u001b[0;34m=\u001b[0m \u001b[0mt\u001b[0m\u001b[0;34m[\u001b[0m\u001b[0;34m-\u001b[0m\u001b[0;36m1\u001b[0m\u001b[0;34m]\u001b[0m\u001b[0;34m\u001b[0m\u001b[0m\n\u001b[1;32m      5\u001b[0m     \u001b[0mtStart\u001b[0m \u001b[0;34m=\u001b[0m \u001b[0mt\u001b[0m\u001b[0;34m[\u001b[0m\u001b[0;36m0\u001b[0m\u001b[0;34m]\u001b[0m\u001b[0;34m\u001b[0m\u001b[0m\n",
      "\u001b[0;31mIndexError\u001b[0m: list index out of range"
     ]
    }
   ],
   "source": [
    "tmin = 0.001\n",
    "tmax = 13.4\n",
    "tWindow = 1.0/9.0  # f_AC = 9Hz\n",
    "filename = 'ExpRawData.txt'\n",
    "# raw experimental data from Elton's potentiostat\n",
    "#iCount, t_MS1, i_MS1, e_MS1 = ReadPOTFile(filename, tmin, tmax)\n",
    "# data format from MECSim\n",
    "t_MS1, i_MS1, e_MS1 = ReadMECSimFile(filename, tmin, tmax)\n",
    "# apply smoothing function\n",
    "i_Smooth = SmoothCurrent(t_MS1, i_MS1, e_MS1, tWindow)"
   ]
  },
  {
   "cell_type": "code",
   "execution_count": null,
   "metadata": {
    "collapsed": true
   },
   "outputs": [],
   "source": [
    "np.savetxt( 'Smoothed.txt', np.c_[t_MS1, i_Smooth])"
   ]
  },
  {
   "cell_type": "code",
   "execution_count": null,
   "metadata": {
    "collapsed": false
   },
   "outputs": [],
   "source": [
    "t_MS1"
   ]
  }
 ],
 "metadata": {
  "anaconda-cloud": {},
  "kernelspec": {
   "display_name": "Python [Root]",
   "language": "python",
   "name": "Python [Root]"
  },
  "language_info": {
   "codemirror_mode": {
    "name": "ipython",
    "version": 2
   },
   "file_extension": ".py",
   "mimetype": "text/x-python",
   "name": "python",
   "nbconvert_exporter": "python",
   "pygments_lexer": "ipython2",
   "version": "2.7.12"
  }
 },
 "nbformat": 4,
 "nbformat_minor": 0
}
