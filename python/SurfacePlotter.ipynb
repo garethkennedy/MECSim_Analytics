{
 "cells": [
  {
   "cell_type": "markdown",
   "metadata": {},
   "source": [
    "# Surface contour plotter\n",
    "\n",
    "Plot the results for single metric parameter sweep given that the first two columns are parameters."
   ]
  },
  {
   "cell_type": "markdown",
   "metadata": {},
   "source": [
    "### Load packages"
   ]
  },
  {
   "cell_type": "code",
   "execution_count": null,
   "metadata": {},
   "outputs": [],
   "source": [
    "import numpy as np\n",
    "from matplotlib  import cm\n",
    "import matplotlib.pyplot as plt\n",
    "import matplotlib.mlab as ml\n",
    "import sys"
   ]
  },
  {
   "cell_type": "markdown",
   "metadata": {},
   "source": [
    "### Parameters\n",
    "\n"
   ]
  },
  {
   "cell_type": "code",
   "execution_count": null,
   "metadata": {},
   "outputs": [],
   "source": [
    "# Set an artifical minimum for the metric value(s)\n",
    "epsilon = 1.0e-6\n",
    "# interactive mode for plotting to screen\n",
    "iPlotInteractive = True\n",
    "# default results file\n",
    "results_file_name_default = 'results.txt'"
   ]
  },
  {
   "cell_type": "markdown",
   "metadata": {},
   "source": [
    "### Set filenames with correct directory structure"
   ]
  },
  {
   "cell_type": "code",
   "execution_count": null,
   "metadata": {},
   "outputs": [],
   "source": [
    "# output dir for results including the parent directory\n",
    "output_dir = '../output/'\n",
    "# script dir for results including the parent directory\n",
    "script_dir = '../script/'\n",
    "\n",
    "# default results file location\n",
    "results_file_name = output_dir + results_file_name_default\n"
   ]
  },
  {
   "cell_type": "markdown",
   "metadata": {},
   "source": [
    "### Results file name\n",
    "\n",
    "Determine results file name - either entered as an argument to the python call here, or default to \"results.txt\"\n"
   ]
  },
  {
   "cell_type": "code",
   "execution_count": null,
   "metadata": {},
   "outputs": [],
   "source": [
    "thisCodeName = 'SurfacePlotter.py'\n",
    "nLength = len(thisCodeName)\n",
    "tailString = sys.argv[0]\n",
    "tailString = tailString[-nLength:]\n",
    "if(tailString==thisCodeName):\n",
    "    if(len(sys.argv)>1):\n",
    "        # next should be the file name\n",
    "        results_file_name = sys.argv[1]\n",
    "    # next should be the output directory name\n",
    "    if(len(sys.argv)>2):\n",
    "        output_dir = sys.argv[2]\n",
    "    # next should be the script directory name\n",
    "    if(len(sys.argv)>3):\n",
    "        script_dir = sys.argv[3]\n",
    "    iPlotInteractive = False\n",
    "    results_file_name = output_dir + results_file_name"
   ]
  },
  {
   "cell_type": "markdown",
   "metadata": {},
   "source": [
    "## Read results data"
   ]
  },
  {
   "cell_type": "code",
   "execution_count": null,
   "metadata": {},
   "outputs": [],
   "source": [
    "lines = [line.rstrip() for line in open(results_file_name)]\n",
    "\n",
    "# first line is header line (remove $ from marker as well)\n",
    "header_line = lines[0].replace('$', '')\n",
    "header_line = header_line.split(',')\n",
    "\n",
    "# assume only two parameters for now\n",
    "n_data = len(lines)-1\n",
    "\n",
    "# loop over data\n",
    "x = []\n",
    "y = []\n",
    "# least squares metric\n",
    "z = []\n",
    "zmin = 1.0e10\n",
    "for i in range(n_data):\n",
    "    columns = np.fromstring(lines[i+1].strip(), dtype=float, sep=',')\n",
    "    x.append(float(columns[0]))\n",
    "    y.append(float(columns[1]))\n",
    "    z.append(float(columns[2]))\n",
    "    z[-1]=z[-1]+epsilon # add epsilon in case of log10(0) issue\n",
    "    if(z[-1]<zmin):\n",
    "        zmin = z[-1]\n",
    "        xAtMin = x[-1]\n",
    "        yAtMin = y[-1]\n",
    "xplotmax = max(x)\n",
    "yplotmax = max(y)\n",
    "xplotmin = min(x)\n",
    "yplotmin = min(y)"
   ]
  },
  {
   "cell_type": "markdown",
   "metadata": {},
   "source": [
    "### Plot axes labels\n",
    "\n",
    "Determine x and y parameter names"
   ]
  },
  {
   "cell_type": "code",
   "execution_count": null,
   "metadata": {},
   "outputs": [],
   "source": [
    "x_name = header_line[0]\n",
    "y_name = header_line[1]"
   ]
  },
  {
   "cell_type": "markdown",
   "metadata": {},
   "source": [
    "### Best fit"
   ]
  },
  {
   "cell_type": "code",
   "execution_count": null,
   "metadata": {},
   "outputs": [],
   "source": [
    "print('Surface plotter with best fit: ',xAtMin, yAtMin, zmin)"
   ]
  },
  {
   "cell_type": "markdown",
   "metadata": {},
   "source": [
    "## Plot\n",
    "\n",
    "### Plotter setup\n",
    "\n",
    "Overall resolution, aesthetic buffer around plot region and enter interactive mode (if requested)"
   ]
  },
  {
   "cell_type": "code",
   "execution_count": null,
   "metadata": {},
   "outputs": [],
   "source": [
    "# set overall data resolution\n",
    "ny, nx = 100, 100\n",
    "\n",
    "# buffer settings\n",
    "bufFactor = 100.\n",
    "bufX = (xplotmax - xplotmin)/bufFactor\n",
    "bufY = (yplotmax - yplotmin)/bufFactor\n",
    "\n",
    "# set to interactive mode\n",
    "if(iPlotInteractive):\n",
    "    %matplotlib inline"
   ]
  },
  {
   "cell_type": "markdown",
   "metadata": {},
   "source": [
    "### Output plot\n",
    "\n",
    "Output to pdf - also to screen if interactive mode set above"
   ]
  },
  {
   "cell_type": "code",
   "execution_count": null,
   "metadata": {},
   "outputs": [],
   "source": [
    "deltax = (xplotmax - xplotmin)/float(nx)\n",
    "deltay = (yplotmax - yplotmin)/float(ny)\n",
    "xmin = xplotmin-bufX\n",
    "xmax = xplotmax+bufX\n",
    "ymin = yplotmin-bufY\n",
    "ymax = yplotmax+bufY\n",
    "xi = np.arange(xmin-bufX, xmax+bufX, deltax)\n",
    "yi = np.arange(ymin-bufY, ymax+bufY, deltay)\n",
    "zlog = np.log10(z)\n",
    "#zi = ml.griddata(x, y, zlog, xi, yi, interp='nn') # 'nn' for incomplete data; 'linear' if complete\n",
    "zi = ml.griddata(x, y, zlog, xi, yi, interp='linear') # 'nn' for incomplete data; 'linear' if complete\n",
    "\n",
    "plt.figure(figsize=(8,6),dpi=100)\n",
    "plt.rcParams['xtick.major.size'] = 5\n",
    "plt.rcParams['xtick.major.width'] = 2\n",
    "plt.rcParams['xtick.minor.size'] = 3\n",
    "plt.rcParams['xtick.minor.width'] = 2\n",
    "plt.rcParams['ytick.major.size'] = 5\n",
    "plt.rcParams['ytick.major.width'] = 2\n",
    "plt.rcParams['ytick.minor.size'] = 3\n",
    "plt.rcParams['ytick.minor.width'] = 2\n",
    "plt.rcParams['axes.linewidth'] = 2\n",
    "plt.rcParams['lines.linewidth'] = 2\n",
    "plt.rcParams['xtick.labelsize'] = 14\n",
    "plt.rcParams['ytick.labelsize'] = 14\n",
    "plt.rcParams['contour.negative_linestyle'] = 'solid'\n",
    "plt.rcParams['xtick.direction'] = 'out'\n",
    "plt.rcParams['ytick.direction'] = 'out'\n",
    "plt.ticklabel_format(axis='y', style='sci', scilimits=(-2,2))\n",
    "CS = plt.contour(xi, yi, zi, 10, linewidths = 0.5, colors = 'k')\n",
    "# Define a class that forces representation of float to look a certain way\n",
    "# This remove trailing zero so '1.0' becomes '1'\n",
    "class nf(float):\n",
    "    def __repr__(self):\n",
    "        str = '%.2f' % (self.__float__(),)\n",
    "        if str[-1] == '0':\n",
    "            return '%.2f' % self.__float__()\n",
    "        else:\n",
    "            return '%.2f' % self.__float__()\n",
    "\n",
    "# Recast levels to new class\n",
    "CS.levels = [nf(val) for val in CS.levels]\n",
    "\n",
    "# Label levels with specially formatted floats\n",
    "if plt.rcParams[\"text.usetex\"]:\n",
    "    fmt = r'%r'\n",
    "else:\n",
    "    fmt = '%r'\n",
    "plt.clabel(CS, CS.levels, inline=True, fmt=fmt, fontsize=12)\n",
    "#plt.clabel(CS, inline=1, fontsize=10)\n",
    "plt.pcolormesh(xi, yi, zi, cmap = plt.get_cmap('rainbow'))\n",
    "plt.colorbar().set_label(label='log$_{10}$S',size=15)\n",
    "# lit values\n",
    "#plt.scatter(0.0115, 0.217, marker = 'o', c = 'white', s = 100, zorder = 10)\n",
    "plt.xlim(xmin, xmax)\n",
    "plt.ylim(ymin, ymax)\n",
    "# change x/y labels\n",
    "plt.xlabel(x_name, fontsize=18)\n",
    "plt.ylabel(y_name, fontsize=18)\n",
    "#plt.xlabel(\"k$^0$ (cm s$^{-1}$)\",fontsize=18)\n",
    "#plt.ylabel(\"E$^0$ (V)\",fontsize=18)\n",
    "# save figures to PDF and png\n",
    "plt.savefig(output_dir + \"surface_plot.pdf\", dpi=400)\n",
    "plt.savefig(output_dir + \"surface_plot.png\", dpi=400)\n",
    "if(iPlotInteractive):\n",
    "    plt.show()"
   ]
  }
 ],
 "metadata": {
  "anaconda-cloud": {},
  "kernelspec": {
   "display_name": "Python 3",
   "language": "python",
   "name": "python3"
  },
  "language_info": {
   "codemirror_mode": {
    "name": "ipython",
    "version": 3
   },
   "file_extension": ".py",
   "mimetype": "text/x-python",
   "name": "python",
   "nbconvert_exporter": "python",
   "pygments_lexer": "ipython3",
   "version": "3.7.3"
  }
 },
 "nbformat": 4,
 "nbformat_minor": 1
}
