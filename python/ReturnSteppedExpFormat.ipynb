{
 "cells": [
  {
   "cell_type": "markdown",
   "metadata": {},
   "source": [
    "# Return a stepped number in exp format\n",
    "\n",
    "Return a number from a sequence using step i of n_max where delta_x is either linear between the min and max points or log."
   ]
  },
  {
   "cell_type": "code",
   "execution_count": 7,
   "metadata": {
    "collapsed": false
   },
   "outputs": [],
   "source": [
    "def returnSteppedExpNumber(x_min, x_max, i, n_max, log_uniform=False):\n",
    "    \"\"\"\n",
    "    Return a random number from a range assuming uniform distribution (can be in log) in a specified range.\n",
    "    \n",
    "    Inputs: x_min, x_max as numeric\n",
    "    Outputs: random number x in ExpForm as above\n",
    "    \"\"\"\n",
    "    import random\n",
    "    import numpy as np\n",
    "    if(log_uniform):\n",
    "        if(x_min<0):\n",
    "            x_min = 1.0e-10\n",
    "        x_min = np.log10(x_min)\n",
    "        x_max = np.log10(x_max)\n",
    "        delta_x = (x_max - x_min)/float(n_max-1)\n",
    "        x = delta_x*float(i) + x_min\n",
    "        x = 10.0**x\n",
    "    else:\n",
    "        delta_x = (x_max - x_min)/float(n_max-1)\n",
    "        x = delta_x*float(i) + x_min\n",
    "    return x\n",
    "\n",
    "#for i in range(10):\n",
    "#    print(i, returnSteppedExpNumber(0.001, 1.0e7, i, 10, log_uniform=True))\n",
    "#    print(i, returnSteppedExpNumber(1.0, 1.0e2, i, 10, log_uniform=False))"
   ]
  },
  {
   "cell_type": "code",
   "execution_count": null,
   "metadata": {
    "collapsed": false
   },
   "outputs": [],
   "source": [
    "import sys\n",
    "thisCodeName = 'ReturnSteppedExpFormat.py'\n",
    "nLength = len(thisCodeName)\n",
    "tailString = sys.argv[0]\n",
    "tailString = tailString[-nLength:]\n",
    "if(tailString==thisCodeName and len(sys.argv)>=3):\n",
    "    # next should be the parameters\n",
    "    x_min = float(sys.argv[1])\n",
    "    x_max = float(sys.argv[2])\n",
    "    i = int(sys.argv[3])\n",
    "    n_max = int(sys.argv[4])\n",
    "    log_uniform = False\n",
    "    if(len(sys.argv)>=6 and sys.argv[5]==\"True\"):\n",
    "        log_uniform = True\n",
    "    x = returnSteppedExpNumber(x_min, x_max, i, n_max, log_uniform)\n",
    "    print(x)\n",
    "else:\n",
    "    print('Error')"
   ]
  }
 ],
 "metadata": {
  "anaconda-cloud": {},
  "kernelspec": {
   "display_name": "Python 2",
   "language": "python",
   "name": "python2"
  },
  "language_info": {
   "codemirror_mode": {
    "name": "ipython",
    "version": 2
   },
   "file_extension": ".py",
   "mimetype": "text/x-python",
   "name": "python",
   "nbconvert_exporter": "python",
   "pygments_lexer": "ipython2",
   "version": "2.7.12"
  }
 },
 "nbformat": 4,
 "nbformat_minor": 0
}
