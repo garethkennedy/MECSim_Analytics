{
 "cells": [
  {
   "cell_type": "markdown",
   "metadata": {
    "collapsed": false
   },
   "source": [
    "# Generate script\n",
    "\n",
    "Input parameters and simulation parameters\n",
    "\n",
    "## Parameters\n"
   ]
  },
  {
   "cell_type": "code",
   "execution_count": 34,
   "metadata": {
    "collapsed": true
   },
   "outputs": [],
   "source": [
    "import numpy as np"
   ]
  },
  {
   "cell_type": "markdown",
   "metadata": {},
   "source": [
    "### Set variable ranges\n",
    "\n",
    "Name mappings for \"master.sk\" and the ranges"
   ]
  },
  {
   "cell_type": "code",
   "execution_count": 35,
   "metadata": {
    "collapsed": true
   },
   "outputs": [],
   "source": [
    "x_name = '$kzero'\n",
    "x_min = 0.3\n",
    "x_max = 0.7\n",
    "del_x = 0.2\n",
    "\n",
    "y_name = '$Ezero'\n",
    "y_min = -0.1\n",
    "y_max = 0.1\n",
    "del_y = 0.1"
   ]
  },
  {
   "cell_type": "markdown",
   "metadata": {},
   "source": [
    "### File names\n",
    "\n",
    "Results name - and if it is pre-existing"
   ]
  },
  {
   "cell_type": "code",
   "execution_count": 36,
   "metadata": {
    "collapsed": true
   },
   "outputs": [],
   "source": [
    "results_name = 'results.txt'\n",
    "results_exists = False\n",
    "script_name = 'script.sh'"
   ]
  },
  {
   "cell_type": "markdown",
   "metadata": {},
   "source": [
    "### Settings"
   ]
  },
  {
   "cell_type": "code",
   "execution_count": 37,
   "metadata": {
    "collapsed": true
   },
   "outputs": [],
   "source": [
    "# raw data files (sim/experiment)\n",
    "raw_data_sim = 'MECSimOutput_Pot.txt'\n",
    "raw_data_exp = 'ExperimentalOut.txt'\n",
    "# preform harmonic splitter analysis on the experimental data\n",
    "harmonic_analysis_exp = True\n",
    "# number of harmonics\n",
    "number_harmonics = 6\n",
    "# only 1 needed for simulations (Hz)\n",
    "frequency_bandwidth = 1.\n",
    "\n",
    "# filename for smoothed experimental output\n",
    "filename_exp = 'ExpSmoothed.txt'\n",
    "# filename for smoothed simulation output\n",
    "filename_sim = 'Smoothed.txt'\n",
    "# results file to append to\n",
    "results_name = 'results.txt'\n"
   ]
  },
  {
   "cell_type": "markdown",
   "metadata": {},
   "source": [
    "### Script method"
   ]
  },
  {
   "cell_type": "code",
   "execution_count": 38,
   "metadata": {
    "collapsed": true
   },
   "outputs": [],
   "source": [
    "method_type = 'grid'"
   ]
  },
  {
   "cell_type": "markdown",
   "metadata": {},
   "source": [
    "## Statistics"
   ]
  },
  {
   "cell_type": "code",
   "execution_count": 39,
   "metadata": {
    "collapsed": false
   },
   "outputs": [
    {
     "name": "stdout",
     "output_type": "stream",
     "text": [
      "Number in x range:  3\n",
      "Number in y range:  3\n",
      "Total number of runs:  9\n"
     ]
    }
   ],
   "source": [
    "n_runs_x = int(round((x_max-x_min)/del_x) + 1)\n",
    "n_runs_y = int(round((y_max-y_min)/del_y) + 1)\n",
    "\n",
    "number_of_runs = int(round(n_runs_x * n_runs_y))\n",
    "print \"Number in x range: \", n_runs_x\n",
    "print \"Number in y range: \", n_runs_y\n",
    "print \"Total number of runs: \", number_of_runs"
   ]
  },
  {
   "cell_type": "markdown",
   "metadata": {},
   "source": [
    "## Output settings file\n"
   ]
  },
  {
   "cell_type": "code",
   "execution_count": 40,
   "metadata": {
    "collapsed": true
   },
   "outputs": [],
   "source": [
    "f = open('Settings.inp', 'w')\n",
    "f.write(str(raw_data_exp) + \"\\t# experiment raw data filename\\n\")\n",
    "f.write(str(raw_data_sim) + \"\\t# simulation output filename\\n\")\n",
    "f.write(str(number_harmonics) + \"\\t# number of harmonics\\n\")\n",
    "f.write(str(frequency_bandwidth) + \"\\t# bandwidth frequency (Hz)\\n\")\n",
    "f.write(str(filename_exp) + \"\\t# filename for smoothed experimental output\\n\")\n",
    "f.write(str(filename_sim) + \"\\t# filename for smoothed simulation output\\n\")\n",
    "f.write(str(results_name) + \"\\t# results file to append to\\n\")\n",
    "f.close()"
   ]
  },
  {
   "cell_type": "markdown",
   "metadata": {
    "collapsed": true
   },
   "source": [
    "## Prepare script\n"
   ]
  },
  {
   "cell_type": "code",
   "execution_count": 41,
   "metadata": {
    "collapsed": false
   },
   "outputs": [],
   "source": [
    "def ConvertXToXExpForm(x_min, x_max, del_x):\n",
    "    \"\"\"\n",
    "    Convert min/max/delta into a minimum common exponential form\n",
    "    e.g. 1.4e-4, 1.0e-5 have 1e-5 as the minimum. \n",
    "    So the first becomes 14e-5 while the second remains as it is.\n",
    "    \n",
    "    Everything must be integer\n",
    "    \"\"\"\n",
    "    if(del_x>0):\n",
    "        x_min_unit = del_x\n",
    "        if(x_min>0):\n",
    "            x_min_unit = min(del_x, x_min)\n",
    "    else:\n",
    "        x_min_unit = x_min\n",
    "    x_exp = np.floor(np.log10(np.abs(x_min_unit))).astype(int)\n",
    "    x_exp_unit = 10**x_exp\n",
    "    x_min_exp = x_min / x_exp_unit\n",
    "    x_max_exp = x_max / x_exp_unit\n",
    "    del_x_exp = del_x / x_exp_unit\n",
    "    return x_min_exp.astype(int), x_max_exp.astype(int), del_x_exp.astype(int), x_exp.astype(int)"
   ]
  },
  {
   "cell_type": "markdown",
   "metadata": {},
   "source": [
    "### Common exp form\n",
    "\n",
    "If more dimensions then add more here (and to parameters above)"
   ]
  },
  {
   "cell_type": "code",
   "execution_count": 42,
   "metadata": {
    "collapsed": false
   },
   "outputs": [],
   "source": [
    "x_min_exp, x_max_exp, del_x_exp, x_exp = ConvertXToXExpForm(x_min, x_max, del_x)\n",
    "y_min_exp, y_max_exp, del_y_exp, y_exp = ConvertXToXExpForm(y_min, y_max, del_y)\n"
   ]
  },
  {
   "cell_type": "markdown",
   "metadata": {},
   "source": [
    "### Output script to file\n",
    "\n",
    "Depending on the method type selected then output a text file in bash script format for running MECSim with the analysis tools.\n",
    "\n",
    "First set any by hand parameters. For example if you have a constant e0val=0.2 but want to keep the skeleton file general with $e0val in there. \n",
    "\n",
    "Note that you'll need to be careful to integrate these into the script generation yourself."
   ]
  },
  {
   "cell_type": "code",
   "execution_count": 43,
   "metadata": {
    "collapsed": false
   },
   "outputs": [],
   "source": [
    "#with open(script_name, \"w\") as text_file:\n",
    "#    text_file.write(\"#!/bin/bash\\n\")\n",
    "#    text_file.write(\"Ru=0.0\\n\")\n",
    "#    text_file.write(\"CapA0=22.5e-6\\n\")\n"
   ]
  },
  {
   "cell_type": "markdown",
   "metadata": {},
   "source": [
    "Method dependent writing"
   ]
  },
  {
   "cell_type": "code",
   "execution_count": 44,
   "metadata": {
    "collapsed": false
   },
   "outputs": [
    {
     "name": "stdout",
     "output_type": "stream",
     "text": [
      "Using grid method\n"
     ]
    }
   ],
   "source": [
    "if(method_type=='grid'):\n",
    "    print 'Using grid method'\n",
    "#    with open(script_name, \"a\") as text_file:\n",
    "    with open(script_name, \"w\") as text_file:\n",
    "        text_file.write(\"#!/bin/bash\\n\")\n",
    "        text_file.write(\"xmin={0}\\n\".format(x_min_exp))\n",
    "        text_file.write(\"xmax={0}\\n\".format(x_max_exp))\n",
    "        text_file.write(\"xdel={0}\\n\".format(del_x_exp))\n",
    "        text_file.write(\"xext=e{0}\\n\".format(x_exp))\n",
    "        text_file.write(\"ymin={0}\\n\".format(y_min_exp))\n",
    "        text_file.write(\"ymax={0}\\n\".format(y_max_exp))\n",
    "        text_file.write(\"ydel={0}\\n\".format(del_y_exp))\n",
    "        text_file.write(\"yext=e{0}\\n\".format(y_exp))\n",
    "        text_file.write(\"x=$xmin\\n\")\n",
    "        # also use the harmonic splitter on exp raw data\n",
    "        if(harmonic_analysis_exp):\n",
    "            text_file.write(\"python HarmonicSplitter.py -script -exp\\n\")\n",
    "        # only put this in if there is no results file existing\n",
    "        # WARNING: be careful not to overwrite pre-existing files\n",
    "        if(not results_exists):\n",
    "            text_file.write(\"> {0}\\n\".format(results_name))\n",
    "        text_file.write(\"while [ $x -le $xmax ]\\n\")\n",
    "        text_file.write(\"do\\n\")\n",
    "        text_file.write(\"  y=$ymin\\n\")\n",
    "        text_file.write(\"  while [ $y -le $ymax ]\\n\")\n",
    "        text_file.write(\"  do\\n\")\n",
    "        text_file.write(\"    cp Master.sk Master.inp\\n\")\n",
    "        text_file.write(\"    sed -i 's/{0}/'$x$xext'/g' Master.inp\\n\".format(x_name))\n",
    "        text_file.write(\"    sed -i 's/{0}/'$y$yext'/g' Master.inp\\n\".format(y_name))\n",
    "        # run MECSim with text output redirected to a file \"log.txt\"\n",
    "        text_file.write(\"    ./MECSim > log.txt\\n\")\n",
    "        text_file.write(\"    python HarmonicSplitter.py -script\\n\")\n",
    "        text_file.write(\"    python CompareSmoothed.py -script $x$xext $y$yext\\n\")\n",
    "        text_file.write(\"    y=$((y+ydel))\\n\")\n",
    "        text_file.write(\"  done\\n\")\n",
    "        text_file.write(\"  x=$((x+xdel))\\n\")\n",
    "        text_file.write(\"done\\n\")\n"
   ]
  }
 ],
 "metadata": {
  "anaconda-cloud": {},
  "kernelspec": {
   "display_name": "Python [conda root]",
   "language": "python",
   "name": "conda-root-py"
  },
  "language_info": {
   "codemirror_mode": {
    "name": "ipython",
    "version": 2
   },
   "file_extension": ".py",
   "mimetype": "text/x-python",
   "name": "python",
   "nbconvert_exporter": "python",
   "pygments_lexer": "ipython2",
   "version": "2.7.12"
  }
 },
 "nbformat": 4,
 "nbformat_minor": 0
}
