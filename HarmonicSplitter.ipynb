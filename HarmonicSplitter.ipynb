{
 "cells": [
  {
   "cell_type": "markdown",
   "metadata": {},
   "source": [
    "# Harmonic splitter\n",
    "\n",
    "Go through either experimental or simulation data to isolate the frequencies."
   ]
  },
  {
   "cell_type": "markdown",
   "metadata": {},
   "source": [
    "## Script parameters"
   ]
  },
  {
   "cell_type": "code",
   "execution_count": 81,
   "metadata": {
    "collapsed": true
   },
   "outputs": [],
   "source": [
    "# output to screen (useful if interactive)\n",
    "iOutputToScreen = True\n",
    "# output plots to screen (useful if interactive)\n",
    "plotInteractive = True\n",
    "# default to non script mode \n",
    "# (corrected later if this is called from script.sh)\n",
    "iScriptMode = False"
   ]
  },
  {
   "cell_type": "markdown",
   "metadata": {},
   "source": [
    "### Load packages"
   ]
  },
  {
   "cell_type": "code",
   "execution_count": 82,
   "metadata": {
    "collapsed": false
   },
   "outputs": [],
   "source": [
    "# import required python packages\n",
    "import numpy as np\n",
    "from scipy.fftpack import rfft, irfft, fftfreq\n",
    "import sys"
   ]
  },
  {
   "cell_type": "markdown",
   "metadata": {},
   "source": [
    "## Read settings\n",
    "\n",
    "Read file names and parameters from settings file made by GenerateScript\n",
    "\n",
    "Filenames set by input argument either simulation or experiment"
   ]
  },
  {
   "cell_type": "code",
   "execution_count": 83,
   "metadata": {
    "collapsed": false
   },
   "outputs": [],
   "source": [
    "lines = [line.rstrip('\\n') for line in open('Settings.inp')]\n",
    "raw_data_exp = lines[0].strip().split()[0]\n",
    "raw_data_sim = lines[1].strip().split()[0]\n",
    "number_harmonics = int(lines[2].strip().split()[0])\n",
    "frequency_bandwidth = float(lines[3].strip().split()[0])\n",
    "filename_exp = lines[4].strip().split()[0]\n",
    "filename_sim = lines[5].strip().split()[0]\n",
    "results_name = lines[6].strip().split()[0]"
   ]
  },
  {
   "cell_type": "markdown",
   "metadata": {},
   "source": [
    "## Simulation or experiment inputs\n",
    "\n",
    "Take arguments from command line. Argument specifies which filename to select."
   ]
  },
  {
   "cell_type": "code",
   "execution_count": 99,
   "metadata": {
    "collapsed": false
   },
   "outputs": [],
   "source": [
    "filename_out = filename_sim\n",
    "data_input = raw_data_sim\n",
    "if(len(sys.argv)>1):\n",
    "    if(sys.argv[1]=='-script'):\n",
    "        iScriptMode = True\n",
    "        iOutputToScreen = False\n",
    "        plotInteractive = False\n",
    "        filename_out = filename_sim\n",
    "        data_input = raw_data_sim\n",
    "        if(len(sys.argv)>2):\n",
    "            if(sys.argv[2]=='-exp'):\n",
    "                filename_out = filename_exp\n",
    "                data_input = raw_data_exp"
   ]
  },
  {
   "cell_type": "markdown",
   "metadata": {},
   "source": [
    "## Define functions\n",
    "\n",
    "Read the data file using the format from POT software also used as default by MECSim. Time, current then applied potential"
   ]
  },
  {
   "cell_type": "code",
   "execution_count": 85,
   "metadata": {
    "collapsed": false
   },
   "outputs": [],
   "source": [
    "# load POT output file\n",
    "def ReadPOTFileFreq(filename):\n",
    "    f = open(filename, 'r')\n",
    "    time = []\n",
    "    eapp = []\n",
    "    current = []\n",
    "    freq = []\n",
    "    amp = []\n",
    "    phase = []\n",
    "    nfreq = 0\n",
    "    iCount = 0\n",
    "    iAll = 0\n",
    "    for line in f:\n",
    "        columns = line.split()\n",
    "        if(columns[0][3:7].isdigit()): # look at 2nd character in case Eapp is \"-\"\n",
    "            thisTime = float(columns[2])\n",
    "            time.append(thisTime)\n",
    "            eapp.append(float(columns[0]))\n",
    "            current.append(float(columns[1]))\n",
    "            iCount += 1\n",
    "        else:\n",
    "            if(columns[0][0:3]=='Fre'):\n",
    "                freq.append(float(columns[1]))\n",
    "            if(columns[0][0:3]=='Amp'):\n",
    "                amp.append(float(columns[1]))\n",
    "                if(amp[-1]!=0.0):\n",
    "                    nfreq += 1\n",
    "            if(columns[0][0:3]=='Pha'):\n",
    "                phase.append(float(columns[1])) # not always there\n",
    "        iAll += 1\n",
    "    return iCount, nfreq, freq, amp, time, current, eapp"
   ]
  },
  {
   "cell_type": "markdown",
   "metadata": {},
   "source": [
    "Smooth the current as an envelope of the current as a function of time"
   ]
  },
  {
   "cell_type": "code",
   "execution_count": 86,
   "metadata": {
    "collapsed": true
   },
   "outputs": [],
   "source": [
    "def SmoothCurrent(t, i, e, tWindow):\n",
    "    iSmooth = list(i)\n",
    "    deltaT = t[1]-t[0] # assumes constant time steps\n",
    "    tEnd = t[-1]\n",
    "    tStart = t[0]\n",
    "    iWindow = int(tWindow/deltaT)+1\n",
    "    windowVal = []\n",
    "    iMax = len(t)\n",
    "    iMinW = -iWindow/2\n",
    "    iMaxW = iMinW+iWindow-1\n",
    "    for j in range(0, iWindow):\n",
    "        windowVal.insert(0, i[j]) # insert at top/pop from bottom\n",
    "    for ii in range(iMax):\n",
    "        iMinW += 1\n",
    "        iMaxW += 1\n",
    "        if((iMinW>0) and (iMaxW<iMax)): # shift running total across by one point\n",
    "            windowVal.pop()\n",
    "            windowVal.insert(0, i[iMaxW])\n",
    "        iSmooth[ii] = max(windowVal)\n",
    "    return iSmooth"
   ]
  },
  {
   "cell_type": "markdown",
   "metadata": {},
   "source": [
    "## Read data file\n",
    "\n",
    "Read in data from the POT file"
   ]
  },
  {
   "cell_type": "code",
   "execution_count": 87,
   "metadata": {
    "collapsed": false
   },
   "outputs": [],
   "source": [
    "iCount, nfreq, freq, amp, time, current, eapp = ReadPOTFileFreq(data_input)\n",
    "t = np.array(time)\n",
    "c = np.array(current)\n",
    "ea = np.array(eapp)"
   ]
  },
  {
   "cell_type": "markdown",
   "metadata": {},
   "source": [
    "Length of data"
   ]
  },
  {
   "cell_type": "code",
   "execution_count": 88,
   "metadata": {
    "collapsed": false
   },
   "outputs": [],
   "source": [
    "n_data_length = len(t)"
   ]
  },
  {
   "cell_type": "markdown",
   "metadata": {},
   "source": [
    "Isolate ac fundamental frequencies\n",
    "---"
   ]
  },
  {
   "cell_type": "code",
   "execution_count": 89,
   "metadata": {
    "collapsed": false
   },
   "outputs": [
    {
     "name": "stdout",
     "output_type": "stream",
     "text": [
      "f_min =  22.01647  ; t_window =  0.0454205419852\n"
     ]
    }
   ],
   "source": [
    "freqMin = min(freq[0:nfreq])\n",
    "tWindow = 1.0/freqMin\n",
    "if(iOutputToScreen):\n",
    "    print 'f_min = ',freqMin,' ; t_window = ',tWindow"
   ]
  },
  {
   "cell_type": "markdown",
   "metadata": {},
   "source": [
    "FFT of the time series data\n",
    "---\n",
    "\n",
    "Single frequency is assumed for now. Do all harmonics of it (and dc)."
   ]
  },
  {
   "cell_type": "code",
   "execution_count": 90,
   "metadata": {
    "collapsed": false
   },
   "outputs": [],
   "source": [
    "i_Harm = []\n",
    "c_Harm = []\n",
    "\n",
    "W = fftfreq(c.size, d=2*(t[1]-t[0]))\n",
    "f_signal = rfft(c)\n",
    "cut_f_signal = f_signal.copy()\n",
    "cut_f_signal[(W>0.5*freq[0])] = 0\n",
    "cut_signal = irfft(cut_f_signal)\n",
    "\n",
    "c_Harm.append(cut_signal)\n",
    "i_Harm.append(SmoothCurrent(t, cut_signal, eapp, tWindow))\n",
    "\n",
    "for iH in range(number_harmonics):\n",
    "    iHarm = iH + 1\n",
    "    fH = float(iHarm)\n",
    "    W = fftfreq(c.size, d=2*(t[1]-t[0]))\n",
    "    f_signal = rfft(c)\n",
    "    cut_f_signal = f_signal.copy()\n",
    "    cut_f_signal[(W<(fH*freq[0]-frequency_bandwidth))] = 0\n",
    "    cut_f_signal[(W>(fH*freq[0]+frequency_bandwidth))] = 0\n",
    "    cut_signal = irfft(cut_f_signal)\n",
    "    c_Harm.append(cut_signal)\n",
    "    i_Harm.append(SmoothCurrent(t, cut_signal, eapp, tWindow))\n"
   ]
  },
  {
   "cell_type": "markdown",
   "metadata": {
    "collapsed": true
   },
   "source": [
    "Save relevant data"
   ]
  },
  {
   "cell_type": "code",
   "execution_count": 91,
   "metadata": {
    "collapsed": false
   },
   "outputs": [],
   "source": [
    "data_output = t\n",
    "for i in range(number_harmonics+1):\n",
    "    data_output = np.concatenate((data_output, i_Harm[i]), axis=0)\n",
    "\n",
    "data_output = np.reshape(data_output, (number_harmonics+2, n_data_length))\n",
    "data_output = data_output.T\n",
    "np.savetxt(filename_out, data_output)"
   ]
  },
  {
   "cell_type": "markdown",
   "metadata": {
    "collapsed": true
   },
   "source": [
    "## Use interactive plotter\n",
    "\n",
    "ONLY if not using this in bash script"
   ]
  },
  {
   "cell_type": "code",
   "execution_count": 92,
   "metadata": {
    "collapsed": false
   },
   "outputs": [
    {
     "data": {
      "image/png": "[encoded data removed]",
      "text/plain": [
       "<matplotlib.figure.Figure at 0x4427908>"
      ]
     },
     "metadata": {},
     "output_type": "display_data"
    }
   ],
   "source": [
    "if(plotInteractive):\n",
    "    import matplotlib.pyplot as plt\n",
    "    %matplotlib inline\n",
    "    for i in range(number_harmonics):\n",
    "        iH = i+1\n",
    "        plt.plot(t, i_Harm[iH],c='r')\n",
    "    plt.show()"
   ]
  },
  {
   "cell_type": "code",
   "execution_count": 93,
   "metadata": {
    "collapsed": false
   },
   "outputs": [
    {
     "data": {
      "image/png": "[encoded data removed]",
      "text/plain": [
       "<matplotlib.figure.Figure at 0x828cc18>"
      ]
     },
     "metadata": {},
     "output_type": "display_data"
    }
   ],
   "source": [
    "if(plotInteractive):\n",
    "    plt.subplot(221)\n",
    "    plt.plot(t,c)\n",
    "    plt.subplot(222)\n",
    "    plt.plot(W,f_signal)\n",
    "    plt.xlim(0,100)\n",
    "    plt.subplot(223)\n",
    "    plt.plot(W,cut_f_signal)\n",
    "    plt.xlim(0,100)\n",
    "    plt.subplot(224)\n",
    "    plt.plot(t,cut_signal)\n",
    "    plt.show()"
   ]
  },
  {
   "cell_type": "code",
   "execution_count": 94,
   "metadata": {
    "collapsed": false
   },
   "outputs": [
    {
     "data": {
      "image/png": "[encoded data removed]",
      "text/plain": [
       "<matplotlib.figure.Figure at 0x81b27f0>"
      ]
     },
     "metadata": {},
     "output_type": "display_data"
    }
   ],
   "source": [
    "if(plotInteractive):\n",
    "    iH = 1\n",
    "    plt.plot(t, c_Harm[iH],c='k')\n",
    "    plt.plot(t, i_Harm[iH],c='r')\n",
    "    plt.show()"
   ]
  }
 ],
 "metadata": {
  "anaconda-cloud": {},
  "kernelspec": {
   "display_name": "Python [Root]",
   "language": "python",
   "name": "Python [Root]"
  },
  "language_info": {
   "codemirror_mode": {
    "name": "ipython",
    "version": 2
   },
   "file_extension": ".py",
   "mimetype": "text/x-python",
   "name": "python",
   "nbconvert_exporter": "python",
   "pygments_lexer": "ipython2",
   "version": "2.7.12"
  }
 },
 "nbformat": 4,
 "nbformat_minor": 0
}
